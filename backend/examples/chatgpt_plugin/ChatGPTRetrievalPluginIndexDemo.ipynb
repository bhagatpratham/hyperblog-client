{
    "cells": [
        {
            "cell_type": "markdown",
            "id": "307804a3-c02b-4a57-ac0d-172c30ddc851",
            "metadata": {},
            "source": [
                "# ChatGPT Retrieval Plugin Index Demo"
            ]
        },
        {
            "cell_type": "code",
            "execution_count": 2,
            "id": "d48af8e1",
            "metadata": {
                "tags": []
            },
            "outputs": [],
            "source": [
                "import logging\n",
                "import sys\n",
                "\n",
                "logging.basicConfig(stream=sys.stdout, level=logging.INFO)\n",
                "logging.getLogger().addHandler(logging.StreamHandler(stream=sys.stdout))"
            ]
        },
        {
            "cell_type": "markdown",
            "id": "8ee4473a-094f-4d0a-a825-e1213db07240",
            "metadata": {},
            "source": [
                "#### Load documents, build index"
            ]
        },
        {
            "cell_type": "code",
            "execution_count": 3,
            "id": "0a2bcc07",
            "metadata": {
                "tags": []
            },
            "outputs": [
                {
                    "name": "stderr",
                    "output_type": "stream",
                    "text": [
                        "/Users/jerryliu/Programming/llama_index/.venv/lib/python3.10/site-packages/tqdm/auto.py:21: TqdmWarning: IProgress not found. Please update jupyter and ipywidgets. See https://ipywidgets.readthedocs.io/en/stable/user_install.html\n",
                        "  from .autonotebook import tqdm as notebook_tqdm\n"
                    ]
                }
            ],
            "source": [
                "from llama_index.indices.vector_store import ChatGPTRetrievalPluginIndex\n",
                "from llama_index import SimpleDirectoryReader\n",
                "import os"
            ]
        },
        {
            "cell_type": "code",
            "execution_count": 4,
            "id": "68cbd239-880e-41a3-98d8-dbb3fab55431",
            "metadata": {
                "tags": []
            },
            "outputs": [],
            "source": [
                "# load documents\n",
                "documents = SimpleDirectoryReader('../paul_graham_essay/data').load_data()"
            ]
        },
        {
            "cell_type": "markdown",
            "id": "2d04ea94-37bd-4368-926e-b34ba9a4a827",
            "metadata": {},
            "source": [
                "Get bearer token.\n",
                "\n",
                "Try following [this tutorial](https://www.ibm.com/docs/da/order-management?topic=SSGTJF/configuration/t_GeneratingJWTToken.htm) to generate a JWT token."
            ]
        },
        {
            "cell_type": "code",
            "execution_count": 5,
            "id": "891ee367-8df6-4d28-9917-8c4c0455d726",
            "metadata": {
                "tags": []
            },
            "outputs": [],
            "source": [
                "bearer_token = os.getenv(\"BEARER_TOKEN\")"
            ]
        },
        {
            "cell_type": "code",
            "execution_count": 6,
            "id": "ba1558b3",
            "metadata": {
                "tags": []
            },
            "outputs": [
                {
                    "name": "stderr",
                    "output_type": "stream",
                    "text": [
                        "100%|█████████████████████████████████████████████████████████████████████████████████████████████████████████████████████████████████████████████████| 1/1 [00:06<00:00,  6.93s/it]"
                    ]
                },
                {
                    "name": "stdout",
                    "output_type": "stream",
                    "text": [
                        "INFO:llama_index.token_counter.token_counter:> [build_index_from_nodes] Total LLM token usage: 0 tokens\n",
                        "> [build_index_from_nodes] Total LLM token usage: 0 tokens\n",
                        "INFO:llama_index.token_counter.token_counter:> [build_index_from_nodes] Total embedding token usage: 17617 tokens\n",
                        "> [build_index_from_nodes] Total embedding token usage: 17617 tokens\n"
                    ]
                },
                {
                    "name": "stderr",
                    "output_type": "stream",
                    "text": [
                        "\n"
                    ]
                }
            ],
            "source": [
                "# initialize without metadata filter\n",
                "index = ChatGPTRetrievalPluginIndex.from_documents(\n",
                "    documents, \n",
                "    endpoint_url=\"http://localhost:8000\",\n",
                "    bearer_token=bearer_token,\n",
                ")"
            ]
        },
        {
            "cell_type": "markdown",
            "id": "04304299-fc3e-40a0-8600-f50c3292767e",
            "metadata": {},
            "source": [
                "#### Query Index"
            ]
        },
        {
            "cell_type": "code",
            "execution_count": 7,
            "id": "eef29a5f-73e7-49ad-88c4-dd20a60ec91a",
            "metadata": {
                "tags": []
            },
            "outputs": [],
            "source": [
                "from IPython.display import Markdown, display"
            ]
        },
        {
            "cell_type": "code",
            "execution_count": 8,
            "id": "35369eda",
            "metadata": {
                "tags": []
            },
            "outputs": [
                {
                    "name": "stdout",
                    "output_type": "stream",
                    "text": [
                        "INDEX STRUCT TYPE: chatgpt_retrieval_plugin\n",
                        "INFO:llama_index.token_counter.token_counter:> [query] Total LLM token usage: 895 tokens\n",
                        "> [query] Total LLM token usage: 895 tokens\n",
                        "INFO:llama_index.token_counter.token_counter:> [query] Total embedding token usage: 0 tokens\n",
                        "> [query] Total embedding token usage: 0 tokens\n"
                    ]
                }
            ],
            "source": [
                "# set Logging to DEBUG for more detailed outputs\n",
                "query_engine = index.as_query_engine(similarity_top_k=3)\n",
                "response = query_engine.query(\"What did the author do growing up?\")"
            ]
        },
        {
            "cell_type": "code",
            "execution_count": 9,
            "id": "bedbb693-725f-478f-be26-fa7180ea38b2",
            "metadata": {
                "tags": []
            },
            "outputs": [
                {
                    "data": {
                        "text/markdown": [
                            "<b>\n",
                            "The author grew up writing short stories, programming on an IBM 1401, living in England with his family, and later, when he returned to New York, he resumed his old life with newfound wealth, exploring new neighborhoods and experimenting with painting.</b>"
                        ],
                        "text/plain": [
                            "<IPython.core.display.Markdown object>"
                        ]
                    },
                    "metadata": {},
                    "output_type": "display_data"
                }
            ],
            "source": [
                "display(Markdown(f\"<b>{response}</b>\"))"
            ]
        },
        {
            "cell_type": "code",
            "execution_count": null,
            "id": "86c2a2d3-78e1-4468-9f93-2becae70e920",
            "metadata": {},
            "outputs": [],
            "source": []
        }
    ],
    "metadata": {
        "kernelspec": {
            "display_name": "llama_index",
            "language": "python",
            "name": "llama_index"
        },
        "language_info": {
            "codemirror_mode": {
                "name": "ipython",
                "version": 3
            },
            "file_extension": ".py",
            "mimetype": "text/x-python",
            "name": "python",
            "nbconvert_exporter": "python",
            "pygments_lexer": "ipython3",
            "version": "3.10.10"
        }
    },
    "nbformat": 4,
    "nbformat_minor": 5
}