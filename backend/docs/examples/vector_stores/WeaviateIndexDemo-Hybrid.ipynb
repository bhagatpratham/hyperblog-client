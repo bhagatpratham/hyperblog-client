{
    "cells": [
        {
            "attachments": {},
            "cell_type": "markdown",
            "id": "307804a3-c02b-4a57-ac0d-172c30ddc851",
            "metadata": {},
            "source": [
                "# Weaviate Vector Store - Hybrid Search"
            ]
        },
        {
            "cell_type": "code",
            "execution_count": null,
            "id": "eccceb71",
            "metadata": {},
            "outputs": [],
            "source": [
                "import logging\n",
                "import sys\n",
                "\n",
                "logging.basicConfig(stream=sys.stdout, level=logging.INFO)\n",
                "logging.getLogger().addHandler(logging.StreamHandler(stream=sys.stdout))"
            ]
        },
        {
            "cell_type": "markdown",
            "id": "f7010b1d-d1bb-4f08-9309-a328bb4ea396",
            "metadata": {},
            "source": [
                "## Creating a Weaviate Client"
            ]
        },
        {
            "cell_type": "code",
            "execution_count": null,
            "id": "72a4b618-668d-4713-84c5-6362030e9f19",
            "metadata": {},
            "outputs": [],
            "source": [
                "import weaviate"
            ]
        },
        {
            "cell_type": "code",
            "execution_count": null,
            "id": "0c9f4d21-145a-401e-95ff-ccb259e8ef84",
            "metadata": {},
            "outputs": [],
            "source": [
                "resource_owner_config = weaviate.AuthClientPassword(\n",
                "  username = \"<username>\", \n",
                "  password = \"<password>\", \n",
                ")"
            ]
        },
        {
            "cell_type": "code",
            "execution_count": null,
            "id": "de43b464",
            "metadata": {},
            "outputs": [],
            "source": [
                "# Connect to cloud instance\n",
                "# client = weaviate.Client(\"https://<cluster-id>.semi.network/\", auth_client_secret=resource_owner_config)\n",
                "\n",
                "# Connect to local instance\n",
                "client = weaviate.Client(\"http://localhost:8080\")"
            ]
        },
        {
            "cell_type": "markdown",
            "id": "8ee4473a-094f-4d0a-a825-e1213db07240",
            "metadata": {},
            "source": [
                "## Load documents"
            ]
        },
        {
            "cell_type": "code",
            "execution_count": null,
            "id": "0a2bcc07",
            "metadata": {},
            "outputs": [],
            "source": [
                "from llama_index import GPTVectorStoreIndex, SimpleDirectoryReader\n",
                "from llama_index.vector_stores import WeaviateVectorStore\n",
                "from llama_index.response.notebook_utils import display_response"
            ]
        },
        {
            "cell_type": "code",
            "execution_count": null,
            "id": "68cbd239-880e-41a3-98d8-dbb3fab55431",
            "metadata": {},
            "outputs": [],
            "source": [
                "# load documents\n",
                "documents = SimpleDirectoryReader('../paul_graham_essay/data').load_data()"
            ]
        },
        {
            "cell_type": "markdown",
            "id": "17fbf703",
            "metadata": {},
            "source": [
                "## Build the GPTVectorStoreIndex with WeaviateVectorStore"
            ]
        },
        {
            "cell_type": "code",
            "execution_count": null,
            "id": "ba1558b3",
            "metadata": {},
            "outputs": [],
            "source": [
                "from llama_index.storage.storage_context import StorageContext\n",
                "\n",
                "\n",
                "vector_store = WeaviateVectorStore(weaviate_client=client)\n",
                "storage_context = StorageContext.from_defaults(vector_store=vector_store)\n",
                "index = GPTVectorStoreIndex.from_documents(documents, storage_context=storage_context)\n",
                "\n",
                "# NOTE: you may also choose to define a class_prefix manually.\n",
                "# class_prefix = \"test_prefix\"\n",
                "# vector_store = WeaviateVectorStore(weaviate_client=client, class_prefix=class_prefix)"
            ]
        },
        {
            "cell_type": "markdown",
            "id": "622599aa",
            "metadata": {},
            "source": [
                "## Query Index with Default Vector Search"
            ]
        },
        {
            "cell_type": "code",
            "execution_count": null,
            "id": "82f154f4",
            "metadata": {},
            "outputs": [],
            "source": [
                "# set Logging to DEBUG for more detailed outputs\n",
                "query_engine = index.as_query_engine(\n",
                "    similarity_top_k=2\n",
                ")\n",
                "response = query_engine.query(\"What did the author do growing up?\")"
            ]
        },
        {
            "cell_type": "code",
            "execution_count": null,
            "id": "2c5bd359",
            "metadata": {},
            "outputs": [],
            "source": [
                "display_response(response)"
            ]
        },
        {
            "cell_type": "markdown",
            "id": "04304299-fc3e-40a0-8600-f50c3292767e",
            "metadata": {},
            "source": [
                "## Query Index with Hybrid Search"
            ]
        },
        {
            "cell_type": "markdown",
            "id": "4925c9e6",
            "metadata": {},
            "source": [
                "Use hybrid search with bm25 and vector.  \n",
                "`alpha` parameter determines weighting (alpha = 0 -> bm25, alpha=1 -> vector search).  "
            ]
        },
        {
            "cell_type": "markdown",
            "id": "93e9f4d6",
            "metadata": {},
            "source": [
                "### By default, `alpha=0.75` is used (very similar to vector search)  "
            ]
        },
        {
            "cell_type": "code",
            "execution_count": null,
            "id": "35369eda",
            "metadata": {},
            "outputs": [],
            "source": [
                "# set Logging to DEBUG for more detailed outputs\n",
                "query_engine = index.as_query_engine(\n",
                "    vector_store_query_mode=\"hybrid\", \n",
                "    similarity_top_k=2\n",
                ")\n",
                "response = query_engine.query(\n",
                "    \"What did the author do growing up?\", \n",
                ")"
            ]
        },
        {
            "cell_type": "code",
            "execution_count": null,
            "id": "bedbb693-725f-478f-be26-fa7180ea38b2",
            "metadata": {},
            "outputs": [],
            "source": [
                "display_response(response)"
            ]
        },
        {
            "cell_type": "markdown",
            "id": "80396381",
            "metadata": {},
            "source": [
                "### Set `alpha=0.` to favor bm25"
            ]
        },
        {
            "cell_type": "code",
            "execution_count": null,
            "id": "6b4b26d4",
            "metadata": {},
            "outputs": [],
            "source": [
                "# set Logging to DEBUG for more detailed outputs\n",
                "query_engine = index.as_query_engine(\n",
                "    vector_store_query_mode=\"hybrid\", \n",
                "    similarity_top_k=2, \n",
                "    alpha=0.\n",
                ")\n",
                "response = query_engine.query(\n",
                "    \"What did the author do growing up?\", \n",
                ")"
            ]
        },
        {
            "cell_type": "code",
            "execution_count": null,
            "id": "3d755768",
            "metadata": {},
            "outputs": [],
            "source": [
                "display_response(response)"
            ]
        }
    ],
    "metadata": {
        "kernelspec": {
            "display_name": "Python 3 (ipykernel)",
            "language": "python",
            "name": "python3"
        },
        "language_info": {
            "codemirror_mode": {
                "name": "ipython",
                "version": 3
            },
            "file_extension": ".py",
            "mimetype": "text/x-python",
            "name": "python",
            "nbconvert_exporter": "python",
            "pygments_lexer": "ipython3",
            "version": "3.10.10"
        }
    },
    "nbformat": 4,
    "nbformat_minor": 5
}
