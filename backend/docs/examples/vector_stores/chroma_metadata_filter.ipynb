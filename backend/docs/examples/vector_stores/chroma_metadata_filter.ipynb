{
    "cells": [
        {
            "attachments": {},
            "cell_type": "markdown",
            "id": "307804a3-c02b-4a57-ac0d-172c30ddc851",
            "metadata": {},
            "source": [
                "# Chroma Vector Store"
            ]
        },
        {
            "attachments": {},
            "cell_type": "markdown",
            "id": "f7010b1d-d1bb-4f08-9309-a328bb4ea396",
            "metadata": {},
            "source": [
                "#### Creating a Chroma Index"
            ]
        },
        {
            "cell_type": "code",
            "execution_count": 1,
            "id": "d48af8e1",
            "metadata": {},
            "outputs": [],
            "source": [
                "import logging\n",
                "import sys\n",
                "\n",
                "logging.basicConfig(stream=sys.stdout, level=logging.INFO)\n",
                "logging.getLogger().addHandler(logging.StreamHandler(stream=sys.stdout))"
            ]
        },
        {
            "cell_type": "code",
            "execution_count": 2,
            "id": "0ce3143d-198c-4dd2-8e5a-c5cdf94f017a",
            "metadata": {},
            "outputs": [],
            "source": [
                "import chromadb"
            ]
        },
        {
            "cell_type": "code",
            "execution_count": 3,
            "id": "667f3cb3-ce18-48d5-b9aa-bfc1a1f0f0f6",
            "metadata": {},
            "outputs": [
                {
                    "name": "stdout",
                    "output_type": "stream",
                    "text": [
                        "INFO:chromadb.telemetry.posthog:Anonymized telemetry enabled. See https://docs.trychroma.com/telemetry for more information.\n",
                        "Anonymized telemetry enabled. See https://docs.trychroma.com/telemetry for more information.\n",
                        "INFO:chromadb:Running Chroma using direct local API.\n",
                        "Running Chroma using direct local API.\n",
                        "INFO:numexpr.utils:Note: NumExpr detected 12 cores but \"NUMEXPR_MAX_THREADS\" not set, so enforcing safe limit of 8.\n",
                        "Note: NumExpr detected 12 cores but \"NUMEXPR_MAX_THREADS\" not set, so enforcing safe limit of 8.\n",
                        "INFO:numexpr.utils:NumExpr defaulting to 8 threads.\n",
                        "NumExpr defaulting to 8 threads.\n",
                        "WARNING:chromadb:Using embedded DuckDB without persistence: data will be transient\n",
                        "Using embedded DuckDB without persistence: data will be transient\n",
                        "INFO:clickhouse_connect.driver.ctypes:Successfully imported ClickHouse Connect C data optimizations\n",
                        "Successfully imported ClickHouse Connect C data optimizations\n",
                        "INFO:clickhouse_connect.driver.ctypes:Successfully import ClickHouse Connect C/Numpy optimizations\n",
                        "Successfully import ClickHouse Connect C/Numpy optimizations\n",
                        "INFO:clickhouse_connect.json_impl:Using python library for writing JSON byte strings\n",
                        "Using python library for writing JSON byte strings\n",
                        "WARNING:chromadb.api.models.Collection:No embedding_function provided, using default embedding function: SentenceTransformerEmbeddingFunction\n",
                        "No embedding_function provided, using default embedding function: SentenceTransformerEmbeddingFunction\n"
                    ]
                },
                {
                    "name": "stderr",
                    "output_type": "stream",
                    "text": [
                        "/Users/suo/miniconda3/envs/llama/lib/python3.9/site-packages/tqdm/auto.py:21: TqdmWarning: IProgress not found. Please update jupyter and ipywidgets. See https://ipywidgets.readthedocs.io/en/stable/user_install.html\n",
                        "  from .autonotebook import tqdm as notebook_tqdm\n"
                    ]
                },
                {
                    "name": "stdout",
                    "output_type": "stream",
                    "text": [
                        "INFO:sentence_transformers.SentenceTransformer:Load pretrained SentenceTransformer: all-MiniLM-L6-v2\n",
                        "Load pretrained SentenceTransformer: all-MiniLM-L6-v2\n",
                        "INFO:sentence_transformers.SentenceTransformer:Use pytorch device: cpu\n",
                        "Use pytorch device: cpu\n"
                    ]
                }
            ],
            "source": [
                "chroma_client = chromadb.Client()\n",
                "chroma_collection = chroma_client.create_collection(\"quickstart\")"
            ]
        },
        {
            "cell_type": "code",
            "execution_count": 4,
            "id": "0a2bcc07",
            "metadata": {},
            "outputs": [],
            "source": [
                "from llama_index import GPTVectorStoreIndex, SimpleDirectoryReader\n",
                "from llama_index.vector_stores import ChromaVectorStore\n",
                "from IPython.display import Markdown, display"
            ]
        },
        {
            "cell_type": "code",
            "execution_count": 5,
            "id": "68cbd239-880e-41a3-98d8-dbb3fab55431",
            "metadata": {},
            "outputs": [],
            "source": [
                "from llama_index.data_structs.node import Node\n",
                "\n",
                "nodes = [\n",
                "    Node('The Shawshank Redemption', extra_info={\n",
                "        \"author\": \"Stephen King\",\n",
                "        \"theme\": \"Friendship\",\n",
                "    }),\n",
                "    Node('The Godfather', extra_info={\n",
                "        \"director\": \"Francis Ford Coppola\",\n",
                "        \"theme\": \"Mafia\",\n",
                "    }),\n",
                "    Node(\"Inception\", extra_info={\n",
                "        \"director\": \"Christopher Nolan\",\n",
                "    })\n",
                "]"
            ]
        },
        {
            "cell_type": "code",
            "execution_count": 6,
            "id": "ba1558b3",
            "metadata": {
                "tags": []
            },
            "outputs": [],
            "source": [
                "from llama_index.storage.storage_context import StorageContext\n",
                "\n",
                "\n",
                "vector_store = ChromaVectorStore(chroma_collection=chroma_collection)\n",
                "storage_context = StorageContext.from_defaults(vector_store=vector_store)"
            ]
        },
        {
            "cell_type": "code",
            "execution_count": 7,
            "id": "35369eda",
            "metadata": {},
            "outputs": [
                {
                    "name": "stdout",
                    "output_type": "stream",
                    "text": [
                        "INFO:llama_index.token_counter.token_counter:> [build_index_from_nodes] Total LLM token usage: 0 tokens\n",
                        "> [build_index_from_nodes] Total LLM token usage: 0 tokens\n",
                        "INFO:llama_index.token_counter.token_counter:> [build_index_from_nodes] Total embedding token usage: 39 tokens\n",
                        "> [build_index_from_nodes] Total embedding token usage: 39 tokens\n"
                    ]
                }
            ],
            "source": [
                "index = GPTVectorStoreIndex(nodes, storage_context=storage_context)"
            ]
        },
        {
            "cell_type": "code",
            "execution_count": 9,
            "id": "bedbb693-725f-478f-be26-fa7180ea38b2",
            "metadata": {},
            "outputs": [
                {
                    "name": "stdout",
                    "output_type": "stream",
                    "text": [
                        "INFO:llama_index.token_counter.token_counter:> [retrieve] Total LLM token usage: 0 tokens\n",
                        "> [retrieve] Total LLM token usage: 0 tokens\n",
                        "INFO:llama_index.token_counter.token_counter:> [retrieve] Total embedding token usage: 5 tokens\n",
                        "> [retrieve] Total embedding token usage: 5 tokens\n"
                    ]
                },
                {
                    "data": {
                        "text/plain": [
                            "[NodeWithScore(node=Node(text='director: Francis Ford Coppola\\ntheme: Mafia\\n\\nThe Godfather', doc_id='d73abd97-ae46-4046-a6c2-012e46be7459', embedding=None, doc_hash='208e5a6c4e8f182d28af5293fb3d975531cf8ce3cf6b1e47cb64744d96f6285f', extra_info={'director': 'Francis Ford Coppola', 'theme': 'Mafia'}, node_info={}, relationships={}), score=0.37088084637164886)]"
                        ]
                    },
                    "execution_count": 9,
                    "metadata": {},
                    "output_type": "execute_result"
                }
            ],
            "source": [
                "\n",
                "from llama_index.vector_stores.types import ExactMatchFilter, MetadataFilters\n",
                "\n",
                "\n",
                "filters = MetadataFilters(filters=[\n",
                "    ExactMatchFilter(key='theme', value='Mafia')\n",
                "])\n",
                "\n",
                "retriever = index.as_retriever(filters=filters)\n",
                "retriever.retrieve('What is inception about?')"
            ]
        },
        {
            "cell_type": "code",
            "execution_count": null,
            "id": "eeb18e9c",
            "metadata": {},
            "outputs": [],
            "source": []
        }
    ],
    "metadata": {
        "kernelspec": {
            "display_name": "Python 3 (ipykernel)",
            "language": "python",
            "name": "python3"
        },
        "language_info": {
            "codemirror_mode": {
                "name": "ipython",
                "version": 3
            },
            "file_extension": ".py",
            "mimetype": "text/x-python",
            "name": "python",
            "nbconvert_exporter": "python",
            "pygments_lexer": "ipython3",
            "version": "3.9.16"
        },
        "vscode": {
            "interpreter": {
                "hash": "0ac390d292208ca2380c85f5bce7ded36a7a25670a97c40b8009630eb36cb06e"
            }
        }
    },
    "nbformat": 4,
    "nbformat_minor": 5
}
