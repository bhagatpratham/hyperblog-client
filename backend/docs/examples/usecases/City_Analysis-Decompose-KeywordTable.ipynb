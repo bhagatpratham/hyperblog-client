{
    "cells": [
        {
            "attachments": {},
            "cell_type": "markdown",
            "id": "cfb64210-9c6b-47d7-81f4-67dbdab68e4c",
            "metadata": {
                "id": "cfb64210-9c6b-47d7-81f4-67dbdab68e4c",
                "tags": []
            },
            "source": [
                "# Test Complex Queries over Multiple Documents (with and without Query Decomposition)\n",
                "\n",
                "Query Decomposition: The ability to decompose a complex query into a simpler query given the content of the index.\n",
                "\n",
                "Use OpenAI as the LLM model and embedding model."
            ]
        },
        {
            "cell_type": "code",
            "execution_count": 1,
            "id": "fa0e62b6",
            "metadata": {
                "id": "fa0e62b6",
                "tags": []
            },
            "outputs": [],
            "source": [
                "import logging\n",
                "import sys\n",
                "\n",
                "# logging.basicConfig(stream=sys.stdout, level=logging.INFO)\n",
                "# logging.getLogger().addHandler(logging.StreamHandler(stream=sys.stdout))\n",
                "\n",
                "# Uncomment if you want to temporarily disable logger\n",
                "logger = logging.getLogger()\n",
                "logger.disabled = True"
            ]
        },
        {
            "cell_type": "code",
            "execution_count": 2,
            "id": "e27b0473-4bda-47f0-b6ed-fd482eac1a13",
            "metadata": {
                "id": "e27b0473-4bda-47f0-b6ed-fd482eac1a13",
                "tags": []
            },
            "outputs": [
                {
                    "name": "stderr",
                    "output_type": "stream",
                    "text": [
                        "/Users/suo/miniconda3/envs/llama/lib/python3.9/site-packages/tqdm/auto.py:21: TqdmWarning: IProgress not found. Please update jupyter and ipywidgets. See https://ipywidgets.readthedocs.io/en/stable/user_install.html\n",
                        "  from .autonotebook import tqdm as notebook_tqdm\n"
                    ]
                }
            ],
            "source": [
                "from llama_index import (\n",
                "    GPTVectorStoreIndex, \n",
                "    GPTSimpleKeywordTableIndex, \n",
                "    GPTListIndex, \n",
                "    SimpleDirectoryReader,\n",
                "    LLMPredictor,\n",
                "    ServiceContext\n",
                ")\n",
                "import requests"
            ]
        },
        {
            "cell_type": "markdown",
            "id": "49e0d841-680f-4a0c-b455-788b54978ebf",
            "metadata": {
                "id": "49e0d841-680f-4a0c-b455-788b54978ebf"
            },
            "source": [
                "#### Load Datasets\n",
                "\n",
                "Load Wikipedia pages as well as Paul Graham's \"What I Worked On\" essay"
            ]
        },
        {
            "cell_type": "code",
            "execution_count": 5,
            "id": "fc4692a1",
            "metadata": {
                "id": "fc4692a1",
                "tags": []
            },
            "outputs": [],
            "source": [
                "wiki_titles = [\"Toronto\", \"Seattle\", \"San Francisco\", \"Chicago\", \"Boston\", \"Washington, D.C.\", \"Cambridge, Massachusetts\", \"Houston\"]"
            ]
        },
        {
            "cell_type": "code",
            "execution_count": 13,
            "id": "9ec16a8b-6aae-4bf7-9b83-b82087b4ea52",
            "metadata": {
                "id": "9ec16a8b-6aae-4bf7-9b83-b82087b4ea52",
                "tags": []
            },
            "outputs": [],
            "source": [
                "from pathlib import Path\n",
                "import requests\n",
                "\n",
                "data_path = Path('data_wiki')\n",
                "\n",
                "for title in wiki_titles:\n",
                "    response = requests.get(\n",
                "        'https://en.wikipedia.org/w/api.php',\n",
                "        params={\n",
                "            'action': 'query',\n",
                "            'format': 'json',\n",
                "            'titles': title,\n",
                "            'prop': 'extracts',\n",
                "            # 'exintro': True,\n",
                "            'explaintext': True,\n",
                "        }\n",
                "    ).json()\n",
                "    page = next(iter(response['query']['pages'].values()))\n",
                "    wiki_text = page['extract']\n",
                "\n",
                "    if not data_path.exists():\n",
                "        Path.mkdir(data_path)\n",
                "\n",
                "    with open(data_path / f\"{title}.txt\", 'w') as fp:\n",
                "        fp.write(wiki_text)\n"
            ]
        },
        {
            "cell_type": "code",
            "execution_count": 14,
            "id": "39c00aeb-adef-4ce3-8134-031de18e64ea",
            "metadata": {
                "id": "39c00aeb-adef-4ce3-8134-031de18e64ea",
                "tags": []
            },
            "outputs": [],
            "source": [
                "# Load all wiki documents\n",
                "city_docs = {}\n",
                "all_docs = []\n",
                "for wiki_title in wiki_titles:\n",
                "    city_docs[wiki_title] = SimpleDirectoryReader(input_files=[data_path / f\"{wiki_title}.txt\"]).load_data()\n",
                "    all_docs.extend(city_docs[wiki_title])\n"
            ]
        },
        {
            "cell_type": "code",
            "execution_count": 15,
            "id": "39695a27-4bb1-41eb-b878-4f7c7a3fce31",
            "metadata": {
                "tags": []
            },
            "outputs": [],
            "source": [
                "# define service context\n",
                "service_context = ServiceContext.from_defaults(\n",
                "    chunk_size=512, \n",
                ")"
            ]
        },
        {
            "cell_type": "markdown",
            "id": "f1782198-c0de-4679-8951-1297c21b8639",
            "metadata": {
                "id": "f1782198-c0de-4679-8951-1297c21b8639"
            },
            "source": [
                "### Building the document indices\n",
                "Build a separate vector index for each wiki pages about cities.\n",
                "\n",
                "We also build a \"global\" vector index, which ingest documents for *all* cities. \n",
                "\n",
                "This allows us to test different types of data structures!"
            ]
        },
        {
            "cell_type": "code",
            "execution_count": 16,
            "id": "5431e83e-428b-4473-bad1-24b7a6c4db38",
            "metadata": {
                "colab": {
                    "base_uri": "https://localhost:8080/",
                    "height": 183,
                    "referenced_widgets": [
                        "b5566e3db2914ddebd80d7bde75b2559",
                        "208d404f405a42a3b06d65ad67fb7322",
                        "7da29a2b6508494282acbc459eccbb96",
                        "47838fa763ca40598b2622a9d1e79444",
                        "ff32a3f12e814740a1cd5dd12bd731d4",
                        "3fef46c902524717b377dee6c1dfc929",
                        "fd8b887c1f7149f2876cf8a31e534ad6",
                        "7438aea716f44d85ad1c2b49a93acd83",
                        "fe39f994fa9b4d7daa232e1dcd2b0e8b",
                        "b102e756f9b848a98f58396fc825be84",
                        "fbd7219af1924d2ead5310eb7b35aab0",
                        "3b4c1066797b43a586611ec2d63e7ca1",
                        "c06865c1e01a441698dacf48600dd03c",
                        "9d229e5dd56e4d539ca2c1b9f0a37812",
                        "868aa268dd28498d902782215e53c6fa",
                        "46f644cf589e4a48a6fad1742f0c0575",
                        "adb40ef11f094594b14776e238955224",
                        "7b47c78391a4431aa2d3f84677f24046",
                        "398f1c0f56fe4f218d999df138adfdac",
                        "f1839e86863948f68314f81ba6bca4c9",
                        "3c37e72850c746ce9c919add5340dede",
                        "2053e6adef1b4dba89f861eaf3d916fd",
                        "eab4127882d24acfa9518ebff6f4e22a",
                        "64b754f563834be0a6963349b1f2dcf2",
                        "c7636a6d7380465895b8c86d34caf500",
                        "f7803dea63994cc2a31acf805bd19e67",
                        "380a0c11434241b191b17421e395be8b",
                        "a02534c347aa4865ab4ab3de3a3ee2f5",
                        "b0ccb9d9d96e4ed8bec4d540c34d337c",
                        "f22e9615de674e05978f332eb88750cf",
                        "b53e8481f6d64018988dc03081bf2765",
                        "b458d6fa793d4fa080b9f1e5013af3de",
                        "119d6d7a8d524aa49170f5784ebc6b9e",
                        "d55f842766484d299c75f74e31e7aa6a",
                        "1bdaf4dab16f48dbaeed3fb9bf268e45",
                        "026cc1a42e154f1f92b5236869311929",
                        "a2edbc4195d843e0acfba83726a08e78",
                        "40e148c291ad4f739998a7eac55a8af6",
                        "028aa5d1f7a74d538b5c606d4a6d146f",
                        "c078fe9a056a473dab7d474cd7907154",
                        "4cc9ec6ba46647aba2d53e352f91c137",
                        "f2a1c5087d0e44909139697ed90474e8",
                        "7b24b46d6c3643e581ba003a9c473745",
                        "3f748152b9274556afad2555572aa9f4"
                    ]
                },
                "id": "5431e83e-428b-4473-bad1-24b7a6c4db38",
                "outputId": "5721e863-d460-4f5c-9e36-5a586180b669",
                "tags": []
            },
            "outputs": [
                {
                    "name": "stdout",
                    "output_type": "stream",
                    "text": [
                        "Building index for Toronto\n"
                    ]
                },
                {
                    "name": "stderr",
                    "output_type": "stream",
                    "text": [
                        "INFO:llama_index.token_counter.token_counter:> [build_index_from_nodes] Total LLM token usage: 0 tokens\n",
                        "INFO:llama_index.token_counter.token_counter:> [build_index_from_nodes] Total embedding token usage: 27294 tokens\n"
                    ]
                },
                {
                    "name": "stdout",
                    "output_type": "stream",
                    "text": [
                        "Building index for Seattle\n"
                    ]
                },
                {
                    "name": "stderr",
                    "output_type": "stream",
                    "text": [
                        "INFO:llama_index.token_counter.token_counter:> [build_index_from_nodes] Total LLM token usage: 0 tokens\n",
                        "INFO:llama_index.token_counter.token_counter:> [build_index_from_nodes] Total embedding token usage: 22263 tokens\n"
                    ]
                },
                {
                    "name": "stdout",
                    "output_type": "stream",
                    "text": [
                        "Building index for San Francisco\n"
                    ]
                },
                {
                    "name": "stderr",
                    "output_type": "stream",
                    "text": [
                        "INFO:llama_index.token_counter.token_counter:> [build_index_from_nodes] Total LLM token usage: 0 tokens\n",
                        "INFO:llama_index.token_counter.token_counter:> [build_index_from_nodes] Total embedding token usage: 30887 tokens\n"
                    ]
                },
                {
                    "name": "stdout",
                    "output_type": "stream",
                    "text": [
                        "Building index for Chicago\n"
                    ]
                },
                {
                    "name": "stderr",
                    "output_type": "stream",
                    "text": [
                        "INFO:llama_index.token_counter.token_counter:> [build_index_from_nodes] Total LLM token usage: 0 tokens\n",
                        "INFO:llama_index.token_counter.token_counter:> [build_index_from_nodes] Total embedding token usage: 34336 tokens\n"
                    ]
                },
                {
                    "name": "stdout",
                    "output_type": "stream",
                    "text": [
                        "Building index for Boston\n"
                    ]
                },
                {
                    "name": "stderr",
                    "output_type": "stream",
                    "text": [
                        "INFO:llama_index.token_counter.token_counter:> [build_index_from_nodes] Total LLM token usage: 0 tokens\n",
                        "INFO:llama_index.token_counter.token_counter:> [build_index_from_nodes] Total embedding token usage: 24512 tokens\n"
                    ]
                },
                {
                    "name": "stdout",
                    "output_type": "stream",
                    "text": [
                        "Building index for Washington, D.C.\n"
                    ]
                },
                {
                    "name": "stderr",
                    "output_type": "stream",
                    "text": [
                        "INFO:llama_index.token_counter.token_counter:> [build_index_from_nodes] Total LLM token usage: 0 tokens\n",
                        "INFO:llama_index.token_counter.token_counter:> [build_index_from_nodes] Total embedding token usage: 28480 tokens\n"
                    ]
                },
                {
                    "name": "stdout",
                    "output_type": "stream",
                    "text": [
                        "Building index for Cambridge, Massachusetts\n"
                    ]
                },
                {
                    "name": "stderr",
                    "output_type": "stream",
                    "text": [
                        "INFO:llama_index.token_counter.token_counter:> [build_index_from_nodes] Total LLM token usage: 0 tokens\n",
                        "INFO:llama_index.token_counter.token_counter:> [build_index_from_nodes] Total embedding token usage: 17036 tokens\n"
                    ]
                },
                {
                    "name": "stdout",
                    "output_type": "stream",
                    "text": [
                        "Building index for Houston\n"
                    ]
                },
                {
                    "name": "stderr",
                    "output_type": "stream",
                    "text": [
                        "INFO:llama_index.token_counter.token_counter:> [build_index_from_nodes] Total LLM token usage: 0 tokens\n",
                        "INFO:llama_index.token_counter.token_counter:> [build_index_from_nodes] Total embedding token usage: 28795 tokens\n"
                    ]
                }
            ],
            "source": [
                "# Build index for each city document\n",
                "city_indices = {}\n",
                "index_summaries = {}\n",
                "for wiki_title in wiki_titles:\n",
                "    print(f\"Building index for {wiki_title}\")\n",
                "    city_indices[wiki_title] = GPTVectorStoreIndex.from_documents(city_docs[wiki_title], service_context=service_context)\n",
                "    # set summary text for city\n",
                "    index_summaries[wiki_title] = f\"Wikipedia articles about {wiki_title}\""
            ]
        },
        {
            "cell_type": "code",
            "execution_count": 17,
            "id": "36c99bc1-c712-489d-a9da-4a9be76d710e",
            "metadata": {
                "tags": []
            },
            "outputs": [
                {
                    "name": "stderr",
                    "output_type": "stream",
                    "text": [
                        "INFO:llama_index.token_counter.token_counter:> [build_index_from_nodes] Total LLM token usage: 0 tokens\n",
                        "INFO:llama_index.token_counter.token_counter:> [build_index_from_nodes] Total embedding token usage: 213603 tokens\n"
                    ]
                }
            ],
            "source": [
                "# also setup a global vector index \n",
                "global_index = GPTVectorStoreIndex.from_documents(all_docs, service_context=service_context)"
            ]
        },
        {
            "cell_type": "markdown",
            "id": "d4d3cd8b-4134-4cfa-8002-e0a34694d2e1",
            "metadata": {
                "id": "d4d3cd8b-4134-4cfa-8002-e0a34694d2e1",
                "tags": []
            },
            "source": [
                "### Creating the right structure to run compare/contrast queries\n",
                "\n",
                "Our key goal in this notebook is to run compare/contrast queries between different cities.\n",
                "\n",
                "We currently have a separate vector index for every city document. We want to setup a \"graph\" structure in order to route the query \n",
                "in the right manner in order to retrieve the relevant text sections for each city. \n",
                "\n",
                "We compose a keyword table index on top of all the vector indices."
            ]
        },
        {
            "cell_type": "code",
            "execution_count": 20,
            "id": "6d68750c-e5ae-481a-8b03-6173020c9bf3",
            "metadata": {
                "id": "6d68750c-e5ae-481a-8b03-6173020c9bf3",
                "tags": []
            },
            "outputs": [],
            "source": [
                "from llama_index.indices.composability import ComposableGraph"
            ]
        },
        {
            "cell_type": "code",
            "execution_count": 21,
            "id": "f975514f-fddd-4737-91de-97bc61394ea9",
            "metadata": {
                "colab": {
                    "base_uri": "https://localhost:8080/"
                },
                "id": "f975514f-fddd-4737-91de-97bc61394ea9",
                "outputId": "fc875b0e-c8bf-439b-c794-fcae25954cfb",
                "tags": []
            },
            "outputs": [
                {
                    "name": "stderr",
                    "output_type": "stream",
                    "text": [
                        "INFO:llama_index.token_counter.token_counter:> [build_index_from_nodes] Total LLM token usage: 0 tokens\n",
                        "INFO:llama_index.token_counter.token_counter:> [build_index_from_nodes] Total embedding token usage: 0 tokens\n"
                    ]
                }
            ],
            "source": [
                "graph = ComposableGraph.from_indices(\n",
                "    GPTSimpleKeywordTableIndex,\n",
                "    [index for _, index in city_indices.items()], \n",
                "    [summary for _, summary in index_summaries.items()],\n",
                "    max_keywords_per_chunk=50\n",
                ")"
            ]
        },
        {
            "cell_type": "markdown",
            "id": "b4c36f69-596b-4974-afa2-09cc652c1111",
            "metadata": {},
            "source": [
                "### Define Query Transformation + Query Configs\n",
                "\n",
                "We also define a \"query decomposition\" transform. Since we have a graph structure over multiple indexes, query decomposition\n",
                "allows us to break a complex question into a simpler one over a given index.\n",
                "\n",
                "This works well in comparing/contrasting different cities because it allows us to ask questions specific to each city."
            ]
        },
        {
            "cell_type": "markdown",
            "id": "accd31e4-0ae7-4660-833c-5ae23037fd14",
            "metadata": {},
            "source": [
                "**Query Transform**"
            ]
        },
        {
            "cell_type": "code",
            "execution_count": 24,
            "id": "82432236-fa93-4269-b695-d6d2131edb41",
            "metadata": {
                "tags": []
            },
            "outputs": [],
            "source": [
                "from llama_index.indices.query.query_transform.base import DecomposeQueryTransform\n",
                "decompose_transform = DecomposeQueryTransform(verbose=True)"
            ]
        },
        {
            "cell_type": "code",
            "execution_count": 33,
            "id": "d9199887",
            "metadata": {},
            "outputs": [
                {
                    "name": "stdout",
                    "output_type": "stream",
                    "text": [
                        "The autoreload extension is already loaded. To reload it, use:\n",
                        "  %reload_ext autoreload\n"
                    ]
                }
            ],
            "source": [
                "%load_ext autoreload\n",
                "%autoreload 2"
            ]
        },
        {
            "cell_type": "code",
            "execution_count": 43,
            "id": "2ab2fbf1",
            "metadata": {},
            "outputs": [],
            "source": [
                "from llama_index.query_engine.transform_query_engine import TransformQueryEngine\n",
                "\n",
                "custom_query_engines = {}\n",
                "for index in city_indices.values():\n",
                "    query_engine = index.as_query_engine(service_context=service_context)\n",
                "    query_engine = TransformQueryEngine(\n",
                "        query_engine,\n",
                "        query_transform=decompose_transform,\n",
                "        transform_extra_info={'index_summary': index.index_struct.summary},\n",
                "    )\n",
                "    custom_query_engines[index.index_id] = query_engine\n",
                "custom_query_engines[graph.root_id] = graph.root_index.as_query_engine(\n",
                "    retriever_mode='simple',\n",
                "    response_mode='tree_summarize',\n",
                "    service_context=service_context,\n",
                ")\n"
            ]
        },
        {
            "cell_type": "markdown",
            "id": "7d8e2a20-44a2-4d9f-af0a-1a91e3afbcf2",
            "metadata": {},
            "source": [
                "### Let's Run Some Queries! \n",
                "\n",
                "We run queries over the graphs and analyze the results.\n",
                "\n",
                "We also compare results against the baseline global vector index. In the majority of cases the global vector index provides insufficient answers."
            ]
        },
        {
            "cell_type": "markdown",
            "id": "018d0a51-3a3f-4dc5-9e1d-f2e79eb0cc43",
            "metadata": {
                "id": "018d0a51-3a3f-4dc5-9e1d-f2e79eb0cc43"
            },
            "source": [
                "**Complex Query 1**"
            ]
        },
        {
            "cell_type": "code",
            "execution_count": 44,
            "id": "5da241f2-e8e6-459e-8492-60724faeb173",
            "metadata": {
                "tags": []
            },
            "outputs": [],
            "source": [
                "# with query decomposition in subindices\n",
                "query_engine = graph.as_query_engine(custom_query_engines=custom_query_engines)\n",
                "query_str = (\n",
                "    \"Compare and contrast the demographics in Seattle, Houston, and Toronto. \"\n",
                ")"
            ]
        },
        {
            "cell_type": "code",
            "execution_count": 45,
            "id": "984fcf86-8b10-40aa-ac7b-85518537b433",
            "metadata": {
                "tags": []
            },
            "outputs": [
                {
                    "name": "stderr",
                    "output_type": "stream",
                    "text": [
                        "INFO:llama_index.indices.keyword_table.retrievers:> Starting query: Compare and contrast the demographics in Seattle, Houston, and Toronto. \n",
                        "INFO:llama_index.indices.keyword_table.retrievers:query keywords: ['demographics', 'seattle', 'toronto', 'compare', 'contrast', 'houston']\n",
                        "INFO:llama_index.indices.keyword_table.retrievers:> Extracted keywords: ['seattle', 'toronto', 'houston']\n"
                    ]
                },
                {
                    "name": "stdout",
                    "output_type": "stream",
                    "text": [
                        "\u001b[33;1m\u001b[1;3m> Current query: Compare and contrast the demographics in Seattle, Houston, and Toronto. \n",
                        "\u001b[0m\u001b[38;5;200m\u001b[1;3m> New query:  What is the population of Seattle?\n",
                        "\u001b[0m"
                    ]
                },
                {
                    "name": "stderr",
                    "output_type": "stream",
                    "text": [
                        "INFO:llama_index.token_counter.token_counter:> [retrieve] Total LLM token usage: 0 tokens\n",
                        "INFO:llama_index.token_counter.token_counter:> [retrieve] Total embedding token usage: 7 tokens\n",
                        "INFO:llama_index.token_counter.token_counter:> [get_response] Total LLM token usage: 1375 tokens\n",
                        "INFO:llama_index.token_counter.token_counter:> [get_response] Total embedding token usage: 0 tokens\n",
                        "INFO:llama_index.token_counter.token_counter:> [get_response] Total LLM token usage: 1375 tokens\n",
                        "INFO:llama_index.token_counter.token_counter:> [get_response] Total embedding token usage: 0 tokens\n",
                        "INFO:llama_index.token_counter.token_counter:> [retrieve] Total LLM token usage: 0 tokens\n",
                        "INFO:llama_index.token_counter.token_counter:> [retrieve] Total embedding token usage: 7 tokens\n"
                    ]
                },
                {
                    "name": "stdout",
                    "output_type": "stream",
                    "text": [
                        "\u001b[33;1m\u001b[1;3m> Current query: Compare and contrast the demographics in Seattle, Houston, and Toronto. \n",
                        "\u001b[0m\u001b[38;5;200m\u001b[1;3m> New query:  What is the population of Toronto?\n",
                        "\u001b[0m"
                    ]
                },
                {
                    "name": "stderr",
                    "output_type": "stream",
                    "text": [
                        "INFO:llama_index.token_counter.token_counter:> [get_response] Total LLM token usage: 1303 tokens\n",
                        "INFO:llama_index.token_counter.token_counter:> [get_response] Total embedding token usage: 0 tokens\n",
                        "INFO:llama_index.token_counter.token_counter:> [get_response] Total LLM token usage: 1303 tokens\n",
                        "INFO:llama_index.token_counter.token_counter:> [get_response] Total embedding token usage: 0 tokens\n"
                    ]
                },
                {
                    "name": "stdout",
                    "output_type": "stream",
                    "text": [
                        "\u001b[33;1m\u001b[1;3m> Current query: Compare and contrast the demographics in Seattle, Houston, and Toronto. \n",
                        "\u001b[0m\u001b[38;5;200m\u001b[1;3m> New query:  What is the population of Houston?\n",
                        "\u001b[0m"
                    ]
                },
                {
                    "name": "stderr",
                    "output_type": "stream",
                    "text": [
                        "INFO:llama_index.token_counter.token_counter:> [retrieve] Total LLM token usage: 0 tokens\n",
                        "INFO:llama_index.token_counter.token_counter:> [retrieve] Total embedding token usage: 7 tokens\n",
                        "INFO:llama_index.token_counter.token_counter:> [get_response] Total LLM token usage: 1401 tokens\n",
                        "INFO:llama_index.token_counter.token_counter:> [get_response] Total embedding token usage: 0 tokens\n",
                        "INFO:llama_index.token_counter.token_counter:> [get_response] Total LLM token usage: 1401 tokens\n",
                        "INFO:llama_index.token_counter.token_counter:> [get_response] Total embedding token usage: 0 tokens\n",
                        "INFO:llama_index.token_counter.token_counter:> [get_response] Total LLM token usage: 1681 tokens\n",
                        "INFO:llama_index.token_counter.token_counter:> [get_response] Total embedding token usage: 0 tokens\n",
                        "INFO:llama_index.token_counter.token_counter:> [get_response] Total LLM token usage: 1681 tokens\n",
                        "INFO:llama_index.token_counter.token_counter:> [get_response] Total embedding token usage: 0 tokens\n"
                    ]
                }
            ],
            "source": [
                "response = query_engine.query(query_str)"
            ]
        },
        {
            "cell_type": "code",
            "execution_count": 46,
            "id": "13108dca-8ce6-4485-a018-dcab2514868d",
            "metadata": {
                "tags": []
            },
            "outputs": [
                {
                    "name": "stdout",
                    "output_type": "stream",
                    "text": [
                        "\n",
                        "\n",
                        "Seattle, Houston, and Toronto all have diverse populations, with immigrants making up a significant portion of the population in each city. However, the countries of origin for the immigrants vary between the cities. In Seattle, the top countries of origin for immigrants are Mexico, India, China, Philippines, and Vietnam. In Houston, the top countries of origin for immigrants are Mexico, India, El Salvador, Honduras, and Guatemala. In Toronto, the top countries of origin for immigrants are Philippines, China, India, Sri Lanka, and Jamaica. Additionally, the median age of the population varies between the cities. In Seattle, the median age is 37.2, in Houston it is 33.4, and in Toronto it is 39.2. Furthermore, the gender population also varies between the cities. In Seattle, the gender population is 48.2% male and 51.8% female, in Houston it is 48.3% male and 51.7% female, and in Toronto it is 48% male and 52% female. In 2016, the three most commonly reported ethnic origins overall were Chinese (332,830 or 12.5 per cent), South Asian (323,810 or 11.9 per cent), and Black (308,345 or 11.3\n"
                    ]
                }
            ],
            "source": [
                "print(str(response))"
            ]
        },
        {
            "cell_type": "code",
            "execution_count": 47,
            "id": "59acffe2-c653-4ea7-a381-b55e67d8a35c",
            "metadata": {
                "tags": []
            },
            "outputs": [
                {
                    "name": "stderr",
                    "output_type": "stream",
                    "text": [
                        "INFO:llama_index.token_counter.token_counter:> [retrieve] Total LLM token usage: 0 tokens\n",
                        "INFO:llama_index.token_counter.token_counter:> [retrieve] Total embedding token usage: 14 tokens\n",
                        "INFO:llama_index.token_counter.token_counter:> [get_response] Total LLM token usage: 3549 tokens\n",
                        "INFO:llama_index.token_counter.token_counter:> [get_response] Total embedding token usage: 0 tokens\n",
                        "INFO:llama_index.token_counter.token_counter:> [get_response] Total LLM token usage: 3549 tokens\n",
                        "INFO:llama_index.token_counter.token_counter:> [get_response] Total embedding token usage: 0 tokens\n"
                    ]
                }
            ],
            "source": [
                "query_engine = global_index.as_query_engine(\n",
                "    similarity_top_k=3, \n",
                "    response_mode=\"tree_summarize\"\n",
                ")\n",
                "response = query_engine.query(query_str)"
            ]
        },
        {
            "cell_type": "code",
            "execution_count": 48,
            "id": "e88666ad-a934-4f0a-b377-fe92d2361e8e",
            "metadata": {
                "tags": []
            },
            "outputs": [
                {
                    "name": "stdout",
                    "output_type": "stream",
                    "text": [
                        "\n",
                        "\n",
                        "Seattle is a major U.S. city located in the Pacific Northwest region of the United States. It has a population of over 730,000 people and is known for its high percentage of college and university graduates. Of the city's population over the age of 25, 53.8% hold a bachelor's degree or higher, and 91.9% have a high school diploma or equivalent. Seattle is also home to the University of Washington, as well as a number of smaller private universities such as Seattle Pacific University, a Jesuit Catholic institution, and Seattle University, a Free Methodist institution. The Seattle Colleges District operates three colleges: North Seattle College, Seattle Central College, and South Seattle College. According to a 2006 study by UCLA, 12.9% of city residents polled identified as gay, lesbian, or bisexual. This was the second-highest proportion of any major U.S. city, behind San Francisco. Seattle's economy is driven by a mix of older industrial companies and \"new economy\" internet and technology companies, as well as service, design, and clean technology companies. It is estimated that King County has 8,000 homeless people on any given night, and many of those live in Seattle. In recent years, the city has experienced steady population\n"
                    ]
                }
            ],
            "source": [
                "# NOTE: the global vector index seems to provide the right results....\n",
                "# BUT see below! \n",
                "print(str(response))"
            ]
        },
        {
            "cell_type": "code",
            "execution_count": 49,
            "id": "0435679a-d3ea-47ed-995e-e981ed65294b",
            "metadata": {
                "tags": []
            },
            "outputs": [
                {
                    "name": "stdout",
                    "output_type": "stream",
                    "text": [
                        "Tiffany Washington, and Kendee Yamaguchi.\n",
                        "\n",
                        "\n",
                        "== Education ==\n",
                        "\n",
                        "Of the city's population over the age of 25, 53.8% (vs. a national average of 27.4%) hold a bachelor's degree or higher, and 91.9% (vs. 84.5% nationally) have a high school diploma or equivalent. A 2008 United States Census Bureau survey showed that Seattle had the highest percentage of college and university graduates of any major U.S. city. The city was listed as the most literate of the country's 69 largest cities in 2005 and 2006, the second most literate in 2007 and the most literate in 2008 in studies conducted by Central Connecticut State University.Seattle Public Schools is the school district for the vast majority of the city. That school district desegregated without a court order but continue to struggle to achieve racial balance in a somewhat ethnically divided city (the south part of town having more ethnic minorities than the north). In 2007, Seattle's racial tie-breaking system was struck down by the United States Supreme Court, but the ruling left the door open for desegregation formulae based on other indicators (e.g., income or socioeconomic class). A very small portion of the city is within the Highline School District.The public school system is supplemented by a moderate number of private schools: Five of the private high schools are Catholic, one is Lutheran, and six are secular.Seattle is home to the University of Washington, as well as the institution's professional and continuing education unit, the University of Washington Educational Outreach. The 2017 U.S. News & World Report ranked the University of Washington at No. 11 in the world. The UW receives more federal research and development funding than any public institution. Over the last 10 years, it has also produced more Peace Corps volunteers than any other U.S. university. Seattle also has a number of smaller private universities including Seattle University and Seattle Pacific University, the former a Jesuit Catholic institution, the latter a Free Methodist institution. The Seattle Colleges District operates three colleges: North Seattle College, Seattle Central College, and South Seattle College. Universities aimed at the\n",
                        "bisexual, and transgender community. According to a 2006 study by UCLA, 12.9% of city residents polled identified as gay, lesbian, or bisexual. This was the second-highest proportion of any major U.S. city, behind San Francisco. Greater Seattle also ranked second among major U.S. metropolitan areas, with 6.5% of the population identifying as gay, lesbian, or bisexual. According to 2012 estimates from the United States Census Bureau, Seattle has the highest percentage of same-sex households in the United States, at 2.6 percent, surpassing San Francisco (2.5 percent). The Capitol Hill district has historically been the center of LGBT culture in Seattle.\n",
                        "\n",
                        "\n",
                        "== Economy ==\n",
                        "\n",
                        "Seattle's economy is driven by a mix of older industrial companies and \"new economy\" internet and technology companies, as well as service, design, and clean technology companies. The city's gross metropolitan product (GMP) was $231 billion in 2010, making it the 11th largest metropolitan economy in the United States. The Port of Seattle, which also operates Seattle–Tacoma International Airport, is a major gateway for trade with Asia and cruises to Alaska. It also is the 8th largest port in the United States when measured by container capacity. Its maritime cargo operations merged with the Port of Tacoma in 2015 to form the Northwest Seaport Alliance. Although it was affected by the Great Recession, Seattle has retained a comparatively strong economy, and is noted for start-up businesses, especially in green building and clean technologies. In February 2010, the city government committed Seattle to become North America's first \"climate neutral\" city, with a goal of reaching zero net per capita greenhouse gas emissions by 2030.Large companies continue to dominate the business landscape. Seven companies on Fortune 500's 2022 list of the United States' largest companies (based on total revenue) are headquartered in Seattle: Internet retailer Amazon (#2), coffee chain Starbucks (#120), freight forwarder Expeditors International of Washington (#225), department store Nordstrom (#245), forest products company Weyerhaeuser (#354), online travel company\n"
                    ]
                },
                {
                    "name": "stderr",
                    "output_type": "stream",
                    "text": [
                        "/Users/suo/dev/llama_index/llama_index/data_structs/node.py:176: UserWarning: .source_text is deprecated, use .node.get_text() instead\n",
                        "  warnings.warn(\".source_text is deprecated, use .node.get_text() instead\")\n"
                    ]
                }
            ],
            "source": [
                "# NOTE: there's hallucination! the sources only reference Toronto\n",
                "print(response.source_nodes[0].source_text)\n",
                "print(response.source_nodes[1].source_text)"
            ]
        },
        {
            "cell_type": "markdown",
            "id": "d3cb4d7b-7bcc-46bf-b7d6-d0230c3d7fdd",
            "metadata": {
                "id": "d3cb4d7b-7bcc-46bf-b7d6-d0230c3d7fdd"
            },
            "source": [
                "**Complex Query 2**"
            ]
        },
        {
            "cell_type": "code",
            "execution_count": null,
            "id": "cd85d13a-b3ff-41f6-8d32-59f0cb3b864c",
            "metadata": {
                "tags": []
            },
            "outputs": [],
            "source": [
                "# with query decomposition\n",
                "query_str = (\n",
                "    \"What are the basketball teams in Houston and Boston?\"\n",
                ")"
            ]
        },
        {
            "cell_type": "code",
            "execution_count": null,
            "id": "efc816e8-099c-41b9-99e6-2c6ab3e6434f",
            "metadata": {
                "tags": []
            },
            "outputs": [],
            "source": [
                "query_engine = graph.as_query_engine(custom_query_engines=custom_query_engines)\n",
                "\n",
                "response = query_engine.query(query_str)"
            ]
        },
        {
            "cell_type": "code",
            "execution_count": null,
            "id": "7d749f14-4868-49db-8c03-2583f849400f",
            "metadata": {},
            "outputs": [],
            "source": [
                "print(str(response))"
            ]
        },
        {
            "cell_type": "code",
            "execution_count": null,
            "id": "4774de86-a90d-4aad-9991-efd6310712d0",
            "metadata": {
                "tags": []
            },
            "outputs": [],
            "source": [
                "query_engine = global_index.as_query_engine(\n",
                "    similarity_top_k=2, \n",
                "    response_mode=\"tree_summarize\"\n",
                ")\n",
                "response = query_engine.query(query_str)"
            ]
        },
        {
            "cell_type": "code",
            "execution_count": null,
            "id": "82ade804-fe01-46b2-9a37-cd597f1be322",
            "metadata": {
                "tags": []
            },
            "outputs": [],
            "source": [
                "print(str(response))"
            ]
        },
        {
            "cell_type": "markdown",
            "id": "53f527c8-0d53-4b29-8f1f-7b5bf22ca55e",
            "metadata": {
                "id": "53f527c8-0d53-4b29-8f1f-7b5bf22ca55e"
            },
            "source": [
                "**Complex Query 3**"
            ]
        },
        {
            "cell_type": "code",
            "execution_count": null,
            "id": "8ce68a61-26ec-452d-8548-0dab82e30edd",
            "metadata": {
                "tags": []
            },
            "outputs": [],
            "source": [
                "# with query decomposition\n",
                "query_str = (\n",
                "    \"Compare and contrast the climate of Houston and Boston \"\n",
                ")"
            ]
        },
        {
            "cell_type": "code",
            "execution_count": null,
            "id": "8eb46d09-f1e5-4890-a2c3-efa54fb91874",
            "metadata": {
                "tags": []
            },
            "outputs": [],
            "source": [
                "query_engine = graph.as_query_engine(custom_query_engines=custom_query_engines)\n",
                "\n",
                "response = query_engine.query(query_str)"
            ]
        },
        {
            "cell_type": "code",
            "execution_count": null,
            "id": "0aa7efdf-c8c0-4efb-83a0-ad617f120307",
            "metadata": {
                "tags": []
            },
            "outputs": [],
            "source": [
                "print(response)"
            ]
        },
        {
            "cell_type": "code",
            "execution_count": null,
            "id": "ba153f95-9ee7-45c7-91d8-5edfd02a841a",
            "metadata": {
                "tags": []
            },
            "outputs": [],
            "source": [
                "query_engine = global_index.as_query_engine(\n",
                "    similarity_top_k=2, \n",
                "    response_mode=\"tree_summarize\"\n",
                ")\n",
                "response = query_engine.query(query_str)"
            ]
        },
        {
            "cell_type": "code",
            "execution_count": null,
            "id": "d1741635-2262-4ed2-88cc-2e23e02f6cf8",
            "metadata": {
                "tags": []
            },
            "outputs": [],
            "source": [
                "print(str(response))"
            ]
        },
        {
            "cell_type": "code",
            "execution_count": null,
            "id": "3c3fb6b4-f32c-4bee-9b0a-ca38b1fc8379",
            "metadata": {},
            "outputs": [],
            "source": []
        }
    ],
    "metadata": {
        "colab": {
            "provenance": []
        },
        "kernelspec": {
            "display_name": "llama",
            "language": "python",
            "name": "python3"
        },
        "language_info": {
            "codemirror_mode": {
                "name": "ipython",
                "version": 3
            },
            "file_extension": ".py",
            "mimetype": "text/x-python",
            "name": "python",
            "nbconvert_exporter": "python",
            "pygments_lexer": "ipython3",
            "version": "3.9.16"
        },
        "widgets": {
            "application/vnd.jupyter.widget-state+json": {
                "026cc1a42e154f1f92b5236869311929": {
                    "model_module": "@jupyter-widgets/controls",
                    "model_module_version": "1.5.0",
                    "model_name": "FloatProgressModel",
                    "state": {
                        "_dom_classes": [],
                        "_model_module": "@jupyter-widgets/controls",
                        "_model_module_version": "1.5.0",
                        "_model_name": "FloatProgressModel",
                        "_view_count": null,
                        "_view_module": "@jupyter-widgets/controls",
                        "_view_module_version": "1.5.0",
                        "_view_name": "ProgressView",
                        "bar_style": "success",
                        "description": "",
                        "description_tooltip": null,
                        "layout": "IPY_MODEL_4cc9ec6ba46647aba2d53e352f91c137",
                        "max": 665,
                        "min": 0,
                        "orientation": "horizontal",
                        "style": "IPY_MODEL_f2a1c5087d0e44909139697ed90474e8",
                        "value": 665
                    }
                },
                "028aa5d1f7a74d538b5c606d4a6d146f": {
                    "model_module": "@jupyter-widgets/base",
                    "model_module_version": "1.2.0",
                    "model_name": "LayoutModel",
                    "state": {
                        "_model_module": "@jupyter-widgets/base",
                        "_model_module_version": "1.2.0",
                        "_model_name": "LayoutModel",
                        "_view_count": null,
                        "_view_module": "@jupyter-widgets/base",
                        "_view_module_version": "1.2.0",
                        "_view_name": "LayoutView",
                        "align_content": null,
                        "align_items": null,
                        "align_self": null,
                        "border": null,
                        "bottom": null,
                        "display": null,
                        "flex": null,
                        "flex_flow": null,
                        "grid_area": null,
                        "grid_auto_columns": null,
                        "grid_auto_flow": null,
                        "grid_auto_rows": null,
                        "grid_column": null,
                        "grid_gap": null,
                        "grid_row": null,
                        "grid_template_areas": null,
                        "grid_template_columns": null,
                        "grid_template_rows": null,
                        "height": null,
                        "justify_content": null,
                        "justify_items": null,
                        "left": null,
                        "margin": null,
                        "max_height": null,
                        "max_width": null,
                        "min_height": null,
                        "min_width": null,
                        "object_fit": null,
                        "object_position": null,
                        "order": null,
                        "overflow": null,
                        "overflow_x": null,
                        "overflow_y": null,
                        "padding": null,
                        "right": null,
                        "top": null,
                        "visibility": null,
                        "width": null
                    }
                },
                "119d6d7a8d524aa49170f5784ebc6b9e": {
                    "model_module": "@jupyter-widgets/controls",
                    "model_module_version": "1.5.0",
                    "model_name": "DescriptionStyleModel",
                    "state": {
                        "_model_module": "@jupyter-widgets/controls",
                        "_model_module_version": "1.5.0",
                        "_model_name": "DescriptionStyleModel",
                        "_view_count": null,
                        "_view_module": "@jupyter-widgets/base",
                        "_view_module_version": "1.2.0",
                        "_view_name": "StyleView",
                        "description_width": ""
                    }
                },
                "1bdaf4dab16f48dbaeed3fb9bf268e45": {
                    "model_module": "@jupyter-widgets/controls",
                    "model_module_version": "1.5.0",
                    "model_name": "HTMLModel",
                    "state": {
                        "_dom_classes": [],
                        "_model_module": "@jupyter-widgets/controls",
                        "_model_module_version": "1.5.0",
                        "_model_name": "HTMLModel",
                        "_view_count": null,
                        "_view_module": "@jupyter-widgets/controls",
                        "_view_module_version": "1.5.0",
                        "_view_name": "HTMLView",
                        "description": "",
                        "description_tooltip": null,
                        "layout": "IPY_MODEL_028aa5d1f7a74d538b5c606d4a6d146f",
                        "placeholder": "​",
                        "style": "IPY_MODEL_c078fe9a056a473dab7d474cd7907154",
                        "value": "Downloading (…)lve/main/config.json: 100%"
                    }
                },
                "2053e6adef1b4dba89f861eaf3d916fd": {
                    "model_module": "@jupyter-widgets/controls",
                    "model_module_version": "1.5.0",
                    "model_name": "DescriptionStyleModel",
                    "state": {
                        "_model_module": "@jupyter-widgets/controls",
                        "_model_module_version": "1.5.0",
                        "_model_name": "DescriptionStyleModel",
                        "_view_count": null,
                        "_view_module": "@jupyter-widgets/base",
                        "_view_module_version": "1.2.0",
                        "_view_name": "StyleView",
                        "description_width": ""
                    }
                },
                "208d404f405a42a3b06d65ad67fb7322": {
                    "model_module": "@jupyter-widgets/controls",
                    "model_module_version": "1.5.0",
                    "model_name": "HTMLModel",
                    "state": {
                        "_dom_classes": [],
                        "_model_module": "@jupyter-widgets/controls",
                        "_model_module_version": "1.5.0",
                        "_model_name": "HTMLModel",
                        "_view_count": null,
                        "_view_module": "@jupyter-widgets/controls",
                        "_view_module_version": "1.5.0",
                        "_view_name": "HTMLView",
                        "description": "",
                        "description_tooltip": null,
                        "layout": "IPY_MODEL_3fef46c902524717b377dee6c1dfc929",
                        "placeholder": "​",
                        "style": "IPY_MODEL_fd8b887c1f7149f2876cf8a31e534ad6",
                        "value": "Downloading (…)olve/main/vocab.json: 100%"
                    }
                },
                "380a0c11434241b191b17421e395be8b": {
                    "model_module": "@jupyter-widgets/base",
                    "model_module_version": "1.2.0",
                    "model_name": "LayoutModel",
                    "state": {
                        "_model_module": "@jupyter-widgets/base",
                        "_model_module_version": "1.2.0",
                        "_model_name": "LayoutModel",
                        "_view_count": null,
                        "_view_module": "@jupyter-widgets/base",
                        "_view_module_version": "1.2.0",
                        "_view_name": "LayoutView",
                        "align_content": null,
                        "align_items": null,
                        "align_self": null,
                        "border": null,
                        "bottom": null,
                        "display": null,
                        "flex": null,
                        "flex_flow": null,
                        "grid_area": null,
                        "grid_auto_columns": null,
                        "grid_auto_flow": null,
                        "grid_auto_rows": null,
                        "grid_column": null,
                        "grid_gap": null,
                        "grid_row": null,
                        "grid_template_areas": null,
                        "grid_template_columns": null,
                        "grid_template_rows": null,
                        "height": null,
                        "justify_content": null,
                        "justify_items": null,
                        "left": null,
                        "margin": null,
                        "max_height": null,
                        "max_width": null,
                        "min_height": null,
                        "min_width": null,
                        "object_fit": null,
                        "object_position": null,
                        "order": null,
                        "overflow": null,
                        "overflow_x": null,
                        "overflow_y": null,
                        "padding": null,
                        "right": null,
                        "top": null,
                        "visibility": null,
                        "width": null
                    }
                },
                "398f1c0f56fe4f218d999df138adfdac": {
                    "model_module": "@jupyter-widgets/base",
                    "model_module_version": "1.2.0",
                    "model_name": "LayoutModel",
                    "state": {
                        "_model_module": "@jupyter-widgets/base",
                        "_model_module_version": "1.2.0",
                        "_model_name": "LayoutModel",
                        "_view_count": null,
                        "_view_module": "@jupyter-widgets/base",
                        "_view_module_version": "1.2.0",
                        "_view_name": "LayoutView",
                        "align_content": null,
                        "align_items": null,
                        "align_self": null,
                        "border": null,
                        "bottom": null,
                        "display": null,
                        "flex": null,
                        "flex_flow": null,
                        "grid_area": null,
                        "grid_auto_columns": null,
                        "grid_auto_flow": null,
                        "grid_auto_rows": null,
                        "grid_column": null,
                        "grid_gap": null,
                        "grid_row": null,
                        "grid_template_areas": null,
                        "grid_template_columns": null,
                        "grid_template_rows": null,
                        "height": null,
                        "justify_content": null,
                        "justify_items": null,
                        "left": null,
                        "margin": null,
                        "max_height": null,
                        "max_width": null,
                        "min_height": null,
                        "min_width": null,
                        "object_fit": null,
                        "object_position": null,
                        "order": null,
                        "overflow": null,
                        "overflow_x": null,
                        "overflow_y": null,
                        "padding": null,
                        "right": null,
                        "top": null,
                        "visibility": null,
                        "width": null
                    }
                },
                "3b4c1066797b43a586611ec2d63e7ca1": {
                    "model_module": "@jupyter-widgets/controls",
                    "model_module_version": "1.5.0",
                    "model_name": "HBoxModel",
                    "state": {
                        "_dom_classes": [],
                        "_model_module": "@jupyter-widgets/controls",
                        "_model_module_version": "1.5.0",
                        "_model_name": "HBoxModel",
                        "_view_count": null,
                        "_view_module": "@jupyter-widgets/controls",
                        "_view_module_version": "1.5.0",
                        "_view_name": "HBoxView",
                        "box_style": "",
                        "children": [
                            "IPY_MODEL_c06865c1e01a441698dacf48600dd03c",
                            "IPY_MODEL_9d229e5dd56e4d539ca2c1b9f0a37812",
                            "IPY_MODEL_868aa268dd28498d902782215e53c6fa"
                        ],
                        "layout": "IPY_MODEL_46f644cf589e4a48a6fad1742f0c0575"
                    }
                },
                "3c37e72850c746ce9c919add5340dede": {
                    "model_module": "@jupyter-widgets/base",
                    "model_module_version": "1.2.0",
                    "model_name": "LayoutModel",
                    "state": {
                        "_model_module": "@jupyter-widgets/base",
                        "_model_module_version": "1.2.0",
                        "_model_name": "LayoutModel",
                        "_view_count": null,
                        "_view_module": "@jupyter-widgets/base",
                        "_view_module_version": "1.2.0",
                        "_view_name": "LayoutView",
                        "align_content": null,
                        "align_items": null,
                        "align_self": null,
                        "border": null,
                        "bottom": null,
                        "display": null,
                        "flex": null,
                        "flex_flow": null,
                        "grid_area": null,
                        "grid_auto_columns": null,
                        "grid_auto_flow": null,
                        "grid_auto_rows": null,
                        "grid_column": null,
                        "grid_gap": null,
                        "grid_row": null,
                        "grid_template_areas": null,
                        "grid_template_columns": null,
                        "grid_template_rows": null,
                        "height": null,
                        "justify_content": null,
                        "justify_items": null,
                        "left": null,
                        "margin": null,
                        "max_height": null,
                        "max_width": null,
                        "min_height": null,
                        "min_width": null,
                        "object_fit": null,
                        "object_position": null,
                        "order": null,
                        "overflow": null,
                        "overflow_x": null,
                        "overflow_y": null,
                        "padding": null,
                        "right": null,
                        "top": null,
                        "visibility": null,
                        "width": null
                    }
                },
                "3f748152b9274556afad2555572aa9f4": {
                    "model_module": "@jupyter-widgets/controls",
                    "model_module_version": "1.5.0",
                    "model_name": "DescriptionStyleModel",
                    "state": {
                        "_model_module": "@jupyter-widgets/controls",
                        "_model_module_version": "1.5.0",
                        "_model_name": "DescriptionStyleModel",
                        "_view_count": null,
                        "_view_module": "@jupyter-widgets/base",
                        "_view_module_version": "1.2.0",
                        "_view_name": "StyleView",
                        "description_width": ""
                    }
                },
                "3fef46c902524717b377dee6c1dfc929": {
                    "model_module": "@jupyter-widgets/base",
                    "model_module_version": "1.2.0",
                    "model_name": "LayoutModel",
                    "state": {
                        "_model_module": "@jupyter-widgets/base",
                        "_model_module_version": "1.2.0",
                        "_model_name": "LayoutModel",
                        "_view_count": null,
                        "_view_module": "@jupyter-widgets/base",
                        "_view_module_version": "1.2.0",
                        "_view_name": "LayoutView",
                        "align_content": null,
                        "align_items": null,
                        "align_self": null,
                        "border": null,
                        "bottom": null,
                        "display": null,
                        "flex": null,
                        "flex_flow": null,
                        "grid_area": null,
                        "grid_auto_columns": null,
                        "grid_auto_flow": null,
                        "grid_auto_rows": null,
                        "grid_column": null,
                        "grid_gap": null,
                        "grid_row": null,
                        "grid_template_areas": null,
                        "grid_template_columns": null,
                        "grid_template_rows": null,
                        "height": null,
                        "justify_content": null,
                        "justify_items": null,
                        "left": null,
                        "margin": null,
                        "max_height": null,
                        "max_width": null,
                        "min_height": null,
                        "min_width": null,
                        "object_fit": null,
                        "object_position": null,
                        "order": null,
                        "overflow": null,
                        "overflow_x": null,
                        "overflow_y": null,
                        "padding": null,
                        "right": null,
                        "top": null,
                        "visibility": null,
                        "width": null
                    }
                },
                "40e148c291ad4f739998a7eac55a8af6": {
                    "model_module": "@jupyter-widgets/base",
                    "model_module_version": "1.2.0",
                    "model_name": "LayoutModel",
                    "state": {
                        "_model_module": "@jupyter-widgets/base",
                        "_model_module_version": "1.2.0",
                        "_model_name": "LayoutModel",
                        "_view_count": null,
                        "_view_module": "@jupyter-widgets/base",
                        "_view_module_version": "1.2.0",
                        "_view_name": "LayoutView",
                        "align_content": null,
                        "align_items": null,
                        "align_self": null,
                        "border": null,
                        "bottom": null,
                        "display": null,
                        "flex": null,
                        "flex_flow": null,
                        "grid_area": null,
                        "grid_auto_columns": null,
                        "grid_auto_flow": null,
                        "grid_auto_rows": null,
                        "grid_column": null,
                        "grid_gap": null,
                        "grid_row": null,
                        "grid_template_areas": null,
                        "grid_template_columns": null,
                        "grid_template_rows": null,
                        "height": null,
                        "justify_content": null,
                        "justify_items": null,
                        "left": null,
                        "margin": null,
                        "max_height": null,
                        "max_width": null,
                        "min_height": null,
                        "min_width": null,
                        "object_fit": null,
                        "object_position": null,
                        "order": null,
                        "overflow": null,
                        "overflow_x": null,
                        "overflow_y": null,
                        "padding": null,
                        "right": null,
                        "top": null,
                        "visibility": null,
                        "width": null
                    }
                },
                "46f644cf589e4a48a6fad1742f0c0575": {
                    "model_module": "@jupyter-widgets/base",
                    "model_module_version": "1.2.0",
                    "model_name": "LayoutModel",
                    "state": {
                        "_model_module": "@jupyter-widgets/base",
                        "_model_module_version": "1.2.0",
                        "_model_name": "LayoutModel",
                        "_view_count": null,
                        "_view_module": "@jupyter-widgets/base",
                        "_view_module_version": "1.2.0",
                        "_view_name": "LayoutView",
                        "align_content": null,
                        "align_items": null,
                        "align_self": null,
                        "border": null,
                        "bottom": null,
                        "display": null,
                        "flex": null,
                        "flex_flow": null,
                        "grid_area": null,
                        "grid_auto_columns": null,
                        "grid_auto_flow": null,
                        "grid_auto_rows": null,
                        "grid_column": null,
                        "grid_gap": null,
                        "grid_row": null,
                        "grid_template_areas": null,
                        "grid_template_columns": null,
                        "grid_template_rows": null,
                        "height": null,
                        "justify_content": null,
                        "justify_items": null,
                        "left": null,
                        "margin": null,
                        "max_height": null,
                        "max_width": null,
                        "min_height": null,
                        "min_width": null,
                        "object_fit": null,
                        "object_position": null,
                        "order": null,
                        "overflow": null,
                        "overflow_x": null,
                        "overflow_y": null,
                        "padding": null,
                        "right": null,
                        "top": null,
                        "visibility": null,
                        "width": null
                    }
                },
                "47838fa763ca40598b2622a9d1e79444": {
                    "model_module": "@jupyter-widgets/controls",
                    "model_module_version": "1.5.0",
                    "model_name": "HTMLModel",
                    "state": {
                        "_dom_classes": [],
                        "_model_module": "@jupyter-widgets/controls",
                        "_model_module_version": "1.5.0",
                        "_model_name": "HTMLModel",
                        "_view_count": null,
                        "_view_module": "@jupyter-widgets/controls",
                        "_view_module_version": "1.5.0",
                        "_view_name": "HTMLView",
                        "description": "",
                        "description_tooltip": null,
                        "layout": "IPY_MODEL_b102e756f9b848a98f58396fc825be84",
                        "placeholder": "​",
                        "style": "IPY_MODEL_fbd7219af1924d2ead5310eb7b35aab0",
                        "value": " 1.04M/1.04M [00:00&lt;00:00, 23.7MB/s]"
                    }
                },
                "4cc9ec6ba46647aba2d53e352f91c137": {
                    "model_module": "@jupyter-widgets/base",
                    "model_module_version": "1.2.0",
                    "model_name": "LayoutModel",
                    "state": {
                        "_model_module": "@jupyter-widgets/base",
                        "_model_module_version": "1.2.0",
                        "_model_name": "LayoutModel",
                        "_view_count": null,
                        "_view_module": "@jupyter-widgets/base",
                        "_view_module_version": "1.2.0",
                        "_view_name": "LayoutView",
                        "align_content": null,
                        "align_items": null,
                        "align_self": null,
                        "border": null,
                        "bottom": null,
                        "display": null,
                        "flex": null,
                        "flex_flow": null,
                        "grid_area": null,
                        "grid_auto_columns": null,
                        "grid_auto_flow": null,
                        "grid_auto_rows": null,
                        "grid_column": null,
                        "grid_gap": null,
                        "grid_row": null,
                        "grid_template_areas": null,
                        "grid_template_columns": null,
                        "grid_template_rows": null,
                        "height": null,
                        "justify_content": null,
                        "justify_items": null,
                        "left": null,
                        "margin": null,
                        "max_height": null,
                        "max_width": null,
                        "min_height": null,
                        "min_width": null,
                        "object_fit": null,
                        "object_position": null,
                        "order": null,
                        "overflow": null,
                        "overflow_x": null,
                        "overflow_y": null,
                        "padding": null,
                        "right": null,
                        "top": null,
                        "visibility": null,
                        "width": null
                    }
                },
                "64b754f563834be0a6963349b1f2dcf2": {
                    "model_module": "@jupyter-widgets/controls",
                    "model_module_version": "1.5.0",
                    "model_name": "HTMLModel",
                    "state": {
                        "_dom_classes": [],
                        "_model_module": "@jupyter-widgets/controls",
                        "_model_module_version": "1.5.0",
                        "_model_name": "HTMLModel",
                        "_view_count": null,
                        "_view_module": "@jupyter-widgets/controls",
                        "_view_module_version": "1.5.0",
                        "_view_name": "HTMLView",
                        "description": "",
                        "description_tooltip": null,
                        "layout": "IPY_MODEL_a02534c347aa4865ab4ab3de3a3ee2f5",
                        "placeholder": "​",
                        "style": "IPY_MODEL_b0ccb9d9d96e4ed8bec4d540c34d337c",
                        "value": "Downloading (…)/main/tokenizer.json: 100%"
                    }
                },
                "7438aea716f44d85ad1c2b49a93acd83": {
                    "model_module": "@jupyter-widgets/base",
                    "model_module_version": "1.2.0",
                    "model_name": "LayoutModel",
                    "state": {
                        "_model_module": "@jupyter-widgets/base",
                        "_model_module_version": "1.2.0",
                        "_model_name": "LayoutModel",
                        "_view_count": null,
                        "_view_module": "@jupyter-widgets/base",
                        "_view_module_version": "1.2.0",
                        "_view_name": "LayoutView",
                        "align_content": null,
                        "align_items": null,
                        "align_self": null,
                        "border": null,
                        "bottom": null,
                        "display": null,
                        "flex": null,
                        "flex_flow": null,
                        "grid_area": null,
                        "grid_auto_columns": null,
                        "grid_auto_flow": null,
                        "grid_auto_rows": null,
                        "grid_column": null,
                        "grid_gap": null,
                        "grid_row": null,
                        "grid_template_areas": null,
                        "grid_template_columns": null,
                        "grid_template_rows": null,
                        "height": null,
                        "justify_content": null,
                        "justify_items": null,
                        "left": null,
                        "margin": null,
                        "max_height": null,
                        "max_width": null,
                        "min_height": null,
                        "min_width": null,
                        "object_fit": null,
                        "object_position": null,
                        "order": null,
                        "overflow": null,
                        "overflow_x": null,
                        "overflow_y": null,
                        "padding": null,
                        "right": null,
                        "top": null,
                        "visibility": null,
                        "width": null
                    }
                },
                "7b24b46d6c3643e581ba003a9c473745": {
                    "model_module": "@jupyter-widgets/base",
                    "model_module_version": "1.2.0",
                    "model_name": "LayoutModel",
                    "state": {
                        "_model_module": "@jupyter-widgets/base",
                        "_model_module_version": "1.2.0",
                        "_model_name": "LayoutModel",
                        "_view_count": null,
                        "_view_module": "@jupyter-widgets/base",
                        "_view_module_version": "1.2.0",
                        "_view_name": "LayoutView",
                        "align_content": null,
                        "align_items": null,
                        "align_self": null,
                        "border": null,
                        "bottom": null,
                        "display": null,
                        "flex": null,
                        "flex_flow": null,
                        "grid_area": null,
                        "grid_auto_columns": null,
                        "grid_auto_flow": null,
                        "grid_auto_rows": null,
                        "grid_column": null,
                        "grid_gap": null,
                        "grid_row": null,
                        "grid_template_areas": null,
                        "grid_template_columns": null,
                        "grid_template_rows": null,
                        "height": null,
                        "justify_content": null,
                        "justify_items": null,
                        "left": null,
                        "margin": null,
                        "max_height": null,
                        "max_width": null,
                        "min_height": null,
                        "min_width": null,
                        "object_fit": null,
                        "object_position": null,
                        "order": null,
                        "overflow": null,
                        "overflow_x": null,
                        "overflow_y": null,
                        "padding": null,
                        "right": null,
                        "top": null,
                        "visibility": null,
                        "width": null
                    }
                },
                "7b47c78391a4431aa2d3f84677f24046": {
                    "model_module": "@jupyter-widgets/controls",
                    "model_module_version": "1.5.0",
                    "model_name": "DescriptionStyleModel",
                    "state": {
                        "_model_module": "@jupyter-widgets/controls",
                        "_model_module_version": "1.5.0",
                        "_model_name": "DescriptionStyleModel",
                        "_view_count": null,
                        "_view_module": "@jupyter-widgets/base",
                        "_view_module_version": "1.2.0",
                        "_view_name": "StyleView",
                        "description_width": ""
                    }
                },
                "7da29a2b6508494282acbc459eccbb96": {
                    "model_module": "@jupyter-widgets/controls",
                    "model_module_version": "1.5.0",
                    "model_name": "FloatProgressModel",
                    "state": {
                        "_dom_classes": [],
                        "_model_module": "@jupyter-widgets/controls",
                        "_model_module_version": "1.5.0",
                        "_model_name": "FloatProgressModel",
                        "_view_count": null,
                        "_view_module": "@jupyter-widgets/controls",
                        "_view_module_version": "1.5.0",
                        "_view_name": "ProgressView",
                        "bar_style": "success",
                        "description": "",
                        "description_tooltip": null,
                        "layout": "IPY_MODEL_7438aea716f44d85ad1c2b49a93acd83",
                        "max": 1042301,
                        "min": 0,
                        "orientation": "horizontal",
                        "style": "IPY_MODEL_fe39f994fa9b4d7daa232e1dcd2b0e8b",
                        "value": 1042301
                    }
                },
                "868aa268dd28498d902782215e53c6fa": {
                    "model_module": "@jupyter-widgets/controls",
                    "model_module_version": "1.5.0",
                    "model_name": "HTMLModel",
                    "state": {
                        "_dom_classes": [],
                        "_model_module": "@jupyter-widgets/controls",
                        "_model_module_version": "1.5.0",
                        "_model_name": "HTMLModel",
                        "_view_count": null,
                        "_view_module": "@jupyter-widgets/controls",
                        "_view_module_version": "1.5.0",
                        "_view_name": "HTMLView",
                        "description": "",
                        "description_tooltip": null,
                        "layout": "IPY_MODEL_3c37e72850c746ce9c919add5340dede",
                        "placeholder": "​",
                        "style": "IPY_MODEL_2053e6adef1b4dba89f861eaf3d916fd",
                        "value": " 456k/456k [00:00&lt;00:00, 11.9MB/s]"
                    }
                },
                "9d229e5dd56e4d539ca2c1b9f0a37812": {
                    "model_module": "@jupyter-widgets/controls",
                    "model_module_version": "1.5.0",
                    "model_name": "FloatProgressModel",
                    "state": {
                        "_dom_classes": [],
                        "_model_module": "@jupyter-widgets/controls",
                        "_model_module_version": "1.5.0",
                        "_model_name": "FloatProgressModel",
                        "_view_count": null,
                        "_view_module": "@jupyter-widgets/controls",
                        "_view_module_version": "1.5.0",
                        "_view_name": "ProgressView",
                        "bar_style": "success",
                        "description": "",
                        "description_tooltip": null,
                        "layout": "IPY_MODEL_398f1c0f56fe4f218d999df138adfdac",
                        "max": 456318,
                        "min": 0,
                        "orientation": "horizontal",
                        "style": "IPY_MODEL_f1839e86863948f68314f81ba6bca4c9",
                        "value": 456318
                    }
                },
                "a02534c347aa4865ab4ab3de3a3ee2f5": {
                    "model_module": "@jupyter-widgets/base",
                    "model_module_version": "1.2.0",
                    "model_name": "LayoutModel",
                    "state": {
                        "_model_module": "@jupyter-widgets/base",
                        "_model_module_version": "1.2.0",
                        "_model_name": "LayoutModel",
                        "_view_count": null,
                        "_view_module": "@jupyter-widgets/base",
                        "_view_module_version": "1.2.0",
                        "_view_name": "LayoutView",
                        "align_content": null,
                        "align_items": null,
                        "align_self": null,
                        "border": null,
                        "bottom": null,
                        "display": null,
                        "flex": null,
                        "flex_flow": null,
                        "grid_area": null,
                        "grid_auto_columns": null,
                        "grid_auto_flow": null,
                        "grid_auto_rows": null,
                        "grid_column": null,
                        "grid_gap": null,
                        "grid_row": null,
                        "grid_template_areas": null,
                        "grid_template_columns": null,
                        "grid_template_rows": null,
                        "height": null,
                        "justify_content": null,
                        "justify_items": null,
                        "left": null,
                        "margin": null,
                        "max_height": null,
                        "max_width": null,
                        "min_height": null,
                        "min_width": null,
                        "object_fit": null,
                        "object_position": null,
                        "order": null,
                        "overflow": null,
                        "overflow_x": null,
                        "overflow_y": null,
                        "padding": null,
                        "right": null,
                        "top": null,
                        "visibility": null,
                        "width": null
                    }
                },
                "a2edbc4195d843e0acfba83726a08e78": {
                    "model_module": "@jupyter-widgets/controls",
                    "model_module_version": "1.5.0",
                    "model_name": "HTMLModel",
                    "state": {
                        "_dom_classes": [],
                        "_model_module": "@jupyter-widgets/controls",
                        "_model_module_version": "1.5.0",
                        "_model_name": "HTMLModel",
                        "_view_count": null,
                        "_view_module": "@jupyter-widgets/controls",
                        "_view_module_version": "1.5.0",
                        "_view_name": "HTMLView",
                        "description": "",
                        "description_tooltip": null,
                        "layout": "IPY_MODEL_7b24b46d6c3643e581ba003a9c473745",
                        "placeholder": "​",
                        "style": "IPY_MODEL_3f748152b9274556afad2555572aa9f4",
                        "value": " 665/665 [00:00&lt;00:00, 22.7kB/s]"
                    }
                },
                "adb40ef11f094594b14776e238955224": {
                    "model_module": "@jupyter-widgets/base",
                    "model_module_version": "1.2.0",
                    "model_name": "LayoutModel",
                    "state": {
                        "_model_module": "@jupyter-widgets/base",
                        "_model_module_version": "1.2.0",
                        "_model_name": "LayoutModel",
                        "_view_count": null,
                        "_view_module": "@jupyter-widgets/base",
                        "_view_module_version": "1.2.0",
                        "_view_name": "LayoutView",
                        "align_content": null,
                        "align_items": null,
                        "align_self": null,
                        "border": null,
                        "bottom": null,
                        "display": null,
                        "flex": null,
                        "flex_flow": null,
                        "grid_area": null,
                        "grid_auto_columns": null,
                        "grid_auto_flow": null,
                        "grid_auto_rows": null,
                        "grid_column": null,
                        "grid_gap": null,
                        "grid_row": null,
                        "grid_template_areas": null,
                        "grid_template_columns": null,
                        "grid_template_rows": null,
                        "height": null,
                        "justify_content": null,
                        "justify_items": null,
                        "left": null,
                        "margin": null,
                        "max_height": null,
                        "max_width": null,
                        "min_height": null,
                        "min_width": null,
                        "object_fit": null,
                        "object_position": null,
                        "order": null,
                        "overflow": null,
                        "overflow_x": null,
                        "overflow_y": null,
                        "padding": null,
                        "right": null,
                        "top": null,
                        "visibility": null,
                        "width": null
                    }
                },
                "b0ccb9d9d96e4ed8bec4d540c34d337c": {
                    "model_module": "@jupyter-widgets/controls",
                    "model_module_version": "1.5.0",
                    "model_name": "DescriptionStyleModel",
                    "state": {
                        "_model_module": "@jupyter-widgets/controls",
                        "_model_module_version": "1.5.0",
                        "_model_name": "DescriptionStyleModel",
                        "_view_count": null,
                        "_view_module": "@jupyter-widgets/base",
                        "_view_module_version": "1.2.0",
                        "_view_name": "StyleView",
                        "description_width": ""
                    }
                },
                "b102e756f9b848a98f58396fc825be84": {
                    "model_module": "@jupyter-widgets/base",
                    "model_module_version": "1.2.0",
                    "model_name": "LayoutModel",
                    "state": {
                        "_model_module": "@jupyter-widgets/base",
                        "_model_module_version": "1.2.0",
                        "_model_name": "LayoutModel",
                        "_view_count": null,
                        "_view_module": "@jupyter-widgets/base",
                        "_view_module_version": "1.2.0",
                        "_view_name": "LayoutView",
                        "align_content": null,
                        "align_items": null,
                        "align_self": null,
                        "border": null,
                        "bottom": null,
                        "display": null,
                        "flex": null,
                        "flex_flow": null,
                        "grid_area": null,
                        "grid_auto_columns": null,
                        "grid_auto_flow": null,
                        "grid_auto_rows": null,
                        "grid_column": null,
                        "grid_gap": null,
                        "grid_row": null,
                        "grid_template_areas": null,
                        "grid_template_columns": null,
                        "grid_template_rows": null,
                        "height": null,
                        "justify_content": null,
                        "justify_items": null,
                        "left": null,
                        "margin": null,
                        "max_height": null,
                        "max_width": null,
                        "min_height": null,
                        "min_width": null,
                        "object_fit": null,
                        "object_position": null,
                        "order": null,
                        "overflow": null,
                        "overflow_x": null,
                        "overflow_y": null,
                        "padding": null,
                        "right": null,
                        "top": null,
                        "visibility": null,
                        "width": null
                    }
                },
                "b458d6fa793d4fa080b9f1e5013af3de": {
                    "model_module": "@jupyter-widgets/base",
                    "model_module_version": "1.2.0",
                    "model_name": "LayoutModel",
                    "state": {
                        "_model_module": "@jupyter-widgets/base",
                        "_model_module_version": "1.2.0",
                        "_model_name": "LayoutModel",
                        "_view_count": null,
                        "_view_module": "@jupyter-widgets/base",
                        "_view_module_version": "1.2.0",
                        "_view_name": "LayoutView",
                        "align_content": null,
                        "align_items": null,
                        "align_self": null,
                        "border": null,
                        "bottom": null,
                        "display": null,
                        "flex": null,
                        "flex_flow": null,
                        "grid_area": null,
                        "grid_auto_columns": null,
                        "grid_auto_flow": null,
                        "grid_auto_rows": null,
                        "grid_column": null,
                        "grid_gap": null,
                        "grid_row": null,
                        "grid_template_areas": null,
                        "grid_template_columns": null,
                        "grid_template_rows": null,
                        "height": null,
                        "justify_content": null,
                        "justify_items": null,
                        "left": null,
                        "margin": null,
                        "max_height": null,
                        "max_width": null,
                        "min_height": null,
                        "min_width": null,
                        "object_fit": null,
                        "object_position": null,
                        "order": null,
                        "overflow": null,
                        "overflow_x": null,
                        "overflow_y": null,
                        "padding": null,
                        "right": null,
                        "top": null,
                        "visibility": null,
                        "width": null
                    }
                },
                "b53e8481f6d64018988dc03081bf2765": {
                    "model_module": "@jupyter-widgets/controls",
                    "model_module_version": "1.5.0",
                    "model_name": "ProgressStyleModel",
                    "state": {
                        "_model_module": "@jupyter-widgets/controls",
                        "_model_module_version": "1.5.0",
                        "_model_name": "ProgressStyleModel",
                        "_view_count": null,
                        "_view_module": "@jupyter-widgets/base",
                        "_view_module_version": "1.2.0",
                        "_view_name": "StyleView",
                        "bar_color": null,
                        "description_width": ""
                    }
                },
                "b5566e3db2914ddebd80d7bde75b2559": {
                    "model_module": "@jupyter-widgets/controls",
                    "model_module_version": "1.5.0",
                    "model_name": "HBoxModel",
                    "state": {
                        "_dom_classes": [],
                        "_model_module": "@jupyter-widgets/controls",
                        "_model_module_version": "1.5.0",
                        "_model_name": "HBoxModel",
                        "_view_count": null,
                        "_view_module": "@jupyter-widgets/controls",
                        "_view_module_version": "1.5.0",
                        "_view_name": "HBoxView",
                        "box_style": "",
                        "children": [
                            "IPY_MODEL_208d404f405a42a3b06d65ad67fb7322",
                            "IPY_MODEL_7da29a2b6508494282acbc459eccbb96",
                            "IPY_MODEL_47838fa763ca40598b2622a9d1e79444"
                        ],
                        "layout": "IPY_MODEL_ff32a3f12e814740a1cd5dd12bd731d4"
                    }
                },
                "c06865c1e01a441698dacf48600dd03c": {
                    "model_module": "@jupyter-widgets/controls",
                    "model_module_version": "1.5.0",
                    "model_name": "HTMLModel",
                    "state": {
                        "_dom_classes": [],
                        "_model_module": "@jupyter-widgets/controls",
                        "_model_module_version": "1.5.0",
                        "_model_name": "HTMLModel",
                        "_view_count": null,
                        "_view_module": "@jupyter-widgets/controls",
                        "_view_module_version": "1.5.0",
                        "_view_name": "HTMLView",
                        "description": "",
                        "description_tooltip": null,
                        "layout": "IPY_MODEL_adb40ef11f094594b14776e238955224",
                        "placeholder": "​",
                        "style": "IPY_MODEL_7b47c78391a4431aa2d3f84677f24046",
                        "value": "Downloading (…)olve/main/merges.txt: 100%"
                    }
                },
                "c078fe9a056a473dab7d474cd7907154": {
                    "model_module": "@jupyter-widgets/controls",
                    "model_module_version": "1.5.0",
                    "model_name": "DescriptionStyleModel",
                    "state": {
                        "_model_module": "@jupyter-widgets/controls",
                        "_model_module_version": "1.5.0",
                        "_model_name": "DescriptionStyleModel",
                        "_view_count": null,
                        "_view_module": "@jupyter-widgets/base",
                        "_view_module_version": "1.2.0",
                        "_view_name": "StyleView",
                        "description_width": ""
                    }
                },
                "c7636a6d7380465895b8c86d34caf500": {
                    "model_module": "@jupyter-widgets/controls",
                    "model_module_version": "1.5.0",
                    "model_name": "FloatProgressModel",
                    "state": {
                        "_dom_classes": [],
                        "_model_module": "@jupyter-widgets/controls",
                        "_model_module_version": "1.5.0",
                        "_model_name": "FloatProgressModel",
                        "_view_count": null,
                        "_view_module": "@jupyter-widgets/controls",
                        "_view_module_version": "1.5.0",
                        "_view_name": "ProgressView",
                        "bar_style": "success",
                        "description": "",
                        "description_tooltip": null,
                        "layout": "IPY_MODEL_f22e9615de674e05978f332eb88750cf",
                        "max": 1355256,
                        "min": 0,
                        "orientation": "horizontal",
                        "style": "IPY_MODEL_b53e8481f6d64018988dc03081bf2765",
                        "value": 1355256
                    }
                },
                "d55f842766484d299c75f74e31e7aa6a": {
                    "model_module": "@jupyter-widgets/controls",
                    "model_module_version": "1.5.0",
                    "model_name": "HBoxModel",
                    "state": {
                        "_dom_classes": [],
                        "_model_module": "@jupyter-widgets/controls",
                        "_model_module_version": "1.5.0",
                        "_model_name": "HBoxModel",
                        "_view_count": null,
                        "_view_module": "@jupyter-widgets/controls",
                        "_view_module_version": "1.5.0",
                        "_view_name": "HBoxView",
                        "box_style": "",
                        "children": [
                            "IPY_MODEL_1bdaf4dab16f48dbaeed3fb9bf268e45",
                            "IPY_MODEL_026cc1a42e154f1f92b5236869311929",
                            "IPY_MODEL_a2edbc4195d843e0acfba83726a08e78"
                        ],
                        "layout": "IPY_MODEL_40e148c291ad4f739998a7eac55a8af6"
                    }
                },
                "eab4127882d24acfa9518ebff6f4e22a": {
                    "model_module": "@jupyter-widgets/controls",
                    "model_module_version": "1.5.0",
                    "model_name": "HBoxModel",
                    "state": {
                        "_dom_classes": [],
                        "_model_module": "@jupyter-widgets/controls",
                        "_model_module_version": "1.5.0",
                        "_model_name": "HBoxModel",
                        "_view_count": null,
                        "_view_module": "@jupyter-widgets/controls",
                        "_view_module_version": "1.5.0",
                        "_view_name": "HBoxView",
                        "box_style": "",
                        "children": [
                            "IPY_MODEL_64b754f563834be0a6963349b1f2dcf2",
                            "IPY_MODEL_c7636a6d7380465895b8c86d34caf500",
                            "IPY_MODEL_f7803dea63994cc2a31acf805bd19e67"
                        ],
                        "layout": "IPY_MODEL_380a0c11434241b191b17421e395be8b"
                    }
                },
                "f1839e86863948f68314f81ba6bca4c9": {
                    "model_module": "@jupyter-widgets/controls",
                    "model_module_version": "1.5.0",
                    "model_name": "ProgressStyleModel",
                    "state": {
                        "_model_module": "@jupyter-widgets/controls",
                        "_model_module_version": "1.5.0",
                        "_model_name": "ProgressStyleModel",
                        "_view_count": null,
                        "_view_module": "@jupyter-widgets/base",
                        "_view_module_version": "1.2.0",
                        "_view_name": "StyleView",
                        "bar_color": null,
                        "description_width": ""
                    }
                },
                "f22e9615de674e05978f332eb88750cf": {
                    "model_module": "@jupyter-widgets/base",
                    "model_module_version": "1.2.0",
                    "model_name": "LayoutModel",
                    "state": {
                        "_model_module": "@jupyter-widgets/base",
                        "_model_module_version": "1.2.0",
                        "_model_name": "LayoutModel",
                        "_view_count": null,
                        "_view_module": "@jupyter-widgets/base",
                        "_view_module_version": "1.2.0",
                        "_view_name": "LayoutView",
                        "align_content": null,
                        "align_items": null,
                        "align_self": null,
                        "border": null,
                        "bottom": null,
                        "display": null,
                        "flex": null,
                        "flex_flow": null,
                        "grid_area": null,
                        "grid_auto_columns": null,
                        "grid_auto_flow": null,
                        "grid_auto_rows": null,
                        "grid_column": null,
                        "grid_gap": null,
                        "grid_row": null,
                        "grid_template_areas": null,
                        "grid_template_columns": null,
                        "grid_template_rows": null,
                        "height": null,
                        "justify_content": null,
                        "justify_items": null,
                        "left": null,
                        "margin": null,
                        "max_height": null,
                        "max_width": null,
                        "min_height": null,
                        "min_width": null,
                        "object_fit": null,
                        "object_position": null,
                        "order": null,
                        "overflow": null,
                        "overflow_x": null,
                        "overflow_y": null,
                        "padding": null,
                        "right": null,
                        "top": null,
                        "visibility": null,
                        "width": null
                    }
                },
                "f2a1c5087d0e44909139697ed90474e8": {
                    "model_module": "@jupyter-widgets/controls",
                    "model_module_version": "1.5.0",
                    "model_name": "ProgressStyleModel",
                    "state": {
                        "_model_module": "@jupyter-widgets/controls",
                        "_model_module_version": "1.5.0",
                        "_model_name": "ProgressStyleModel",
                        "_view_count": null,
                        "_view_module": "@jupyter-widgets/base",
                        "_view_module_version": "1.2.0",
                        "_view_name": "StyleView",
                        "bar_color": null,
                        "description_width": ""
                    }
                },
                "f7803dea63994cc2a31acf805bd19e67": {
                    "model_module": "@jupyter-widgets/controls",
                    "model_module_version": "1.5.0",
                    "model_name": "HTMLModel",
                    "state": {
                        "_dom_classes": [],
                        "_model_module": "@jupyter-widgets/controls",
                        "_model_module_version": "1.5.0",
                        "_model_name": "HTMLModel",
                        "_view_count": null,
                        "_view_module": "@jupyter-widgets/controls",
                        "_view_module_version": "1.5.0",
                        "_view_name": "HTMLView",
                        "description": "",
                        "description_tooltip": null,
                        "layout": "IPY_MODEL_b458d6fa793d4fa080b9f1e5013af3de",
                        "placeholder": "​",
                        "style": "IPY_MODEL_119d6d7a8d524aa49170f5784ebc6b9e",
                        "value": " 1.36M/1.36M [00:00&lt;00:00, 30.3MB/s]"
                    }
                },
                "fbd7219af1924d2ead5310eb7b35aab0": {
                    "model_module": "@jupyter-widgets/controls",
                    "model_module_version": "1.5.0",
                    "model_name": "DescriptionStyleModel",
                    "state": {
                        "_model_module": "@jupyter-widgets/controls",
                        "_model_module_version": "1.5.0",
                        "_model_name": "DescriptionStyleModel",
                        "_view_count": null,
                        "_view_module": "@jupyter-widgets/base",
                        "_view_module_version": "1.2.0",
                        "_view_name": "StyleView",
                        "description_width": ""
                    }
                },
                "fd8b887c1f7149f2876cf8a31e534ad6": {
                    "model_module": "@jupyter-widgets/controls",
                    "model_module_version": "1.5.0",
                    "model_name": "DescriptionStyleModel",
                    "state": {
                        "_model_module": "@jupyter-widgets/controls",
                        "_model_module_version": "1.5.0",
                        "_model_name": "DescriptionStyleModel",
                        "_view_count": null,
                        "_view_module": "@jupyter-widgets/base",
                        "_view_module_version": "1.2.0",
                        "_view_name": "StyleView",
                        "description_width": ""
                    }
                },
                "fe39f994fa9b4d7daa232e1dcd2b0e8b": {
                    "model_module": "@jupyter-widgets/controls",
                    "model_module_version": "1.5.0",
                    "model_name": "ProgressStyleModel",
                    "state": {
                        "_model_module": "@jupyter-widgets/controls",
                        "_model_module_version": "1.5.0",
                        "_model_name": "ProgressStyleModel",
                        "_view_count": null,
                        "_view_module": "@jupyter-widgets/base",
                        "_view_module_version": "1.2.0",
                        "_view_name": "StyleView",
                        "bar_color": null,
                        "description_width": ""
                    }
                },
                "ff32a3f12e814740a1cd5dd12bd731d4": {
                    "model_module": "@jupyter-widgets/base",
                    "model_module_version": "1.2.0",
                    "model_name": "LayoutModel",
                    "state": {
                        "_model_module": "@jupyter-widgets/base",
                        "_model_module_version": "1.2.0",
                        "_model_name": "LayoutModel",
                        "_view_count": null,
                        "_view_module": "@jupyter-widgets/base",
                        "_view_module_version": "1.2.0",
                        "_view_name": "LayoutView",
                        "align_content": null,
                        "align_items": null,
                        "align_self": null,
                        "border": null,
                        "bottom": null,
                        "display": null,
                        "flex": null,
                        "flex_flow": null,
                        "grid_area": null,
                        "grid_auto_columns": null,
                        "grid_auto_flow": null,
                        "grid_auto_rows": null,
                        "grid_column": null,
                        "grid_gap": null,
                        "grid_row": null,
                        "grid_template_areas": null,
                        "grid_template_columns": null,
                        "grid_template_rows": null,
                        "height": null,
                        "justify_content": null,
                        "justify_items": null,
                        "left": null,
                        "margin": null,
                        "max_height": null,
                        "max_width": null,
                        "min_height": null,
                        "min_width": null,
                        "object_fit": null,
                        "object_position": null,
                        "order": null,
                        "overflow": null,
                        "overflow_x": null,
                        "overflow_y": null,
                        "padding": null,
                        "right": null,
                        "top": null,
                        "visibility": null,
                        "width": null
                    }
                }
            }
        }
    },
    "nbformat": 4,
    "nbformat_minor": 5
}
