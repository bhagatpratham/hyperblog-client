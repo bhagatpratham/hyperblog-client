{
    "cells": [
        {
            "attachments": {},
            "cell_type": "markdown",
            "id": "f3f797ad",
            "metadata": {},
            "source": [
                "# Question Generation"
            ]
        },
        {
            "cell_type": "code",
            "execution_count": 13,
            "id": "9080b39e",
            "metadata": {},
            "outputs": [],
            "source": [
                "import logging\n",
                "import sys\n",
                "import pandas as pd\n",
                "\n",
                "logging.basicConfig(stream=sys.stdout, level=logging.INFO)\n",
                "logging.getLogger().addHandler(logging.StreamHandler(stream=sys.stdout))"
            ]
        },
        {
            "cell_type": "code",
            "execution_count": 22,
            "id": "8d0b2364-4806-4656-81e7-3f6e4b910b5b",
            "metadata": {},
            "outputs": [],
            "source": [
                "from llama_index.evaluation import DatasetGenerator, QueryResponseEvaluator\n",
                "from llama_index import SimpleDirectoryReader, GPTVectorStoreIndex, ServiceContext, LLMPredictor, Response\n",
                "from langchain.chat_models import ChatOpenAI"
            ]
        },
        {
            "cell_type": "code",
            "execution_count": 3,
            "id": "834f4c8c-8c10-4f8d-bf43-444aaa1234b1",
            "metadata": {
                "tags": []
            },
            "outputs": [],
            "source": [
                "reader = SimpleDirectoryReader(\"../paul_graham_essay/data\")\n",
                "documents = reader.load_data()"
            ]
        },
        {
            "cell_type": "code",
            "execution_count": 4,
            "id": "9cc71140-d614-4696-9ade-d5bdc251d398",
            "metadata": {
                "tags": []
            },
            "outputs": [
                {
                    "name": "stdout",
                    "output_type": "stream",
                    "text": [
                        "WARNING:llama_index.llm_predictor.base:Unknown max input size for gpt-3.5-turbo, using defaults.\n",
                        "Unknown max input size for gpt-3.5-turbo, using defaults.\n"
                    ]
                }
            ],
            "source": [
                "data_generator = DatasetGenerator.from_documents(documents)"
            ]
        },
        {
            "cell_type": "code",
            "execution_count": null,
            "id": "f481b532-9be2-4ec3-b551-fd44060099bd",
            "metadata": {
                "tags": []
            },
            "outputs": [],
            "source": [
                "eval_questions = data_generator.generate_questions_from_nodes()"
            ]
        },
        {
            "cell_type": "code",
            "execution_count": 6,
            "id": "63720bd6-c060-4cc2-8a60-a39e935ee3e6",
            "metadata": {
                "tags": []
            },
            "outputs": [
                {
                    "data": {
                        "text/plain": [
                            "['What were the two main things the author worked on before college?',\n",
                            " 'What language did the author use to write programs on the IBM 1401?',\n",
                            " \"What was the author's first microcomputer and what did they use it for?\",\n",
                            " 'What did the author study in college before switching to AI?',\n",
                            " 'What made the author want to work on AI?',\n",
                            " 'What language was commonly used for AI in the mid-1980s?',\n",
                            " 'What did the author realize about AI during their first year of grad school?',\n",
                            " 'What did the author decide to focus on instead of AI?',\n",
                            " 'What was the problem with systems work according to the author?',\n",
                            " 'What did the author realize about making art while looking at a painting at the Carnegie Institute?',\n",
                            " \"What was the topic of the author's dissertation?\",\n",
                            " 'Which art schools did the author apply to and which one did they end up attending?',\n",
                            " \"What was the author's experience like at the Accademia di Belli Arti in Florence?\",\n",
                            " 'What did the author learn about low-end software while working at Interleaf?',\n",
                            " \"What is the author's opinion on signature styles in painting?\",\n",
                            " 'How did the author manage to save enough money to pay off their college loans?',\n",
                            " 'What did the author learn about technology companies while working at Interleaf?',\n",
                            " \"What was the author's experience like in the color class they took at RISD?\",\n",
                            " 'What did the author learn about painting still lives?',\n",
                            " \"What was the author's experience like at RISD and why did they end up dropping out?\",\n",
                            " 'What is the difference between the tribe of signature style seekers and the earnest students at RISD?',\n",
                            " 'How did the author end up in New York?',\n",
                            " \"What was the author's initial plan to make money after dropping out of RISD?\",\n",
                            " 'Who was Idelle Weber and how did she help the author?',\n",
                            " \"What was the author's startup idea and why did it fail?\",\n",
                            " 'What was the main goal of an online store builder and why was it important?',\n",
                            " 'How did Viaweb differentiate itself from its competitors?',\n",
                            " 'What did the author learn about retail while building stores for users?',\n",
                            " \"How did the author's attitude towards business change after getting users?\",\n",
                            " \"What was the author's vision for software development in the future?\",\n",
                            " \"What lesson did the author learn about scanning images of men's shirts?\",\n",
                            " 'Why did the author initially think they needed a \"business person\" to be in charge?',\n",
                            " 'What is the ultimate test of a startup according to the author?',\n",
                            " 'Why did the author hire lots more people for their startup?',\n",
                            " \"What was the author's experience like working at Yahoo after their company was bought?\",\n",
                            " 'What advice does the author give to founders who are leaving after selling their companies?',\n",
                            " \"What was the author's idea for a new company after leaving Yahoo?\",\n",
                            " 'Why did the author decide to build a new dialect of Lisp?',\n",
                            " 'How did the author realize the potential of publishing essays on the web?',\n",
                            " \"What was the author's plan for writing essays on the web?\",\n",
                            " \"What was the author's involvement with building the infrastructure of the web?\",\n",
                            " 'In the print era, who were the only people allowed to publish essays?',\n",
                            " 'What did the author realize about online essays and their social perception?',\n",
                            " 'According to the author, what is a danger for the ambitious?',\n",
                            " 'What was the turning point for the author in figuring out what to work on?',\n",
                            " \"What was the idea behind the big party at the author's house in October 2003?\",\n",
                            " \"What was Jessica Livingston's job before she started compiling a book of interviews with startup founders?\",\n",
                            " 'What was the most distinctive thing about Y Combinator?',\n",
                            " 'How did YC solve one of the biggest problems faced by founders?',\n",
                            " \"What was the author's original plan for YC and how did it change over time?\",\n",
                            " 'What is the \"YC GDP\" and how has it evolved over time?',\n",
                            " 'What was the original intention for Y Combinator and how did it change over time?',\n",
                            " 'What was the purpose of Hacker News and how did it impact YC?',\n",
                            " 'What were some of the challenges faced by Paul Graham while working at YC?',\n",
                            " 'What advice did Robert Morris give to Paul Graham and how did it impact his decision to leave YC?',\n",
                            " 'How did Paul Graham decide to spend his time after leaving YC?',\n",
                            " 'What is Lisp and how did it originate?',\n",
                            " 'What was the goal of creating Bel and how was it achieved?',\n",
                            " \"How did working on Bel impact Paul Graham's life?\",\n",
                            " 'Why did Paul Graham and his family move to England in 2016?',\n",
                            " \"What was the author's experience with time-sharing machines?\",\n",
                            " 'Where did the author live while attending the Accademia in Florence?',\n",
                            " \"What is the significance of the Y combinator in the author's work?\",\n",
                            " 'What is Bel and how was it developed?',\n",
                            " \"What was the author's experience with writing essays in 2020?\",\n",
                            " 'How did the author choose what to work on in the past?',\n",
                            " 'What is the difference between rent-controlled and rent-stabilized apartments?',\n",
                            " \"What was the author's experience with launching an online store builder?\",\n",
                            " \"What is the author's opinion on customs in rapidly changing fields?\",\n",
                            " \"What was the author's experience with leaving Y Combinator?\"]"
                        ]
                    },
                    "execution_count": 6,
                    "metadata": {},
                    "output_type": "execute_result"
                }
            ],
            "source": [
                "eval_questions"
            ]
        },
        {
            "cell_type": "code",
            "execution_count": 15,
            "id": "b9b98f89-d5b8-4d29-92f6-ad76d5060e9f",
            "metadata": {
                "tags": []
            },
            "outputs": [],
            "source": [
                "# gpt-4\n",
                "llm_predictor_gpt4 = LLMPredictor(llm=ChatOpenAI(temperature=0, model_name=\"gpt-4\"))\n",
                "service_context_gpt4 = ServiceContext.from_defaults(llm_predictor=llm_predictor_gpt4)"
            ]
        },
        {
            "cell_type": "code",
            "execution_count": 23,
            "id": "8eb3e616-64e5-4bf4-a67b-661e9b3657e7",
            "metadata": {
                "tags": []
            },
            "outputs": [],
            "source": [
                "evaluator_gpt4 = QueryResponseEvaluator(service_context=service_context_gpt4)"
            ]
        },
        {
            "cell_type": "code",
            "execution_count": 9,
            "id": "41f0e53f-77a6-40d5-94ae-3f81b01af75c",
            "metadata": {},
            "outputs": [
                {
                    "name": "stdout",
                    "output_type": "stream",
                    "text": [
                        "INFO:llama_index.token_counter.token_counter:> [build_index_from_nodes] Total LLM token usage: 0 tokens\n",
                        "> [build_index_from_nodes] Total LLM token usage: 0 tokens\n",
                        "INFO:llama_index.token_counter.token_counter:> [build_index_from_nodes] Total embedding token usage: 17617 tokens\n",
                        "> [build_index_from_nodes] Total embedding token usage: 17617 tokens\n"
                    ]
                }
            ],
            "source": [
                "# create vector index\n",
                "vector_index = GPTVectorStoreIndex.from_documents(\n",
                "    documents, \n",
                "    service_context=service_context_gpt4\n",
                ")\n"
            ]
        },
        {
            "cell_type": "code",
            "execution_count": 28,
            "id": "af730b2e-6949-4865-b7af-bb2bc60a9173",
            "metadata": {
                "tags": []
            },
            "outputs": [],
            "source": [
                "# define jupyter display function\n",
                "def display_eval_df(query: str, response: Response, eval_result: str) -> None:\n",
                "    eval_df = pd.DataFrame(\n",
                "        {\n",
                "            \"Query\": query,\n",
                "            \"Response\": str(response), \n",
                "            \"Source\": response.source_nodes[0].source_text[:1000] + \"...\",\n",
                "            \"Evaluation Result\": eval_result\n",
                "        },\n",
                "        index=[0]\n",
                "    )\n",
                "    eval_df = eval_df.style.set_properties(\n",
                "        **{\n",
                "            'inline-size': '600px',\n",
                "            'overflow-wrap': 'break-word',\n",
                "        }, \n",
                "        subset=[\"Response\", \"Source\"]\n",
                "    )\n",
                "    display(eval_df)"
            ]
        },
        {
            "cell_type": "code",
            "execution_count": null,
            "id": "180a5d2e-9286-477b-9cd0-a5976d18d845",
            "metadata": {
                "tags": []
            },
            "outputs": [],
            "source": [
                "query_engine = vector_index.as_query_engine()\n",
                "response_vector = query_engine.query(eval_questions[1])\n",
                "eval_result = evaluator_gpt4.evaluate(eval_questions[1], response_vector)"
            ]
        },
        {
            "cell_type": "code",
            "execution_count": 29,
            "id": "c764b8b3-69b1-4ac8-b88b-3f9e204b8bfb",
            "metadata": {
                "tags": []
            },
            "outputs": [
                {
                    "data": {
                        "text/html": [
                            "<style type=\"text/css\">\n",
                            "#T_f2f69_row0_col1, #T_f2f69_row0_col2 {\n",
                            "  inline-size: 600px;\n",
                            "  overflow-wrap: break-word;\n",
                            "}\n",
                            "</style>\n",
                            "<table id=\"T_f2f69\">\n",
                            "  <thead>\n",
                            "    <tr>\n",
                            "      <th class=\"blank level0\" >&nbsp;</th>\n",
                            "      <th id=\"T_f2f69_level0_col0\" class=\"col_heading level0 col0\" >Query</th>\n",
                            "      <th id=\"T_f2f69_level0_col1\" class=\"col_heading level0 col1\" >Response</th>\n",
                            "      <th id=\"T_f2f69_level0_col2\" class=\"col_heading level0 col2\" >Source</th>\n",
                            "      <th id=\"T_f2f69_level0_col3\" class=\"col_heading level0 col3\" >Evaluation Result</th>\n",
                            "    </tr>\n",
                            "  </thead>\n",
                            "  <tbody>\n",
                            "    <tr>\n",
                            "      <th id=\"T_f2f69_level0_row0\" class=\"row_heading level0 row0\" >0</th>\n",
                            "      <td id=\"T_f2f69_row0_col0\" class=\"data row0 col0\" >What language did the author use to write programs on the IBM 1401?</td>\n",
                            "      <td id=\"T_f2f69_row0_col1\" class=\"data row0 col1\" >The author used an early version of Fortran to write programs on the IBM 1401.</td>\n",
                            "      <td id=\"T_f2f69_row0_col2\" class=\"data row0 col2\" >\t\t\n",
                            "\n",
                            "What I Worked On\n",
                            "\n",
                            "February 2021\n",
                            "\n",
                            "Before college the two main things I worked on, outside of school, were writing and programming. I didn't write essays. I wrote what beginning writers were supposed to write then, and probably still are: short stories. My stories were awful. They had hardly any plot, just characters with strong feelings, which I imagined made them deep.\n",
                            "\n",
                            "The first programs I tried writing were on the IBM 1401 that our school district used for what was then called \"data processing.\" This was in 9th grade, so I was 13 or 14. The school district's 1401 happened to be in the basement of our junior high school, and my friend Rich Draves and I got permission to use it. It was like a mini Bond villain's lair down there, with all these alien-looking machines — CPU, disk drives, printer, card reader — sitting up on a raised floor under bright fluorescent lights.\n",
                            "\n",
                            "The language we used was an early version of Fortran. You had to type programs on punch cards, then stack them in...</td>\n",
                            "      <td id=\"T_f2f69_row0_col3\" class=\"data row0 col3\" >YES</td>\n",
                            "    </tr>\n",
                            "  </tbody>\n",
                            "</table>\n"
                        ],
                        "text/plain": [
                            "<pandas.io.formats.style.Styler at 0x281d38100>"
                        ]
                    },
                    "metadata": {},
                    "output_type": "display_data"
                }
            ],
            "source": [
                "display_eval_df(eval_questions[1], response_vector, eval_result)"
            ]
        },
        {
            "cell_type": "code",
            "execution_count": null,
            "id": "52581d3c-7ad1-49a8-9de0-71fea2a945b4",
            "metadata": {},
            "outputs": [],
            "source": []
        }
    ],
    "metadata": {
        "kernelspec": {
            "display_name": "llama_index",
            "language": "python",
            "name": "llama_index"
        },
        "language_info": {
            "codemirror_mode": {
                "name": "ipython",
                "version": 3
            },
            "file_extension": ".py",
            "mimetype": "text/x-python",
            "name": "python",
            "nbconvert_exporter": "python",
            "pygments_lexer": "ipython3",
            "version": "3.10.10"
        }
    },
    "nbformat": 4,
    "nbformat_minor": 5
}
