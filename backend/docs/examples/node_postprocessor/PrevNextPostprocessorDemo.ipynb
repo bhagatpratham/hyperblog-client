{
    "cells": [
        {
            "attachments": {},
            "cell_type": "markdown",
            "id": "b1c1ebaa-50de-4851-a720-acbb977551ea",
            "metadata": {},
            "source": [
                "# Forward/Backward Augmentation\n",
                "\n",
                "Showcase capabilities of leveraging Node relationships on top of PG's essay"
            ]
        },
        {
            "cell_type": "code",
            "execution_count": 1,
            "id": "92d06b38-2103-4a40-93c3-60e0708a1124",
            "metadata": {},
            "outputs": [
                {
                    "name": "stderr",
                    "output_type": "stream",
                    "text": [
                        "/Users/jerryliu/Programming/llama_index/.venv/lib/python3.10/site-packages/tqdm/auto.py:21: TqdmWarning: IProgress not found. Please update jupyter and ipywidgets. See https://ipywidgets.readthedocs.io/en/stable/user_install.html\n",
                        "  from .autonotebook import tqdm as notebook_tqdm\n"
                    ]
                }
            ],
            "source": [
                "from llama_index import GPTVectorStoreIndex, SimpleDirectoryReader, ServiceContext\n",
                "from llama_index.indices.postprocessor.types import (\n",
                "    PrevNextNodePostprocessor, \n",
                "    AutoPrevNextNodePostprocessor\n",
                ")\n",
                "from llama_index.node_parser import SimpleNodeParser\n",
                "from llama_index.storage.docstore import SimpleDocumentStore"
            ]
        },
        {
            "cell_type": "markdown",
            "id": "67020156-2975-4bbb-8e98-afc55abb3d72",
            "metadata": {},
            "source": [
                "### Parse Documents into Nodes, add to Docstore"
            ]
        },
        {
            "cell_type": "code",
            "execution_count": 2,
            "id": "caddd84e-9827-40a4-9520-dba6405fd1fd",
            "metadata": {
                "tags": []
            },
            "outputs": [],
            "source": [
                "# load documents\n",
                "from llama_index.storage.storage_context import StorageContext\n",
                "\n",
                "\n",
                "documents = SimpleDirectoryReader('../paul_graham_essay/data').load_data()\n",
                "\n",
                "# define service context (wrapper container around current classes)\n",
                "service_context = ServiceContext.from_defaults(chunk_size=512)\n",
                "\n",
                "# use node parser in service context to parse into nodes\n",
                "nodes = service_context.node_parser.get_nodes_from_documents(documents)\n",
                "\n",
                "# add to docstore\n",
                "docstore = SimpleDocumentStore()\n",
                "docstore.add_documents(nodes)\n",
                "\n",
                "storage_context = StorageContext.from_defaults(docstore=docstore)"
            ]
        },
        {
            "cell_type": "markdown",
            "id": "e5a25b95-de5e-4e56-a846-51e9c6eba181",
            "metadata": {},
            "source": [
                "### Build Index"
            ]
        },
        {
            "cell_type": "code",
            "execution_count": 3,
            "id": "5f7f68d6-2389-4f6c-bc4e-8612a1a53fb8",
            "metadata": {
                "tags": []
            },
            "outputs": [
                {
                    "name": "stderr",
                    "output_type": "stream",
                    "text": [
                        "INFO:llama_index.token_counter.token_counter:> [build_index_from_nodes] Total LLM token usage: 0 tokens\n",
                        "INFO:llama_index.token_counter.token_counter:> [build_index_from_nodes] Total embedding token usage: 27212 tokens\n"
                    ]
                }
            ],
            "source": [
                "# build index \n",
                "index = GPTVectorStoreIndex(nodes, storage_context=storage_context)"
            ]
        },
        {
            "cell_type": "markdown",
            "id": "e493666e-ca76-47c0-bb9a-aa70c9eee3df",
            "metadata": {},
            "source": [
                "### Add PrevNext Node Postprocessor"
            ]
        },
        {
            "cell_type": "code",
            "execution_count": 6,
            "id": "a1d34f87-2997-452a-bad4-65380775e534",
            "metadata": {
                "tags": []
            },
            "outputs": [],
            "source": [
                "node_postprocessor = PrevNextNodePostprocessor(docstore, num_nodes=4)"
            ]
        },
        {
            "cell_type": "code",
            "execution_count": 7,
            "id": "7675437d-d7be-436b-898c-dac0df5990b9",
            "metadata": {
                "tags": []
            },
            "outputs": [
                {
                    "name": "stderr",
                    "output_type": "stream",
                    "text": [
                        "INFO:llama_index.token_counter.token_counter:> [query] Total LLM token usage: 2522 tokens\n",
                        "INFO:llama_index.token_counter.token_counter:> [query] Total embedding token usage: 17 tokens\n"
                    ]
                }
            ],
            "source": [
                "query_engine = index.as_query_engine(\n",
                "    similarity_top_k=1,\n",
                "    node_postprocessors=[node_postprocessor],\n",
                "    response_mode=\"tree_summarize\"\n",
                ")\n",
                "response = query_engine.query(\n",
                "    \"What did the author do after handing off Y Combinator to Sam Altman?\", \n",
                ")"
            ]
        },
        {
            "cell_type": "code",
            "execution_count": 8,
            "id": "3d2391ea-2bac-4ceb-bedb-57ba0c9cabca",
            "metadata": {
                "tags": []
            },
            "outputs": [
                {
                    "name": "stdout",
                    "output_type": "stream",
                    "text": [
                        "\n",
                        "After handing off Y Combinator to Sam Altman, the author decided to take up painting. He spent most of the rest of 2014 painting and got to be better than he had been before. However, in November he ran out of steam and stopped working on a painting. He then started writing essays again and wrote a bunch of new ones over the next few months. In March 2015, he started working on Lisp again and wrote a new Lisp, called Bel, in Arc. He had to ban himself from writing essays during most of this time in order to finish the project, which took 4 years from March 26, 2015 to October 12, 2019.\n"
                    ]
                }
            ],
            "source": [
                "print(response) "
            ]
        },
        {
            "cell_type": "code",
            "execution_count": 9,
            "id": "0cafc75d-fd83-43ff-948b-b171da75c647",
            "metadata": {
                "tags": []
            },
            "outputs": [
                {
                    "name": "stderr",
                    "output_type": "stream",
                    "text": [
                        "INFO:llama_index.token_counter.token_counter:> [query] Total LLM token usage: 583 tokens\n",
                        "INFO:llama_index.token_counter.token_counter:> [query] Total embedding token usage: 17 tokens\n"
                    ]
                }
            ],
            "source": [
                "# Try querying index without node postprocessor\n",
                "query_engine = index.as_query_engine(\n",
                "    similarity_top_k=1,\n",
                "    response_mode=\"tree_summarize\"\n",
                ")\n",
                "response = query_engine.query(\n",
                "    \"What did the author do after handing off Y Combinator to Sam Altman?\", \n",
                ")"
            ]
        },
        {
            "cell_type": "code",
            "execution_count": 10,
            "id": "f2aa1763-5557-4ad8-ac43-74d2661a0966",
            "metadata": {
                "tags": []
            },
            "outputs": [
                {
                    "name": "stdout",
                    "output_type": "stream",
                    "text": [
                        "\n",
                        "After handing off Y Combinator to Sam Altman, the author focused on helping his mother get out of the nursing home and back to her house. He flew up to Oregon to visit her regularly and used the time to think. He also spent time with his sister to help his mother.\n"
                    ]
                }
            ],
            "source": [
                "print(response)"
            ]
        },
        {
            "cell_type": "code",
            "execution_count": 11,
            "id": "a1c3e599-5376-4706-9a83-d3a769df6e46",
            "metadata": {
                "tags": []
            },
            "outputs": [
                {
                    "name": "stderr",
                    "output_type": "stream",
                    "text": [
                        "INFO:llama_index.token_counter.token_counter:> [query] Total LLM token usage: 1547 tokens\n",
                        "INFO:llama_index.token_counter.token_counter:> [query] Total embedding token usage: 17 tokens\n"
                    ]
                }
            ],
            "source": [
                "# Try querying index without node postprocessor and higher top-k\n",
                "query_engine = index.as_query_engine(\n",
                "    similarity_top_k=3,\n",
                "    response_mode=\"tree_summarize\"\n",
                ")\n",
                "response = query_engine.query(\n",
                "    \"What did the author do after handing off Y Combinator to Sam Altman?\", \n",
                ")"
            ]
        },
        {
            "cell_type": "code",
            "execution_count": 12,
            "id": "7cfda042-c88b-4ce1-a61d-65baafff4d1c",
            "metadata": {
                "tags": []
            },
            "outputs": [
                {
                    "name": "stdout",
                    "output_type": "stream",
                    "text": [
                        "\n",
                        "After handing off Y Combinator to Sam Altman, the author decided to take up painting as his next activity. He spent most of the rest of 2014 painting and eventually ran out of steam in November. He then stopped working on the painting and began to think about what he should do next.\n"
                    ]
                }
            ],
            "source": [
                "print(response)"
            ]
        },
        {
            "cell_type": "markdown",
            "id": "e6917ff5-be24-4b76-837a-ea5de7f492cb",
            "metadata": {},
            "source": [
                "### Add Auto Prev/Next Node Postprocessor"
            ]
        },
        {
            "cell_type": "code",
            "execution_count": 13,
            "id": "82d510b0-5a90-45bb-ace1-de764bc7a068",
            "metadata": {
                "tags": []
            },
            "outputs": [],
            "source": [
                "node_postprocessor = AutoPrevNextNodePostprocessor(\n",
                "    docstore=docstore, \n",
                "    num_nodes=3,\n",
                "    service_context=service_context,\n",
                "    verbose=True\n",
                ")"
            ]
        },
        {
            "cell_type": "code",
            "execution_count": 15,
            "id": "c6a8094f-c757-4dae-b81a-248d65166443",
            "metadata": {
                "tags": []
            },
            "outputs": [
                {
                    "name": "stdout",
                    "output_type": "stream",
                    "text": [
                        "> Postprocessor Predicted mode: next\n"
                    ]
                },
                {
                    "name": "stderr",
                    "output_type": "stream",
                    "text": [
                        "INFO:llama_index.token_counter.token_counter:> [query] Total LLM token usage: 1987 tokens\n",
                        "INFO:llama_index.token_counter.token_counter:> [query] Total embedding token usage: 17 tokens\n"
                    ]
                }
            ],
            "source": [
                "# Infer that we need to search nodes after current one\n",
                "query_engine = index.as_query_engine(\n",
                "    similarity_top_k=1,\n",
                "    node_postprocessors=[node_postprocessor],\n",
                "    response_mode=\"tree_summarize\"\n",
                ")\n",
                "response = query_engine.query(\n",
                "    \"What did the author do after handing off Y Combinator to Sam Altman?\", \n",
                ")"
            ]
        },
        {
            "cell_type": "code",
            "execution_count": 16,
            "id": "055f5663-b1f8-4f11-bfbf-b04bcf6ee53c",
            "metadata": {
                "tags": []
            },
            "outputs": [
                {
                    "name": "stdout",
                    "output_type": "stream",
                    "text": [
                        "\n",
                        "After handing off Y Combinator to Sam Altman, the author decided to take up painting. He spent most of the rest of 2014 painting and got better at it, but eventually ran out of steam and stopped working on it. He then started writing essays again and wrote a few that weren't about startups. In March 2015, he started working on Lisp again.\n"
                    ]
                }
            ],
            "source": [
                "print(response)"
            ]
        },
        {
            "cell_type": "code",
            "execution_count": 17,
            "id": "1fd4392f-8e71-4a07-b123-5af23d33744a",
            "metadata": {
                "tags": []
            },
            "outputs": [
                {
                    "name": "stdout",
                    "output_type": "stream",
                    "text": [
                        "> Postprocessor Predicted mode: none\n"
                    ]
                },
                {
                    "name": "stderr",
                    "output_type": "stream",
                    "text": [
                        "INFO:llama_index.token_counter.token_counter:> [query] Total LLM token usage: 571 tokens\n",
                        "INFO:llama_index.token_counter.token_counter:> [query] Total embedding token usage: 14 tokens\n"
                    ]
                }
            ],
            "source": [
                "# Infer that we don't need to search previous or next\n",
                "response = query_engine.query(\n",
                "    \"What did the author do during his time at Y Combinator?\", \n",
                ")"
            ]
        },
        {
            "cell_type": "code",
            "execution_count": 18,
            "id": "dfa87d01-5349-452d-af5a-58c474e89d7a",
            "metadata": {
                "tags": []
            },
            "outputs": [
                {
                    "name": "stdout",
                    "output_type": "stream",
                    "text": [
                        "\n",
                        "The author did a variety of things during his time at Y Combinator, including hacking, writing essays, investing in startups, creating a batch system for startup funding, building a tight alumni community, and working on a new version of Arc with Robert Morris. He also created Hacker News, an online news aggregator for startup founders.\n"
                    ]
                }
            ],
            "source": [
                "print(response)"
            ]
        },
        {
            "cell_type": "code",
            "execution_count": 19,
            "id": "33b92118-50fb-4b19-85a6-a94a11950fb6",
            "metadata": {
                "tags": []
            },
            "outputs": [
                {
                    "name": "stdout",
                    "output_type": "stream",
                    "text": [
                        "> Postprocessor Predicted mode: previous\n"
                    ]
                },
                {
                    "name": "stderr",
                    "output_type": "stream",
                    "text": [
                        "INFO:llama_index.token_counter.token_counter:> [query] Total LLM token usage: 2057 tokens\n",
                        "INFO:llama_index.token_counter.token_counter:> [query] Total embedding token usage: 17 tokens\n"
                    ]
                }
            ],
            "source": [
                "# Infer that we need to search nodes before current one\n",
                "response = query_engine.query(\n",
                "    \"What did the author do before handing off Y Combinator to Sam Altman?\", \n",
                ")"
            ]
        },
        {
            "cell_type": "code",
            "execution_count": 20,
            "id": "6de2caac-95cc-4d98-9c3d-d16916aaab11",
            "metadata": {
                "tags": []
            },
            "outputs": [
                {
                    "name": "stdout",
                    "output_type": "stream",
                    "text": [
                        "\n",
                        "Before handing off Y Combinator to Sam Altman, the author wrote essays, worked on Y Combinator, wrote Hacker News in Arc, wrote all of Y Combinator's internal software in Arc, and worked hard at the parts of the job he didn't like. He also flew up to Oregon to visit his mother regularly and had time to think on those flights.\n"
                    ]
                }
            ],
            "source": [
                "print(response)"
            ]
        },
        {
            "cell_type": "code",
            "execution_count": 21,
            "id": "14822e9b-fe96-44e9-a7fd-a441f6fe2ae4",
            "metadata": {
                "tags": []
            },
            "outputs": [
                {
                    "name": "stderr",
                    "output_type": "stream",
                    "text": [
                        "INFO:llama_index.token_counter.token_counter:> [query] Total LLM token usage: 575 tokens\n",
                        "INFO:llama_index.token_counter.token_counter:> [query] Total embedding token usage: 17 tokens\n"
                    ]
                }
            ],
            "source": [
                "response = query_engine.query(\n",
                "    \"What did the author do before handing off Y Combinator to Sam Altman?\", \n",
                ")"
            ]
        },
        {
            "cell_type": "code",
            "execution_count": 22,
            "id": "7dbdeafc-1829-4110-a6ca-ca81eac6e0c9",
            "metadata": {
                "tags": []
            },
            "outputs": [
                {
                    "name": "stdout",
                    "output_type": "stream",
                    "text": [
                        "\n",
                        "The author spent the rest of 2013 gradually leaving the running of Y Combinator to Sam Altman, partly so he could learn the job and partly because the author was focused on visiting his mother in Oregon and helping her get out of a nursing home.\n"
                    ]
                }
            ],
            "source": [
                "print(response)"
            ]
        },
        {
            "cell_type": "code",
            "execution_count": null,
            "id": "ee0e4646-def2-4ac6-b764-c7672420826a",
            "metadata": {},
            "outputs": [],
            "source": []
        }
    ],
    "metadata": {
        "kernelspec": {
            "display_name": "llama_index",
            "language": "python",
            "name": "llama_index"
        },
        "language_info": {
            "codemirror_mode": {
                "name": "ipython",
                "version": 3
            },
            "file_extension": ".py",
            "mimetype": "text/x-python",
            "name": "python",
            "nbconvert_exporter": "python",
            "pygments_lexer": "ipython3",
            "version": "3.10.10"
        }
    },
    "nbformat": 4,
    "nbformat_minor": 5
}
