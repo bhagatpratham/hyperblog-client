{
    "cells": [
        {
            "attachments": {},
            "cell_type": "markdown",
            "id": "b1c1ebaa-50de-4851-a720-acbb977551ea",
            "metadata": {},
            "source": [
                "# Time-Weighted Rerank\n",
                "\n",
                "Showcase capabilities of time-weighted node postprocessor"
            ]
        },
        {
            "cell_type": "code",
            "execution_count": 3,
            "id": "92d06b38-2103-4a40-93c3-60e0708a1124",
            "metadata": {
                "tags": []
            },
            "outputs": [],
            "source": [
                "from llama_index import GPTVectorStoreIndex, SimpleDirectoryReader, ServiceContext\n",
                "from llama_index.indices.postprocessor import (\n",
                "    TimeWeightedPostprocessor,\n",
                ")\n",
                "from llama_index.node_parser import SimpleNodeParser\n",
                "from llama_index.storage.docstore import SimpleDocumentStore\n",
                "from llama_index.response.notebook_utils import display_response\n",
                "from datetime import datetime, timedelta"
            ]
        },
        {
            "cell_type": "markdown",
            "id": "67020156-2975-4bbb-8e98-afc55abb3d72",
            "metadata": {},
            "source": [
                "### Parse Documents into Nodes, add to Docstore\n",
                "\n",
                "In this example, there are 3 different versions of PG's essay. They are largely identical **except** \n",
                "for one specific section, which details the amount of funding they raised for Viaweb. \n",
                "\n",
                "V1: 50k, V2: 30k, V3: 10K\n",
                "\n",
                "V1: -1 day, V2: -2 days, V3: -3 days\n",
                "\n",
                "The idea is to encourage index to fetch the most recent info (which is V3)"
            ]
        },
        {
            "cell_type": "code",
            "execution_count": 6,
            "id": "caddd84e-9827-40a4-9520-dba6405fd1fd",
            "metadata": {
                "tags": []
            },
            "outputs": [],
            "source": [
                "# load documents\n",
                "from llama_index.storage.storage_context import StorageContext\n",
                "\n",
                "\n",
                "now = datetime.now()\n",
                "key = \"__last_accessed__\"\n",
                "\n",
                "\n",
                "doc1 = SimpleDirectoryReader(\n",
                "    input_files=['../node_postprocessor/test_versioned_data/paul_graham_essay_v1.txt']\n",
                ").load_data()[0]\n",
                "\n",
                "\n",
                "doc2 = SimpleDirectoryReader(\n",
                "    input_files=['../node_postprocessor/test_versioned_data/paul_graham_essay_v2.txt']\n",
                ").load_data()[0]\n",
                "\n",
                "doc3 = SimpleDirectoryReader(\n",
                "    input_files=['../node_postprocessor/test_versioned_data/paul_graham_essay_v3.txt']\n",
                ").load_data()[0]\n",
                "\n",
                "\n",
                "# define service context (wrapper container around current classes)\n",
                "service_context = ServiceContext.from_defaults(chunk_size=512)\n",
                "node_parser = service_context.node_parser\n",
                "\n",
                "# use node parser in service context to parse docs into nodes\n",
                "nodes1 = node_parser.get_nodes_from_documents([doc1])\n",
                "nodes2 = node_parser.get_nodes_from_documents([doc2])    \n",
                "nodes3 = node_parser.get_nodes_from_documents([doc3])\n",
                "    \n",
                "\n",
                "# fetch the modified chunk from each document, set node info\n",
                "nodes1[22].node_info[key] = (now - timedelta(hours=3)).timestamp()\n",
                "nodes2[22].node_info[key] = (now - timedelta(hours=2)).timestamp()\n",
                "nodes3[22].node_info[key] = (now - timedelta(hours=1)).timestamp()\n",
                "\n",
                "\n",
                "# add to docstore\n",
                "docstore = SimpleDocumentStore()\n",
                "nodes = [nodes1[22], nodes2[22], nodes3[22]]\n",
                "docstore.add_documents(nodes)\n",
                "\n",
                "storage_context = StorageContext.from_defaults(docstore=docstore)"
            ]
        },
        {
            "cell_type": "markdown",
            "id": "e5a25b95-de5e-4e56-a846-51e9c6eba181",
            "metadata": {},
            "source": [
                "### Build Index"
            ]
        },
        {
            "cell_type": "code",
            "execution_count": 7,
            "id": "5f7f68d6-2389-4f6c-bc4e-8612a1a53fb8",
            "metadata": {
                "tags": []
            },
            "outputs": [
                {
                    "name": "stderr",
                    "output_type": "stream",
                    "text": [
                        "INFO:llama_index.token_counter.token_counter:> [build_index_from_nodes] Total LLM token usage: 0 tokens\n",
                        "INFO:llama_index.token_counter.token_counter:> [build_index_from_nodes] Total embedding token usage: 1383 tokens\n"
                    ]
                }
            ],
            "source": [
                "# build index \n",
                "index = GPTVectorStoreIndex(nodes, storage_context=storage_context)"
            ]
        },
        {
            "cell_type": "markdown",
            "id": "86c5e8aa-18d8-4229-b7b2-a1c97c11a09a",
            "metadata": {},
            "source": [
                "### Define Recency Postprocessors"
            ]
        },
        {
            "cell_type": "code",
            "execution_count": 11,
            "id": "ba5e10c9-5a7e-4ea8-a74d-0e0f74b5cd1b",
            "metadata": {
                "tags": []
            },
            "outputs": [],
            "source": [
                "node_postprocessor = TimeWeightedPostprocessor(time_decay=0.5, time_access_refresh=False, top_k=1)"
            ]
        },
        {
            "cell_type": "markdown",
            "id": "efcfffe4-a8aa-486d-b46d-f73f985dffca",
            "metadata": {},
            "source": [
                "### Query Index"
            ]
        },
        {
            "cell_type": "code",
            "execution_count": 9,
            "id": "78d6c3db-61e6-4d9a-a84d-d7be846b4112",
            "metadata": {
                "tags": []
            },
            "outputs": [
                {
                    "name": "stderr",
                    "output_type": "stream",
                    "text": [
                        "INFO:llama_index.token_counter.token_counter:> [query] Total LLM token usage: 1660 tokens\n",
                        "INFO:llama_index.token_counter.token_counter:> [query] Total embedding token usage: 22 tokens\n"
                    ]
                }
            ],
            "source": [
                "# naive query\n",
                "query_engine = index.as_query_engine(\n",
                "    similarity_top_k=3,\n",
                ")\n",
                "response = query_engine.query(\n",
                "    \"How much did the author raise in seed funding from Idelle's husband (Julian) for Viaweb?\", \n",
                ")"
            ]
        },
        {
            "cell_type": "code",
            "execution_count": null,
            "id": "84a608cd-fd70-40ba-a2f5-1414148db7de",
            "metadata": {
                "tags": []
            },
            "outputs": [],
            "source": [
                "display_response(response)"
            ]
        },
        {
            "cell_type": "code",
            "execution_count": 12,
            "id": "1d672c52-c0ac-4e5f-9175-855e66eb97ba",
            "metadata": {
                "tags": []
            },
            "outputs": [
                {
                    "name": "stderr",
                    "output_type": "stream",
                    "text": [
                        "INFO:llama_index.token_counter.token_counter:> [query] Total LLM token usage: 516 tokens\n",
                        "INFO:llama_index.token_counter.token_counter:> [query] Total embedding token usage: 22 tokens\n"
                    ]
                }
            ],
            "source": [
                "# query using time weighted node postprocessor\n",
                "\n",
                "query_engine = index.as_query_engine(\n",
                "    similarity_top_k=3,\n",
                "    node_postprocessors=[node_postprocessor]\n",
                ")\n",
                "response = query_engine.query(\n",
                "    \"How much did the author raise in seed funding from Idelle's husband (Julian) for Viaweb?\", \n",
                ")"
            ]
        },
        {
            "cell_type": "markdown",
            "id": "dd00cc97-4de7-4c61-9c0c-3f9ee3598528",
            "metadata": {},
            "source": [
                "### Query Index (Lower-Level Usage)\n",
                "\n",
                "In this example we first get the full set of nodes from a query call, and then send to node postprocessor, and then\n",
                "finally synthesize response through a list index."
            ]
        },
        {
            "cell_type": "code",
            "execution_count": 15,
            "id": "350b039e-d45d-4b6b-957a-4b14d8816cbd",
            "metadata": {
                "tags": []
            },
            "outputs": [],
            "source": [
                "from llama_index import GPTListIndex"
            ]
        },
        {
            "cell_type": "code",
            "execution_count": 16,
            "id": "234f909f-6faa-43e6-96f8-0966699c9552",
            "metadata": {
                "tags": []
            },
            "outputs": [],
            "source": [
                "query_str = \"How much did the author raise in seed funding from Idelle's husband (Julian) for Viaweb?\""
            ]
        },
        {
            "cell_type": "code",
            "execution_count": 17,
            "id": "20afbf6b-9473-446e-b522-b90fef2e3bf0",
            "metadata": {
                "tags": []
            },
            "outputs": [
                {
                    "name": "stderr",
                    "output_type": "stream",
                    "text": [
                        "INFO:llama_index.token_counter.token_counter:> [query] Total LLM token usage: 0 tokens\n",
                        "INFO:llama_index.token_counter.token_counter:> [query] Total embedding token usage: 22 tokens\n"
                    ]
                }
            ],
            "source": [
                "query_engine = index.as_query_engine(\n",
                "    similarity_top_k=3,\n",
                "    response_mode=\"no_text\"\n",
                ")\n",
                "init_response = query_engine.query(\n",
                "    query_str, \n",
                ")\n",
                "resp_nodes = [n.node for n in init_response.source_nodes]"
            ]
        },
        {
            "cell_type": "code",
            "execution_count": 18,
            "id": "cdc03574-a806-4255-953c-6f82fc3f202f",
            "metadata": {
                "tags": []
            },
            "outputs": [
                {
                    "name": "stderr",
                    "output_type": "stream",
                    "text": [
                        "INFO:llama_index.token_counter.token_counter:> [build_index_from_nodes] Total LLM token usage: 0 tokens\n",
                        "INFO:llama_index.token_counter.token_counter:> [build_index_from_nodes] Total embedding token usage: 0 tokens\n",
                        "INFO:llama_index.token_counter.token_counter:> [query] Total LLM token usage: 516 tokens\n",
                        "INFO:llama_index.token_counter.token_counter:> [query] Total embedding token usage: 0 tokens\n"
                    ]
                }
            ],
            "source": [
                "new_resp_nodes = node_postprocessor.postprocess_nodes(resp_nodes)\n",
                "list_index = GPTListIndex(new_resp_nodes)\n",
                "query_engine = list_index.as_query_engine()\n",
                "response = query_engine.query(query_str)"
            ]
        },
        {
            "cell_type": "code",
            "execution_count": null,
            "id": "9d4de372-653f-4d57-9e0f-17a90f39b874",
            "metadata": {},
            "outputs": [],
            "source": []
        }
    ],
    "metadata": {
        "kernelspec": {
            "display_name": "llama_index",
            "language": "python",
            "name": "llama_index"
        },
        "language_info": {
            "codemirror_mode": {
                "name": "ipython",
                "version": 3
            },
            "file_extension": ".py",
            "mimetype": "text/x-python",
            "name": "python",
            "nbconvert_exporter": "python",
            "pygments_lexer": "ipython3",
            "version": "3.10.10"
        }
    },
    "nbformat": 4,
    "nbformat_minor": 5
}
