{
    "cells": [
        {
            "attachments": {},
            "cell_type": "markdown",
            "id": "cfb64210-9c6b-47d7-81f4-67dbdab68e4c",
            "metadata": {
                "id": "cfb64210-9c6b-47d7-81f4-67dbdab68e4c",
                "tags": []
            },
            "source": [
                "# Defining a Unified Query Interface over your Data"
            ]
        },
        {
            "attachments": {},
            "cell_type": "markdown",
            "id": "2040a3ac",
            "metadata": {},
            "source": [
                "This notebook shows how to build a unified query interface that can handle:\n",
                "1. **heterogeneous data sources** (e.g. data about multiple cities) and \n",
                "2. **complex queries** (e.g. compare and contrast)."
            ]
        },
        {
            "cell_type": "code",
            "execution_count": 1,
            "id": "fa0e62b6",
            "metadata": {
                "id": "fa0e62b6",
                "tags": []
            },
            "outputs": [],
            "source": [
                "import logging\n",
                "import sys\n",
                "\n",
                "# logging.basicConfig(stream=sys.stdout, level=logging.INFO)\n",
                "# logging.getLogger().addHandler(logging.StreamHandler(stream=sys.stdout))\n",
                "\n",
                "# Uncomment if you want to temporarily disable logger\n",
                "logger = logging.getLogger()\n",
                "logger.disabled = True"
            ]
        },
        {
            "cell_type": "code",
            "execution_count": 2,
            "id": "e27b0473-4bda-47f0-b6ed-fd482eac1a13",
            "metadata": {
                "id": "e27b0473-4bda-47f0-b6ed-fd482eac1a13",
                "tags": []
            },
            "outputs": [
                {
                    "name": "stderr",
                    "output_type": "stream",
                    "text": [
                        "/Users/suo/miniconda3/envs/llama/lib/python3.9/site-packages/tqdm/auto.py:21: TqdmWarning: IProgress not found. Please update jupyter and ipywidgets. See https://ipywidgets.readthedocs.io/en/stable/user_install.html\n",
                        "  from .autonotebook import tqdm as notebook_tqdm\n"
                    ]
                }
            ],
            "source": [
                "from llama_index import (\n",
                "    GPTVectorStoreIndex, \n",
                "    GPTSimpleKeywordTableIndex, \n",
                "    SimpleDirectoryReader,\n",
                "    LLMPredictor,\n",
                "    ServiceContext\n",
                ")\n",
                "from langchain.llms.openai import OpenAIChat"
            ]
        },
        {
            "attachments": {},
            "cell_type": "markdown",
            "id": "49e0d841-680f-4a0c-b455-788b54978ebf",
            "metadata": {
                "id": "49e0d841-680f-4a0c-b455-788b54978ebf"
            },
            "source": [
                "#### Load Datasets\n",
                "\n",
                "Load Wikipedia pages about different cities."
            ]
        },
        {
            "cell_type": "code",
            "execution_count": 3,
            "id": "fc4692a1",
            "metadata": {
                "id": "fc4692a1",
                "tags": []
            },
            "outputs": [],
            "source": [
                "wiki_titles = [\"Toronto\", \"Seattle\", \"Chicago\", \"Boston\", \"Houston\"]"
            ]
        },
        {
            "cell_type": "code",
            "execution_count": 4,
            "id": "9ec16a8b-6aae-4bf7-9b83-b82087b4ea52",
            "metadata": {
                "id": "9ec16a8b-6aae-4bf7-9b83-b82087b4ea52",
                "tags": []
            },
            "outputs": [],
            "source": [
                "from pathlib import Path\n",
                "\n",
                "import requests\n",
                "for title in wiki_titles:\n",
                "    response = requests.get(\n",
                "        'https://en.wikipedia.org/w/api.php',\n",
                "        params={\n",
                "            'action': 'query',\n",
                "            'format': 'json',\n",
                "            'titles': title,\n",
                "            'prop': 'extracts',\n",
                "            # 'exintro': True,\n",
                "            'explaintext': True,\n",
                "        }\n",
                "    ).json()\n",
                "    page = next(iter(response['query']['pages'].values()))\n",
                "    wiki_text = page['extract']\n",
                "\n",
                "    data_path = Path('data')\n",
                "    if not data_path.exists():\n",
                "        Path.mkdir(data_path)\n",
                "\n",
                "    with open(data_path / f\"{title}.txt\", 'w') as fp:\n",
                "        fp.write(wiki_text)\n"
            ]
        },
        {
            "cell_type": "code",
            "execution_count": 5,
            "id": "39c00aeb-adef-4ce3-8134-031de18e64ea",
            "metadata": {
                "id": "39c00aeb-adef-4ce3-8134-031de18e64ea",
                "tags": []
            },
            "outputs": [],
            "source": [
                "# Load all wiki documents\n",
                "city_docs = {}\n",
                "for wiki_title in wiki_titles:\n",
                "    city_docs[wiki_title] = SimpleDirectoryReader(input_files=[f\"data/{wiki_title}.txt\"]).load_data()"
            ]
        },
        {
            "attachments": {},
            "cell_type": "markdown",
            "id": "f1782198-c0de-4679-8951-1297c21b8639",
            "metadata": {
                "id": "f1782198-c0de-4679-8951-1297c21b8639"
            },
            "source": [
                "### Building Vector Indices\n",
                "Build a vector index for the wiki pages about cities."
            ]
        },
        {
            "cell_type": "code",
            "execution_count": 6,
            "id": "M0GylZB-C2zL",
            "metadata": {
                "id": "M0GylZB-C2zL",
                "tags": []
            },
            "outputs": [
                {
                    "name": "stderr",
                    "output_type": "stream",
                    "text": [
                        "/Users/suo/miniconda3/envs/llama/lib/python3.9/site-packages/langchain/llms/openai.py:687: UserWarning: You are trying to use a chat model. This way of initializing it is no longer supported. Instead, please use: `from langchain.chat_models import ChatOpenAI`\n",
                        "  warnings.warn(\n"
                    ]
                }
            ],
            "source": [
                "# # LLM Predictor (gpt-3.5-turbo)\n",
                "llm_predictor_chatgpt = LLMPredictor(llm=OpenAIChat(temperature=0, model_name=\"gpt-3.5-turbo\"))\n",
                "service_context = ServiceContext.from_defaults(\n",
                "    llm_predictor=llm_predictor_chatgpt, chunk_size=1024\n",
                ")\n",
                "\n",
                "llm_predictor_gpt4 = LLMPredictor(llm=OpenAIChat(temperature=0, model_name=\"gpt-4\"))\n",
                "service_context = ServiceContext.from_defaults(\n",
                "    llm_predictor=llm_predictor_gpt4, chunk_size=1024\n",
                ")"
            ]
        },
        {
            "cell_type": "code",
            "execution_count": 26,
            "id": "5431e83e-428b-4473-bad1-24b7a6c4db38",
            "metadata": {
                "colab": {
                    "base_uri": "https://localhost:8080/",
                    "height": 183,
                    "referenced_widgets": [
                        "b5566e3db2914ddebd80d7bde75b2559",
                        "208d404f405a42a3b06d65ad67fb7322",
                        "7da29a2b6508494282acbc459eccbb96",
                        "47838fa763ca40598b2622a9d1e79444",
                        "ff32a3f12e814740a1cd5dd12bd731d4",
                        "3fef46c902524717b377dee6c1dfc929",
                        "fd8b887c1f7149f2876cf8a31e534ad6",
                        "7438aea716f44d85ad1c2b49a93acd83",
                        "fe39f994fa9b4d7daa232e1dcd2b0e8b",
                        "b102e756f9b848a98f58396fc825be84",
                        "fbd7219af1924d2ead5310eb7b35aab0",
                        "3b4c1066797b43a586611ec2d63e7ca1",
                        "c06865c1e01a441698dacf48600dd03c",
                        "9d229e5dd56e4d539ca2c1b9f0a37812",
                        "868aa268dd28498d902782215e53c6fa",
                        "46f644cf589e4a48a6fad1742f0c0575",
                        "adb40ef11f094594b14776e238955224",
                        "7b47c78391a4431aa2d3f84677f24046",
                        "398f1c0f56fe4f218d999df138adfdac",
                        "f1839e86863948f68314f81ba6bca4c9",
                        "3c37e72850c746ce9c919add5340dede",
                        "2053e6adef1b4dba89f861eaf3d916fd",
                        "eab4127882d24acfa9518ebff6f4e22a",
                        "64b754f563834be0a6963349b1f2dcf2",
                        "c7636a6d7380465895b8c86d34caf500",
                        "f7803dea63994cc2a31acf805bd19e67",
                        "380a0c11434241b191b17421e395be8b",
                        "a02534c347aa4865ab4ab3de3a3ee2f5",
                        "b0ccb9d9d96e4ed8bec4d540c34d337c",
                        "f22e9615de674e05978f332eb88750cf",
                        "b53e8481f6d64018988dc03081bf2765",
                        "b458d6fa793d4fa080b9f1e5013af3de",
                        "119d6d7a8d524aa49170f5784ebc6b9e",
                        "d55f842766484d299c75f74e31e7aa6a",
                        "1bdaf4dab16f48dbaeed3fb9bf268e45",
                        "026cc1a42e154f1f92b5236869311929",
                        "a2edbc4195d843e0acfba83726a08e78",
                        "40e148c291ad4f739998a7eac55a8af6",
                        "028aa5d1f7a74d538b5c606d4a6d146f",
                        "c078fe9a056a473dab7d474cd7907154",
                        "4cc9ec6ba46647aba2d53e352f91c137",
                        "f2a1c5087d0e44909139697ed90474e8",
                        "7b24b46d6c3643e581ba003a9c473745",
                        "3f748152b9274556afad2555572aa9f4"
                    ]
                },
                "id": "5431e83e-428b-4473-bad1-24b7a6c4db38",
                "outputId": "5721e863-d460-4f5c-9e36-5a586180b669",
                "tags": []
            },
            "outputs": [
                {
                    "name": "stderr",
                    "output_type": "stream",
                    "text": [
                        "INFO:llama_index.token_counter.token_counter:> [build_index_from_nodes] Total LLM token usage: 0 tokens\n",
                        "INFO:llama_index.token_counter.token_counter:> [build_index_from_nodes] Total embedding token usage: 20744 tokens\n",
                        "INFO:llama_index.token_counter.token_counter:> [build_index_from_nodes] Total LLM token usage: 0 tokens\n",
                        "INFO:llama_index.token_counter.token_counter:> [build_index_from_nodes] Total embedding token usage: 16942 tokens\n",
                        "INFO:llama_index.token_counter.token_counter:> [build_index_from_nodes] Total LLM token usage: 0 tokens\n",
                        "INFO:llama_index.token_counter.token_counter:> [build_index_from_nodes] Total embedding token usage: 26082 tokens\n",
                        "INFO:llama_index.token_counter.token_counter:> [build_index_from_nodes] Total LLM token usage: 0 tokens\n",
                        "INFO:llama_index.token_counter.token_counter:> [build_index_from_nodes] Total embedding token usage: 18648 tokens\n",
                        "INFO:llama_index.token_counter.token_counter:> [build_index_from_nodes] Total LLM token usage: 0 tokens\n",
                        "INFO:llama_index.token_counter.token_counter:> [build_index_from_nodes] Total embedding token usage: 21844 tokens\n"
                    ]
                }
            ],
            "source": [
                "# Build city document index\n",
                "vector_indices = {}\n",
                "for wiki_title in wiki_titles:\n",
                "    # build vector index\n",
                "    vector_indices[wiki_title] = GPTVectorStoreIndex.from_documents(\n",
                "        city_docs[wiki_title], service_context=service_context\n",
                "    )\n",
                "\n",
                "    # set id for vector index\n",
                "    vector_indices[wiki_title].set_index_id(wiki_title)"
            ]
        },
        {
            "cell_type": "code",
            "execution_count": 34,
            "id": "2fc6cbcf-3640-4cb0-bafa-8a367159ffa9",
            "metadata": {
                "tags": []
            },
            "outputs": [],
            "source": [
                "index_summaries = {\n",
                "    wiki_title: (\n",
                "        f\"This content contains Wikipedia articles about {wiki_title}. \"\n",
                "        f\"Use this index if you need to lookup specific facts about {wiki_title}.\\n\"\n",
                "        \"Do not use this index if you want to analyze multiple cities.\"\n",
                "    )\n",
                "    for wiki_title in wiki_titles\n",
                "}\n"
            ]
        },
        {
            "cell_type": "markdown",
            "id": "c385eaa5-5ea5-4ddb-a9e8-87583ff75e14",
            "metadata": {},
            "source": [
                "#### Test Querying the Vector Index"
            ]
        },
        {
            "cell_type": "code",
            "execution_count": 9,
            "id": "f690177f-9e9b-46c5-9a2e-9e697da8ce1b",
            "metadata": {},
            "outputs": [
                {
                    "name": "stderr",
                    "output_type": "stream",
                    "text": [
                        "INFO:llama_index.token_counter.token_counter:> [retrieve] Total LLM token usage: 0 tokens\n",
                        "INFO:llama_index.token_counter.token_counter:> [retrieve] Total embedding token usage: 8 tokens\n",
                        "INFO:llama_index.token_counter.token_counter:> [get_response] Total LLM token usage: 1904 tokens\n",
                        "INFO:llama_index.token_counter.token_counter:> [get_response] Total embedding token usage: 0 tokens\n"
                    ]
                }
            ],
            "source": [
                "query_engine = vector_indices[\"Toronto\"].as_query_engine()\n",
                "response = query_engine.query(\"What are the sports teams in Toronto?\")"
            ]
        },
        {
            "cell_type": "code",
            "execution_count": 10,
            "id": "0ba97f40-e4d7-4e40-96f7-f354f91b2b64",
            "metadata": {
                "tags": []
            },
            "outputs": [
                {
                    "name": "stdout",
                    "output_type": "stream",
                    "text": [
                        "The sports teams in Toronto include:\n",
                        "\n",
                        "1. Toronto Maple Leafs (NHL - ice hockey)\n",
                        "2. Toronto Blue Jays (MLB - baseball)\n",
                        "3. Toronto Raptors (NBA - basketball)\n",
                        "4. Toronto Argonauts (CFL - Canadian football)\n",
                        "5. Toronto FC (MLS - soccer)\n",
                        "6. Toronto Marlies (AHL - ice hockey)\n",
                        "7. Toronto Six (NWHL - women's ice hockey)\n",
                        "8. Toronto Rock (NLL - lacrosse)\n",
                        "9. Toronto Rush (AUDL - ultimate frisbee)\n",
                        "10. Toronto Wolfpack (Rugby league, playing in the North American Rugby League tournament)\n"
                    ]
                }
            ],
            "source": [
                "print(str(response))"
            ]
        },
        {
            "attachments": {},
            "cell_type": "markdown",
            "id": "d4d3cd8b-4134-4cfa-8002-e0a34694d2e1",
            "metadata": {
                "id": "d4d3cd8b-4134-4cfa-8002-e0a34694d2e1",
                "tags": []
            },
            "source": [
                "### Build a Graph for Compare/Contrast Queries\n",
                "\n",
                "We build a graph by composing a keyword table index on top of all the vector indices.\n",
                "We use this graph for compare/contrast queries"
            ]
        },
        {
            "cell_type": "code",
            "execution_count": 13,
            "id": "f975514f-fddd-4737-91de-97bc61394ea9",
            "metadata": {
                "colab": {
                    "base_uri": "https://localhost:8080/"
                },
                "id": "f975514f-fddd-4737-91de-97bc61394ea9",
                "outputId": "fc875b0e-c8bf-439b-c794-fcae25954cfb",
                "tags": []
            },
            "outputs": [
                {
                    "name": "stderr",
                    "output_type": "stream",
                    "text": [
                        "INFO:llama_index.token_counter.token_counter:> [build_index_from_nodes] Total LLM token usage: 0 tokens\n",
                        "INFO:llama_index.token_counter.token_counter:> [build_index_from_nodes] Total embedding token usage: 0 tokens\n"
                    ]
                }
            ],
            "source": [
                "from llama_index.indices.composability import ComposableGraph\n",
                "\n",
                "graph = ComposableGraph.from_indices(\n",
                "    GPTSimpleKeywordTableIndex,\n",
                "    [index for _, index in vector_indices.items()], \n",
                "    [summary for _, summary in index_summaries.items()],\n",
                "    max_keywords_per_chunk=50\n",
                ")"
            ]
        },
        {
            "cell_type": "code",
            "execution_count": 14,
            "id": "de977a92-acf2-40db-be58-34b29f4be47b",
            "metadata": {
                "tags": []
            },
            "outputs": [],
            "source": [
                "# get root index\n",
                "root_index = graph.get_index(graph.root_id)\n",
                "\n",
                "# set id of root index\n",
                "root_index.set_index_id(\"compare_contrast\")"
            ]
        },
        {
            "cell_type": "code",
            "execution_count": 15,
            "id": "7917d4a6-30f8-44fd-9bd7-0e40fa9054a5",
            "metadata": {
                "tags": []
            },
            "outputs": [],
            "source": [
                "# define decompose_transform\n",
                "from llama_index.indices.query.query_transform.base import DecomposeQueryTransform\n",
                "\n",
                "\n",
                "decompose_transform = DecomposeQueryTransform(\n",
                "    llm_predictor_chatgpt, verbose=True\n",
                ")"
            ]
        },
        {
            "cell_type": "code",
            "execution_count": 16,
            "id": "42edf61e-d1d5-4d5c-a554-d20489413180",
            "metadata": {
                "tags": []
            },
            "outputs": [],
            "source": [
                "# define custom retrievers\n",
                "from llama_index.query_engine.transform_query_engine import TransformQueryEngine\n",
                "\n",
                "\n",
                "custom_query_engines = {}\n",
                "for index in vector_indices.values():\n",
                "    query_engine = index.as_query_engine(service_context=service_context)\n",
                "    query_engine = TransformQueryEngine(\n",
                "        query_engine,\n",
                "        query_transform=decompose_transform,\n",
                "        transform_extra_info={'index_summary': index.index_struct.summary},\n",
                "    )\n",
                "    custom_query_engines[index.index_id] = query_engine\n",
                "\n",
                "custom_query_engines[graph.root_id] = graph.root_index.as_query_engine(\n",
                "    retriever_mode='simple',\n",
                "    response_mode='tree_summarize',\n",
                "    service_context=service_context,\n",
                "    verbose=True,\n",
                ")\n"
            ]
        },
        {
            "cell_type": "code",
            "execution_count": 17,
            "id": "3221be27",
            "metadata": {},
            "outputs": [],
            "source": [
                "# define graph\n",
                "graph_query_engine = graph.as_query_engine(\n",
                "    custom_query_engines=custom_query_engines\n",
                ")"
            ]
        },
        {
            "cell_type": "markdown",
            "id": "b4c36f69-596b-4974-afa2-09cc652c1111",
            "metadata": {},
            "source": [
                "#### Test querying the graph"
            ]
        },
        {
            "cell_type": "code",
            "execution_count": 18,
            "id": "4cb83f2e-f838-4384-acd0-eb12f72ad2ec",
            "metadata": {
                "tags": []
            },
            "outputs": [
                {
                    "name": "stderr",
                    "output_type": "stream",
                    "text": [
                        "INFO:llama_index.indices.keyword_table.retrievers:> Starting query: Compare and contrast the arts and culture of Houston and Boston. \n",
                        "INFO:llama_index.indices.keyword_table.retrievers:query keywords: ['contrast', 'houston', 'arts', 'boston', 'culture', 'compare']\n",
                        "INFO:llama_index.indices.keyword_table.retrievers:> Extracted keywords: ['houston', 'boston']\n"
                    ]
                },
                {
                    "name": "stdout",
                    "output_type": "stream",
                    "text": [
                        "\u001b[33;1m\u001b[1;3m> Current query: Compare and contrast the arts and culture of Houston and Boston. \n",
                        "\u001b[0m\u001b[38;5;200m\u001b[1;3m> New query: What are some notable cultural institutions or events in Houston?\n",
                        "\u001b[0m"
                    ]
                },
                {
                    "name": "stderr",
                    "output_type": "stream",
                    "text": [
                        "INFO:llama_index.token_counter.token_counter:> [retrieve] Total LLM token usage: 0 tokens\n",
                        "INFO:llama_index.token_counter.token_counter:> [retrieve] Total embedding token usage: 11 tokens\n"
                    ]
                },
                {
                    "name": "stdout",
                    "output_type": "stream",
                    "text": [
                        "\u001b[33;1m\u001b[1;3m> Current query: Compare and contrast the arts and culture of Houston and Boston. \n",
                        "\u001b[0m\u001b[38;5;200m\u001b[1;3m> New query: What are some notable cultural institutions or events in Houston?\n",
                        "\u001b[0m"
                    ]
                },
                {
                    "name": "stderr",
                    "output_type": "stream",
                    "text": [
                        "INFO:llama_index.token_counter.token_counter:> [get_response] Total LLM token usage: 1877 tokens\n",
                        "INFO:llama_index.token_counter.token_counter:> [get_response] Total embedding token usage: 0 tokens\n"
                    ]
                },
                {
                    "name": "stdout",
                    "output_type": "stream",
                    "text": [
                        "\u001b[33;1m\u001b[1;3m> Current query: Compare and contrast the arts and culture of Houston and Boston. \n",
                        "\u001b[0m\u001b[38;5;200m\u001b[1;3m> New query: What are some notable cultural institutions or events in Boston?\n",
                        "\u001b[0m"
                    ]
                },
                {
                    "name": "stderr",
                    "output_type": "stream",
                    "text": [
                        "INFO:llama_index.token_counter.token_counter:> [retrieve] Total LLM token usage: 0 tokens\n",
                        "INFO:llama_index.token_counter.token_counter:> [retrieve] Total embedding token usage: 11 tokens\n"
                    ]
                },
                {
                    "name": "stdout",
                    "output_type": "stream",
                    "text": [
                        "\u001b[33;1m\u001b[1;3m> Current query: Compare and contrast the arts and culture of Houston and Boston. \n",
                        "\u001b[0m\u001b[38;5;200m\u001b[1;3m> New query: What are some notable cultural institutions or events in Boston?\n",
                        "\u001b[0m"
                    ]
                },
                {
                    "name": "stderr",
                    "output_type": "stream",
                    "text": [
                        "INFO:llama_index.token_counter.token_counter:> [get_response] Total LLM token usage: 2130 tokens\n",
                        "INFO:llama_index.token_counter.token_counter:> [get_response] Total embedding token usage: 0 tokens\n",
                        "INFO:llama_index.token_counter.token_counter:> [get_response] Total LLM token usage: 885 tokens\n",
                        "INFO:llama_index.token_counter.token_counter:> [get_response] Total embedding token usage: 0 tokens\n",
                        "INFO:llama_index.token_counter.token_counter:> [get_response] Total LLM token usage: 885 tokens\n",
                        "INFO:llama_index.token_counter.token_counter:> [get_response] Total embedding token usage: 0 tokens\n"
                    ]
                }
            ],
            "source": [
                "query_str = (\n",
                "    \"Compare and contrast the arts and culture of Houston and Boston. \"\n",
                ")\n",
                "response = graph_query_engine.query(query_str)"
            ]
        },
        {
            "cell_type": "code",
            "execution_count": 20,
            "id": "0aa7efdf-c8c0-4efb-83a0-ad617f120307",
            "metadata": {
                "tags": []
            },
            "outputs": [
                {
                    "name": "stdout",
                    "output_type": "stream",
                    "text": [
                        "Houston and Boston both have rich arts and culture scenes, with a variety of cultural institutions and events that cater to diverse interests. Both cities have a strong presence of performing arts organizations, such as the Houston Grand Opera and Houston Ballet in Houston, and the Boston Ballet and Boston Lyric Opera Company in Boston. They also have renowned symphony orchestras, with the Houston Symphony Orchestra and the Boston Symphony Orchestra.\n",
                        "\n",
                        "Both cities host annual events that celebrate their unique cultural identities, such as the Houston Livestock Show and Rodeo, Houston Gay Pride Parade, and Houston Greek Festival in Houston, and the Boston Gay Pride Parade and Festival, Italian Summer Feasts, and Fourth of July events in Boston. Additionally, both cities have thriving theater districts, with Houston's Theater District and Boston's Theater District housing several historic and modern theaters.\n",
                        "\n",
                        "In terms of visual arts, both Houston and Boston have notable art museums, such as the Museum of Fine Arts in both cities, as well as the Houston Museum of Natural Science and the Contemporary Arts Museum Houston in Houston, and the Isabella Stewart Gardner Museum and the Institute of Contemporary Art in Boston. Houston also has unique institutions like the Menil Collection, Rothko Chapel, and the Byzantine Fresco Chapel Museum, while Boston has historic sites related to the American Revolution preserved in the Boston National Historical Park and along the Freedom Trail.\n",
                        "\n",
                        "While both cities have a strong focus on arts and culture, Houston's cultural scene tends to be more diverse, with events like the Art Car Parade, Houston International Festival, and Bayou City Art Festival showcasing the city's eclectic mix of cultures. On the other hand, Boston's cultural scene is deeply rooted in its history and traditions, with events like the Boston Early Music Festival and historic sites along the Freedom Trail reflecting the city's rich past.\n"
                    ]
                }
            ],
            "source": [
                "print(response)"
            ]
        },
        {
            "attachments": {},
            "cell_type": "markdown",
            "id": "a8bc0d20-fa6a-455b-ab85-ea9e4fcc0b37",
            "metadata": {},
            "source": [
                "### Build a router to automatically choose between indices and graph"
            ]
        },
        {
            "attachments": {},
            "cell_type": "markdown",
            "id": "3bc185eb",
            "metadata": {},
            "source": [
                "We can use a `RouterQueryEngine` to automatically route to the vector indices and the graph.\n"
            ]
        },
        {
            "attachments": {},
            "cell_type": "markdown",
            "id": "d4a920fc",
            "metadata": {},
            "source": [
                "\n",
                "To do this, first build the query engines, and give each a description to obtain a `QueryEngineTool`."
            ]
        },
        {
            "cell_type": "code",
            "execution_count": 41,
            "id": "ed558157",
            "metadata": {},
            "outputs": [],
            "source": [
                "from llama_index.tools.query_engine import QueryEngineTool\n",
                "\n",
                "query_engine_tools = []\n",
                "\n",
                "# add vector index tools\n",
                "for wiki_title in wiki_titles:\n",
                "    index = vector_indices[wiki_title]\n",
                "    summary = index_summaries[wiki_title]\n",
                "    \n",
                "    query_engine = index.as_query_engine(service_context=service_context)\n",
                "    vector_tool = QueryEngineTool.from_defaults(query_engine, description=summary)\n",
                "    query_engine_tools.append(vector_tool)\n",
                "\n",
                "\n",
                "# add graph tool\n",
                "graph_description = (\n",
                "    \"This tool contains Wikipedia articles about multiple cities. \"\n",
                "    \"Use this tool if you want to compare multiple cities. \"\n",
                ")\n",
                "graph_tool = QueryEngineTool.from_defaults(graph_query_engine, description=graph_description)\n",
                "query_engine_tools.append(graph_tool)"
            ]
        },
        {
            "attachments": {},
            "cell_type": "markdown",
            "id": "1318dcbb",
            "metadata": {},
            "source": [
                "Then, define the `RouterQueryEngine` with a desired selector module. \n",
                "Here, we use the `LLMSingleSelector`, which uses LLM to choose a underlying query engine to route the query to."
            ]
        },
        {
            "cell_type": "code",
            "execution_count": 42,
            "id": "46922462-604c-43a3-b59a-f040cbd1ed3f",
            "metadata": {},
            "outputs": [],
            "source": [
                "from llama_index.query_engine.router_query_engine import RouterQueryEngine\n",
                "from llama_index.selectors.llm_selectors import LLMSingleSelector\n",
                "\n",
                "\n",
                "router_query_engine = RouterQueryEngine(\n",
                "    selector=LLMSingleSelector.from_defaults(service_context=service_context),\n",
                "    query_engine_tools=query_engine_tools\n",
                ")"
            ]
        },
        {
            "attachments": {},
            "cell_type": "markdown",
            "id": "eef2630a",
            "metadata": {},
            "source": [
                "Asking a compare and contrast question should route the query to the graph."
            ]
        },
        {
            "cell_type": "code",
            "execution_count": 50,
            "id": "f67065c4-3a68-4adb-ab3f-093ec9e2a8f3",
            "metadata": {
                "tags": []
            },
            "outputs": [
                {
                    "name": "stderr",
                    "output_type": "stream",
                    "text": [
                        "INFO:llama_index.query_engine.router_query_engine:Selecting query engine 5: This tool contains Wikipedia articles about multiple cities, which allows for comparison and analysis of different cities, such as Houston and Boston..\n",
                        "INFO:llama_index.indices.keyword_table.retrievers:> Starting query: Compare and contrast the arts and culture of Houston and Boston.\n",
                        "INFO:llama_index.indices.keyword_table.retrievers:query keywords: ['contrast', 'houston', 'arts', 'boston', 'culture', 'compare']\n",
                        "INFO:llama_index.indices.keyword_table.retrievers:> Extracted keywords: ['houston', 'boston']\n",
                        "INFO:llama_index.token_counter.token_counter:> [retrieve] Total LLM token usage: 0 tokens\n",
                        "INFO:llama_index.token_counter.token_counter:> [retrieve] Total embedding token usage: 11 tokens\n"
                    ]
                },
                {
                    "name": "stdout",
                    "output_type": "stream",
                    "text": [
                        "\u001b[33;1m\u001b[1;3m> Current query: Compare and contrast the arts and culture of Houston and Boston.\n",
                        "\u001b[0m\u001b[38;5;200m\u001b[1;3m> New query: What are some notable cultural institutions or events in Houston?\n",
                        "\u001b[0m\u001b[33;1m\u001b[1;3m> Current query: Compare and contrast the arts and culture of Houston and Boston.\n",
                        "\u001b[0m\u001b[38;5;200m\u001b[1;3m> New query: What are some notable cultural institutions or events in Houston and Boston?\n",
                        "\u001b[0m"
                    ]
                },
                {
                    "name": "stderr",
                    "output_type": "stream",
                    "text": [
                        "INFO:llama_index.token_counter.token_counter:> [get_response] Total LLM token usage: 1835 tokens\n",
                        "INFO:llama_index.token_counter.token_counter:> [get_response] Total embedding token usage: 0 tokens\n"
                    ]
                },
                {
                    "name": "stdout",
                    "output_type": "stream",
                    "text": [
                        "\u001b[33;1m\u001b[1;3m> Current query: Compare and contrast the arts and culture of Houston and Boston.\n",
                        "\u001b[0m\u001b[38;5;200m\u001b[1;3m> New query: What are some notable cultural institutions or events in Boston?\n",
                        "\u001b[0m"
                    ]
                },
                {
                    "name": "stderr",
                    "output_type": "stream",
                    "text": [
                        "INFO:llama_index.token_counter.token_counter:> [retrieve] Total LLM token usage: 0 tokens\n",
                        "INFO:llama_index.token_counter.token_counter:> [retrieve] Total embedding token usage: 11 tokens\n"
                    ]
                },
                {
                    "name": "stdout",
                    "output_type": "stream",
                    "text": [
                        "\u001b[33;1m\u001b[1;3m> Current query: Compare and contrast the arts and culture of Houston and Boston.\n",
                        "\u001b[0m\u001b[38;5;200m\u001b[1;3m> New query: What are some notable cultural institutions or events in Boston?\n",
                        "\u001b[0m"
                    ]
                },
                {
                    "name": "stderr",
                    "output_type": "stream",
                    "text": [
                        "INFO:llama_index.token_counter.token_counter:> [get_response] Total LLM token usage: 2134 tokens\n",
                        "INFO:llama_index.token_counter.token_counter:> [get_response] Total embedding token usage: 0 tokens\n",
                        "INFO:llama_index.token_counter.token_counter:> [get_response] Total LLM token usage: 772 tokens\n",
                        "INFO:llama_index.token_counter.token_counter:> [get_response] Total embedding token usage: 0 tokens\n",
                        "INFO:llama_index.token_counter.token_counter:> [get_response] Total LLM token usage: 772 tokens\n",
                        "INFO:llama_index.token_counter.token_counter:> [get_response] Total embedding token usage: 0 tokens\n"
                    ]
                }
            ],
            "source": [
                "# ask a compare/contrast question \n",
                "response = router_query_engine.query(\n",
                "    \"Compare and contrast the arts and culture of Houston and Boston.\",\n",
                ")"
            ]
        },
        {
            "cell_type": "code",
            "execution_count": 52,
            "id": "ebf1a61f-422c-42ac-ae4e-a3a00415bf25",
            "metadata": {
                "tags": []
            },
            "outputs": [
                {
                    "name": "stdout",
                    "output_type": "stream",
                    "text": [
                        "Based on the context information provided, both Houston and Boston have rich arts and cultural scenes, with a variety of institutions and events catering to diverse interests.\n",
                        "\n",
                        "Houston's cultural institutions and events include the Houston Theater District, the Museum District, the Houston Livestock Show and Rodeo, the Houston Gay Pride Parade, the Houston Greek Festival, the Art Car Parade, the Houston Auto Show, the Houston International Festival, and the Bayou City Art Festival.\n",
                        "\n",
                        "In contrast, Boston's cultural institutions and events include the Boston Symphony Hall, New England Conservatory's Jordan Hall, Boston Ballet, various performing-arts organizations, contemporary classical music groups, the Theater District, First Night, Boston Early Music Festival, Boston Arts Festival, Boston Gay Pride Parade and Festival, Italian Summer Feasts, Fourth of July events, art museums such as the Museum of Fine Arts and Isabella Stewart Gardner Museum, the Institute of Contemporary Art, art gallery destinations like the South End Art and Design District (SoWa) and Newbury St, and the Boston National Historical Park.\n",
                        "\n",
                        "Both cities have theater districts, gay pride parades, and arts festivals. However, Houston has unique events such as the Livestock Show and Rodeo, the Greek Festival, the Art Car Parade, and the Houston Auto Show. On the other hand, Boston has a strong focus on classical music with venues like the Symphony Hall and Jordan Hall, as well as historical sites related to the American Revolution.\n"
                    ]
                }
            ],
            "source": [
                "print(response)"
            ]
        },
        {
            "attachments": {},
            "cell_type": "markdown",
            "id": "d4ecdfbe",
            "metadata": {},
            "source": [
                "Asking a question about a specific city should route the query to the specific vector index query engine."
            ]
        },
        {
            "cell_type": "code",
            "execution_count": 43,
            "id": "5d78bcef-785b-4667-a509-9f6d4e1d9d5f",
            "metadata": {
                "tags": []
            },
            "outputs": [
                {
                    "name": "stderr",
                    "output_type": "stream",
                    "text": [
                        "INFO:llama_index.query_engine.router_query_engine:Selecting query engine 0: This content contains Wikipedia articles about Toronto, which can provide information about the sports teams in the city..\n",
                        "INFO:llama_index.token_counter.token_counter:> [retrieve] Total LLM token usage: 0 tokens\n",
                        "INFO:llama_index.token_counter.token_counter:> [retrieve] Total embedding token usage: 8 tokens\n",
                        "INFO:llama_index.token_counter.token_counter:> [get_response] Total LLM token usage: 1905 tokens\n",
                        "INFO:llama_index.token_counter.token_counter:> [get_response] Total embedding token usage: 0 tokens\n"
                    ]
                }
            ],
            "source": [
                "response = router_query_engine.query(\"What are the sports teams in Toronto?\")"
            ]
        },
        {
            "cell_type": "code",
            "execution_count": 49,
            "id": "431d75f1-d153-44b7-ac2f-4bfc4b65e3f5",
            "metadata": {
                "tags": []
            },
            "outputs": [
                {
                    "name": "stdout",
                    "output_type": "stream",
                    "text": [
                        "The sports teams in Toronto include:\n",
                        "\n",
                        "1. Toronto Maple Leafs (NHL - ice hockey)\n",
                        "2. Toronto Blue Jays (MLB - baseball)\n",
                        "3. Toronto Raptors (NBA - basketball)\n",
                        "4. Toronto Argonauts (CFL - Canadian football)\n",
                        "5. Toronto FC (MLS - soccer)\n",
                        "6. Toronto Marlies (AHL - ice hockey)\n",
                        "7. Toronto Six (NWHL - women's ice hockey)\n",
                        "8. Toronto Rock (NLL - lacrosse)\n",
                        "9. Toronto Rush (AUDL - ultimate frisbee)\n",
                        "10. Toronto Wolfpack (Rugby league, currently playing in the North American Rugby League tournament)\n"
                    ]
                }
            ],
            "source": [
                "print(response)"
            ]
        }
    ],
    "metadata": {
        "colab": {
            "provenance": []
        },
        "kernelspec": {
            "display_name": "llama",
            "language": "python",
            "name": "python3"
        },
        "language_info": {
            "codemirror_mode": {
                "name": "ipython",
                "version": 3
            },
            "file_extension": ".py",
            "mimetype": "text/x-python",
            "name": "python",
            "nbconvert_exporter": "python",
            "pygments_lexer": "ipython3",
            "version": "3.9.16"
        },
        "widgets": {
            "application/vnd.jupyter.widget-state+json": {
                "026cc1a42e154f1f92b5236869311929": {
                    "model_module": "@jupyter-widgets/controls",
                    "model_module_version": "1.5.0",
                    "model_name": "FloatProgressModel",
                    "state": {
                        "_dom_classes": [],
                        "_model_module": "@jupyter-widgets/controls",
                        "_model_module_version": "1.5.0",
                        "_model_name": "FloatProgressModel",
                        "_view_count": null,
                        "_view_module": "@jupyter-widgets/controls",
                        "_view_module_version": "1.5.0",
                        "_view_name": "ProgressView",
                        "bar_style": "success",
                        "description": "",
                        "description_tooltip": null,
                        "layout": "IPY_MODEL_4cc9ec6ba46647aba2d53e352f91c137",
                        "max": 665,
                        "min": 0,
                        "orientation": "horizontal",
                        "style": "IPY_MODEL_f2a1c5087d0e44909139697ed90474e8",
                        "value": 665
                    }
                },
                "028aa5d1f7a74d538b5c606d4a6d146f": {
                    "model_module": "@jupyter-widgets/base",
                    "model_module_version": "1.2.0",
                    "model_name": "LayoutModel",
                    "state": {
                        "_model_module": "@jupyter-widgets/base",
                        "_model_module_version": "1.2.0",
                        "_model_name": "LayoutModel",
                        "_view_count": null,
                        "_view_module": "@jupyter-widgets/base",
                        "_view_module_version": "1.2.0",
                        "_view_name": "LayoutView",
                        "align_content": null,
                        "align_items": null,
                        "align_self": null,
                        "border": null,
                        "bottom": null,
                        "display": null,
                        "flex": null,
                        "flex_flow": null,
                        "grid_area": null,
                        "grid_auto_columns": null,
                        "grid_auto_flow": null,
                        "grid_auto_rows": null,
                        "grid_column": null,
                        "grid_gap": null,
                        "grid_row": null,
                        "grid_template_areas": null,
                        "grid_template_columns": null,
                        "grid_template_rows": null,
                        "height": null,
                        "justify_content": null,
                        "justify_items": null,
                        "left": null,
                        "margin": null,
                        "max_height": null,
                        "max_width": null,
                        "min_height": null,
                        "min_width": null,
                        "object_fit": null,
                        "object_position": null,
                        "order": null,
                        "overflow": null,
                        "overflow_x": null,
                        "overflow_y": null,
                        "padding": null,
                        "right": null,
                        "top": null,
                        "visibility": null,
                        "width": null
                    }
                },
                "119d6d7a8d524aa49170f5784ebc6b9e": {
                    "model_module": "@jupyter-widgets/controls",
                    "model_module_version": "1.5.0",
                    "model_name": "DescriptionStyleModel",
                    "state": {
                        "_model_module": "@jupyter-widgets/controls",
                        "_model_module_version": "1.5.0",
                        "_model_name": "DescriptionStyleModel",
                        "_view_count": null,
                        "_view_module": "@jupyter-widgets/base",
                        "_view_module_version": "1.2.0",
                        "_view_name": "StyleView",
                        "description_width": ""
                    }
                },
                "1bdaf4dab16f48dbaeed3fb9bf268e45": {
                    "model_module": "@jupyter-widgets/controls",
                    "model_module_version": "1.5.0",
                    "model_name": "HTMLModel",
                    "state": {
                        "_dom_classes": [],
                        "_model_module": "@jupyter-widgets/controls",
                        "_model_module_version": "1.5.0",
                        "_model_name": "HTMLModel",
                        "_view_count": null,
                        "_view_module": "@jupyter-widgets/controls",
                        "_view_module_version": "1.5.0",
                        "_view_name": "HTMLView",
                        "description": "",
                        "description_tooltip": null,
                        "layout": "IPY_MODEL_028aa5d1f7a74d538b5c606d4a6d146f",
                        "placeholder": "​",
                        "style": "IPY_MODEL_c078fe9a056a473dab7d474cd7907154",
                        "value": "Downloading (…)lve/main/config.json: 100%"
                    }
                },
                "2053e6adef1b4dba89f861eaf3d916fd": {
                    "model_module": "@jupyter-widgets/controls",
                    "model_module_version": "1.5.0",
                    "model_name": "DescriptionStyleModel",
                    "state": {
                        "_model_module": "@jupyter-widgets/controls",
                        "_model_module_version": "1.5.0",
                        "_model_name": "DescriptionStyleModel",
                        "_view_count": null,
                        "_view_module": "@jupyter-widgets/base",
                        "_view_module_version": "1.2.0",
                        "_view_name": "StyleView",
                        "description_width": ""
                    }
                },
                "208d404f405a42a3b06d65ad67fb7322": {
                    "model_module": "@jupyter-widgets/controls",
                    "model_module_version": "1.5.0",
                    "model_name": "HTMLModel",
                    "state": {
                        "_dom_classes": [],
                        "_model_module": "@jupyter-widgets/controls",
                        "_model_module_version": "1.5.0",
                        "_model_name": "HTMLModel",
                        "_view_count": null,
                        "_view_module": "@jupyter-widgets/controls",
                        "_view_module_version": "1.5.0",
                        "_view_name": "HTMLView",
                        "description": "",
                        "description_tooltip": null,
                        "layout": "IPY_MODEL_3fef46c902524717b377dee6c1dfc929",
                        "placeholder": "​",
                        "style": "IPY_MODEL_fd8b887c1f7149f2876cf8a31e534ad6",
                        "value": "Downloading (…)olve/main/vocab.json: 100%"
                    }
                },
                "380a0c11434241b191b17421e395be8b": {
                    "model_module": "@jupyter-widgets/base",
                    "model_module_version": "1.2.0",
                    "model_name": "LayoutModel",
                    "state": {
                        "_model_module": "@jupyter-widgets/base",
                        "_model_module_version": "1.2.0",
                        "_model_name": "LayoutModel",
                        "_view_count": null,
                        "_view_module": "@jupyter-widgets/base",
                        "_view_module_version": "1.2.0",
                        "_view_name": "LayoutView",
                        "align_content": null,
                        "align_items": null,
                        "align_self": null,
                        "border": null,
                        "bottom": null,
                        "display": null,
                        "flex": null,
                        "flex_flow": null,
                        "grid_area": null,
                        "grid_auto_columns": null,
                        "grid_auto_flow": null,
                        "grid_auto_rows": null,
                        "grid_column": null,
                        "grid_gap": null,
                        "grid_row": null,
                        "grid_template_areas": null,
                        "grid_template_columns": null,
                        "grid_template_rows": null,
                        "height": null,
                        "justify_content": null,
                        "justify_items": null,
                        "left": null,
                        "margin": null,
                        "max_height": null,
                        "max_width": null,
                        "min_height": null,
                        "min_width": null,
                        "object_fit": null,
                        "object_position": null,
                        "order": null,
                        "overflow": null,
                        "overflow_x": null,
                        "overflow_y": null,
                        "padding": null,
                        "right": null,
                        "top": null,
                        "visibility": null,
                        "width": null
                    }
                },
                "398f1c0f56fe4f218d999df138adfdac": {
                    "model_module": "@jupyter-widgets/base",
                    "model_module_version": "1.2.0",
                    "model_name": "LayoutModel",
                    "state": {
                        "_model_module": "@jupyter-widgets/base",
                        "_model_module_version": "1.2.0",
                        "_model_name": "LayoutModel",
                        "_view_count": null,
                        "_view_module": "@jupyter-widgets/base",
                        "_view_module_version": "1.2.0",
                        "_view_name": "LayoutView",
                        "align_content": null,
                        "align_items": null,
                        "align_self": null,
                        "border": null,
                        "bottom": null,
                        "display": null,
                        "flex": null,
                        "flex_flow": null,
                        "grid_area": null,
                        "grid_auto_columns": null,
                        "grid_auto_flow": null,
                        "grid_auto_rows": null,
                        "grid_column": null,
                        "grid_gap": null,
                        "grid_row": null,
                        "grid_template_areas": null,
                        "grid_template_columns": null,
                        "grid_template_rows": null,
                        "height": null,
                        "justify_content": null,
                        "justify_items": null,
                        "left": null,
                        "margin": null,
                        "max_height": null,
                        "max_width": null,
                        "min_height": null,
                        "min_width": null,
                        "object_fit": null,
                        "object_position": null,
                        "order": null,
                        "overflow": null,
                        "overflow_x": null,
                        "overflow_y": null,
                        "padding": null,
                        "right": null,
                        "top": null,
                        "visibility": null,
                        "width": null
                    }
                },
                "3b4c1066797b43a586611ec2d63e7ca1": {
                    "model_module": "@jupyter-widgets/controls",
                    "model_module_version": "1.5.0",
                    "model_name": "HBoxModel",
                    "state": {
                        "_dom_classes": [],
                        "_model_module": "@jupyter-widgets/controls",
                        "_model_module_version": "1.5.0",
                        "_model_name": "HBoxModel",
                        "_view_count": null,
                        "_view_module": "@jupyter-widgets/controls",
                        "_view_module_version": "1.5.0",
                        "_view_name": "HBoxView",
                        "box_style": "",
                        "children": [
                            "IPY_MODEL_c06865c1e01a441698dacf48600dd03c",
                            "IPY_MODEL_9d229e5dd56e4d539ca2c1b9f0a37812",
                            "IPY_MODEL_868aa268dd28498d902782215e53c6fa"
                        ],
                        "layout": "IPY_MODEL_46f644cf589e4a48a6fad1742f0c0575"
                    }
                },
                "3c37e72850c746ce9c919add5340dede": {
                    "model_module": "@jupyter-widgets/base",
                    "model_module_version": "1.2.0",
                    "model_name": "LayoutModel",
                    "state": {
                        "_model_module": "@jupyter-widgets/base",
                        "_model_module_version": "1.2.0",
                        "_model_name": "LayoutModel",
                        "_view_count": null,
                        "_view_module": "@jupyter-widgets/base",
                        "_view_module_version": "1.2.0",
                        "_view_name": "LayoutView",
                        "align_content": null,
                        "align_items": null,
                        "align_self": null,
                        "border": null,
                        "bottom": null,
                        "display": null,
                        "flex": null,
                        "flex_flow": null,
                        "grid_area": null,
                        "grid_auto_columns": null,
                        "grid_auto_flow": null,
                        "grid_auto_rows": null,
                        "grid_column": null,
                        "grid_gap": null,
                        "grid_row": null,
                        "grid_template_areas": null,
                        "grid_template_columns": null,
                        "grid_template_rows": null,
                        "height": null,
                        "justify_content": null,
                        "justify_items": null,
                        "left": null,
                        "margin": null,
                        "max_height": null,
                        "max_width": null,
                        "min_height": null,
                        "min_width": null,
                        "object_fit": null,
                        "object_position": null,
                        "order": null,
                        "overflow": null,
                        "overflow_x": null,
                        "overflow_y": null,
                        "padding": null,
                        "right": null,
                        "top": null,
                        "visibility": null,
                        "width": null
                    }
                },
                "3f748152b9274556afad2555572aa9f4": {
                    "model_module": "@jupyter-widgets/controls",
                    "model_module_version": "1.5.0",
                    "model_name": "DescriptionStyleModel",
                    "state": {
                        "_model_module": "@jupyter-widgets/controls",
                        "_model_module_version": "1.5.0",
                        "_model_name": "DescriptionStyleModel",
                        "_view_count": null,
                        "_view_module": "@jupyter-widgets/base",
                        "_view_module_version": "1.2.0",
                        "_view_name": "StyleView",
                        "description_width": ""
                    }
                },
                "3fef46c902524717b377dee6c1dfc929": {
                    "model_module": "@jupyter-widgets/base",
                    "model_module_version": "1.2.0",
                    "model_name": "LayoutModel",
                    "state": {
                        "_model_module": "@jupyter-widgets/base",
                        "_model_module_version": "1.2.0",
                        "_model_name": "LayoutModel",
                        "_view_count": null,
                        "_view_module": "@jupyter-widgets/base",
                        "_view_module_version": "1.2.0",
                        "_view_name": "LayoutView",
                        "align_content": null,
                        "align_items": null,
                        "align_self": null,
                        "border": null,
                        "bottom": null,
                        "display": null,
                        "flex": null,
                        "flex_flow": null,
                        "grid_area": null,
                        "grid_auto_columns": null,
                        "grid_auto_flow": null,
                        "grid_auto_rows": null,
                        "grid_column": null,
                        "grid_gap": null,
                        "grid_row": null,
                        "grid_template_areas": null,
                        "grid_template_columns": null,
                        "grid_template_rows": null,
                        "height": null,
                        "justify_content": null,
                        "justify_items": null,
                        "left": null,
                        "margin": null,
                        "max_height": null,
                        "max_width": null,
                        "min_height": null,
                        "min_width": null,
                        "object_fit": null,
                        "object_position": null,
                        "order": null,
                        "overflow": null,
                        "overflow_x": null,
                        "overflow_y": null,
                        "padding": null,
                        "right": null,
                        "top": null,
                        "visibility": null,
                        "width": null
                    }
                },
                "40e148c291ad4f739998a7eac55a8af6": {
                    "model_module": "@jupyter-widgets/base",
                    "model_module_version": "1.2.0",
                    "model_name": "LayoutModel",
                    "state": {
                        "_model_module": "@jupyter-widgets/base",
                        "_model_module_version": "1.2.0",
                        "_model_name": "LayoutModel",
                        "_view_count": null,
                        "_view_module": "@jupyter-widgets/base",
                        "_view_module_version": "1.2.0",
                        "_view_name": "LayoutView",
                        "align_content": null,
                        "align_items": null,
                        "align_self": null,
                        "border": null,
                        "bottom": null,
                        "display": null,
                        "flex": null,
                        "flex_flow": null,
                        "grid_area": null,
                        "grid_auto_columns": null,
                        "grid_auto_flow": null,
                        "grid_auto_rows": null,
                        "grid_column": null,
                        "grid_gap": null,
                        "grid_row": null,
                        "grid_template_areas": null,
                        "grid_template_columns": null,
                        "grid_template_rows": null,
                        "height": null,
                        "justify_content": null,
                        "justify_items": null,
                        "left": null,
                        "margin": null,
                        "max_height": null,
                        "max_width": null,
                        "min_height": null,
                        "min_width": null,
                        "object_fit": null,
                        "object_position": null,
                        "order": null,
                        "overflow": null,
                        "overflow_x": null,
                        "overflow_y": null,
                        "padding": null,
                        "right": null,
                        "top": null,
                        "visibility": null,
                        "width": null
                    }
                },
                "46f644cf589e4a48a6fad1742f0c0575": {
                    "model_module": "@jupyter-widgets/base",
                    "model_module_version": "1.2.0",
                    "model_name": "LayoutModel",
                    "state": {
                        "_model_module": "@jupyter-widgets/base",
                        "_model_module_version": "1.2.0",
                        "_model_name": "LayoutModel",
                        "_view_count": null,
                        "_view_module": "@jupyter-widgets/base",
                        "_view_module_version": "1.2.0",
                        "_view_name": "LayoutView",
                        "align_content": null,
                        "align_items": null,
                        "align_self": null,
                        "border": null,
                        "bottom": null,
                        "display": null,
                        "flex": null,
                        "flex_flow": null,
                        "grid_area": null,
                        "grid_auto_columns": null,
                        "grid_auto_flow": null,
                        "grid_auto_rows": null,
                        "grid_column": null,
                        "grid_gap": null,
                        "grid_row": null,
                        "grid_template_areas": null,
                        "grid_template_columns": null,
                        "grid_template_rows": null,
                        "height": null,
                        "justify_content": null,
                        "justify_items": null,
                        "left": null,
                        "margin": null,
                        "max_height": null,
                        "max_width": null,
                        "min_height": null,
                        "min_width": null,
                        "object_fit": null,
                        "object_position": null,
                        "order": null,
                        "overflow": null,
                        "overflow_x": null,
                        "overflow_y": null,
                        "padding": null,
                        "right": null,
                        "top": null,
                        "visibility": null,
                        "width": null
                    }
                },
                "47838fa763ca40598b2622a9d1e79444": {
                    "model_module": "@jupyter-widgets/controls",
                    "model_module_version": "1.5.0",
                    "model_name": "HTMLModel",
                    "state": {
                        "_dom_classes": [],
                        "_model_module": "@jupyter-widgets/controls",
                        "_model_module_version": "1.5.0",
                        "_model_name": "HTMLModel",
                        "_view_count": null,
                        "_view_module": "@jupyter-widgets/controls",
                        "_view_module_version": "1.5.0",
                        "_view_name": "HTMLView",
                        "description": "",
                        "description_tooltip": null,
                        "layout": "IPY_MODEL_b102e756f9b848a98f58396fc825be84",
                        "placeholder": "​",
                        "style": "IPY_MODEL_fbd7219af1924d2ead5310eb7b35aab0",
                        "value": " 1.04M/1.04M [00:00&lt;00:00, 23.7MB/s]"
                    }
                },
                "4cc9ec6ba46647aba2d53e352f91c137": {
                    "model_module": "@jupyter-widgets/base",
                    "model_module_version": "1.2.0",
                    "model_name": "LayoutModel",
                    "state": {
                        "_model_module": "@jupyter-widgets/base",
                        "_model_module_version": "1.2.0",
                        "_model_name": "LayoutModel",
                        "_view_count": null,
                        "_view_module": "@jupyter-widgets/base",
                        "_view_module_version": "1.2.0",
                        "_view_name": "LayoutView",
                        "align_content": null,
                        "align_items": null,
                        "align_self": null,
                        "border": null,
                        "bottom": null,
                        "display": null,
                        "flex": null,
                        "flex_flow": null,
                        "grid_area": null,
                        "grid_auto_columns": null,
                        "grid_auto_flow": null,
                        "grid_auto_rows": null,
                        "grid_column": null,
                        "grid_gap": null,
                        "grid_row": null,
                        "grid_template_areas": null,
                        "grid_template_columns": null,
                        "grid_template_rows": null,
                        "height": null,
                        "justify_content": null,
                        "justify_items": null,
                        "left": null,
                        "margin": null,
                        "max_height": null,
                        "max_width": null,
                        "min_height": null,
                        "min_width": null,
                        "object_fit": null,
                        "object_position": null,
                        "order": null,
                        "overflow": null,
                        "overflow_x": null,
                        "overflow_y": null,
                        "padding": null,
                        "right": null,
                        "top": null,
                        "visibility": null,
                        "width": null
                    }
                },
                "64b754f563834be0a6963349b1f2dcf2": {
                    "model_module": "@jupyter-widgets/controls",
                    "model_module_version": "1.5.0",
                    "model_name": "HTMLModel",
                    "state": {
                        "_dom_classes": [],
                        "_model_module": "@jupyter-widgets/controls",
                        "_model_module_version": "1.5.0",
                        "_model_name": "HTMLModel",
                        "_view_count": null,
                        "_view_module": "@jupyter-widgets/controls",
                        "_view_module_version": "1.5.0",
                        "_view_name": "HTMLView",
                        "description": "",
                        "description_tooltip": null,
                        "layout": "IPY_MODEL_a02534c347aa4865ab4ab3de3a3ee2f5",
                        "placeholder": "​",
                        "style": "IPY_MODEL_b0ccb9d9d96e4ed8bec4d540c34d337c",
                        "value": "Downloading (…)/main/tokenizer.json: 100%"
                    }
                },
                "7438aea716f44d85ad1c2b49a93acd83": {
                    "model_module": "@jupyter-widgets/base",
                    "model_module_version": "1.2.0",
                    "model_name": "LayoutModel",
                    "state": {
                        "_model_module": "@jupyter-widgets/base",
                        "_model_module_version": "1.2.0",
                        "_model_name": "LayoutModel",
                        "_view_count": null,
                        "_view_module": "@jupyter-widgets/base",
                        "_view_module_version": "1.2.0",
                        "_view_name": "LayoutView",
                        "align_content": null,
                        "align_items": null,
                        "align_self": null,
                        "border": null,
                        "bottom": null,
                        "display": null,
                        "flex": null,
                        "flex_flow": null,
                        "grid_area": null,
                        "grid_auto_columns": null,
                        "grid_auto_flow": null,
                        "grid_auto_rows": null,
                        "grid_column": null,
                        "grid_gap": null,
                        "grid_row": null,
                        "grid_template_areas": null,
                        "grid_template_columns": null,
                        "grid_template_rows": null,
                        "height": null,
                        "justify_content": null,
                        "justify_items": null,
                        "left": null,
                        "margin": null,
                        "max_height": null,
                        "max_width": null,
                        "min_height": null,
                        "min_width": null,
                        "object_fit": null,
                        "object_position": null,
                        "order": null,
                        "overflow": null,
                        "overflow_x": null,
                        "overflow_y": null,
                        "padding": null,
                        "right": null,
                        "top": null,
                        "visibility": null,
                        "width": null
                    }
                },
                "7b24b46d6c3643e581ba003a9c473745": {
                    "model_module": "@jupyter-widgets/base",
                    "model_module_version": "1.2.0",
                    "model_name": "LayoutModel",
                    "state": {
                        "_model_module": "@jupyter-widgets/base",
                        "_model_module_version": "1.2.0",
                        "_model_name": "LayoutModel",
                        "_view_count": null,
                        "_view_module": "@jupyter-widgets/base",
                        "_view_module_version": "1.2.0",
                        "_view_name": "LayoutView",
                        "align_content": null,
                        "align_items": null,
                        "align_self": null,
                        "border": null,
                        "bottom": null,
                        "display": null,
                        "flex": null,
                        "flex_flow": null,
                        "grid_area": null,
                        "grid_auto_columns": null,
                        "grid_auto_flow": null,
                        "grid_auto_rows": null,
                        "grid_column": null,
                        "grid_gap": null,
                        "grid_row": null,
                        "grid_template_areas": null,
                        "grid_template_columns": null,
                        "grid_template_rows": null,
                        "height": null,
                        "justify_content": null,
                        "justify_items": null,
                        "left": null,
                        "margin": null,
                        "max_height": null,
                        "max_width": null,
                        "min_height": null,
                        "min_width": null,
                        "object_fit": null,
                        "object_position": null,
                        "order": null,
                        "overflow": null,
                        "overflow_x": null,
                        "overflow_y": null,
                        "padding": null,
                        "right": null,
                        "top": null,
                        "visibility": null,
                        "width": null
                    }
                },
                "7b47c78391a4431aa2d3f84677f24046": {
                    "model_module": "@jupyter-widgets/controls",
                    "model_module_version": "1.5.0",
                    "model_name": "DescriptionStyleModel",
                    "state": {
                        "_model_module": "@jupyter-widgets/controls",
                        "_model_module_version": "1.5.0",
                        "_model_name": "DescriptionStyleModel",
                        "_view_count": null,
                        "_view_module": "@jupyter-widgets/base",
                        "_view_module_version": "1.2.0",
                        "_view_name": "StyleView",
                        "description_width": ""
                    }
                },
                "7da29a2b6508494282acbc459eccbb96": {
                    "model_module": "@jupyter-widgets/controls",
                    "model_module_version": "1.5.0",
                    "model_name": "FloatProgressModel",
                    "state": {
                        "_dom_classes": [],
                        "_model_module": "@jupyter-widgets/controls",
                        "_model_module_version": "1.5.0",
                        "_model_name": "FloatProgressModel",
                        "_view_count": null,
                        "_view_module": "@jupyter-widgets/controls",
                        "_view_module_version": "1.5.0",
                        "_view_name": "ProgressView",
                        "bar_style": "success",
                        "description": "",
                        "description_tooltip": null,
                        "layout": "IPY_MODEL_7438aea716f44d85ad1c2b49a93acd83",
                        "max": 1042301,
                        "min": 0,
                        "orientation": "horizontal",
                        "style": "IPY_MODEL_fe39f994fa9b4d7daa232e1dcd2b0e8b",
                        "value": 1042301
                    }
                },
                "868aa268dd28498d902782215e53c6fa": {
                    "model_module": "@jupyter-widgets/controls",
                    "model_module_version": "1.5.0",
                    "model_name": "HTMLModel",
                    "state": {
                        "_dom_classes": [],
                        "_model_module": "@jupyter-widgets/controls",
                        "_model_module_version": "1.5.0",
                        "_model_name": "HTMLModel",
                        "_view_count": null,
                        "_view_module": "@jupyter-widgets/controls",
                        "_view_module_version": "1.5.0",
                        "_view_name": "HTMLView",
                        "description": "",
                        "description_tooltip": null,
                        "layout": "IPY_MODEL_3c37e72850c746ce9c919add5340dede",
                        "placeholder": "​",
                        "style": "IPY_MODEL_2053e6adef1b4dba89f861eaf3d916fd",
                        "value": " 456k/456k [00:00&lt;00:00, 11.9MB/s]"
                    }
                },
                "9d229e5dd56e4d539ca2c1b9f0a37812": {
                    "model_module": "@jupyter-widgets/controls",
                    "model_module_version": "1.5.0",
                    "model_name": "FloatProgressModel",
                    "state": {
                        "_dom_classes": [],
                        "_model_module": "@jupyter-widgets/controls",
                        "_model_module_version": "1.5.0",
                        "_model_name": "FloatProgressModel",
                        "_view_count": null,
                        "_view_module": "@jupyter-widgets/controls",
                        "_view_module_version": "1.5.0",
                        "_view_name": "ProgressView",
                        "bar_style": "success",
                        "description": "",
                        "description_tooltip": null,
                        "layout": "IPY_MODEL_398f1c0f56fe4f218d999df138adfdac",
                        "max": 456318,
                        "min": 0,
                        "orientation": "horizontal",
                        "style": "IPY_MODEL_f1839e86863948f68314f81ba6bca4c9",
                        "value": 456318
                    }
                },
                "a02534c347aa4865ab4ab3de3a3ee2f5": {
                    "model_module": "@jupyter-widgets/base",
                    "model_module_version": "1.2.0",
                    "model_name": "LayoutModel",
                    "state": {
                        "_model_module": "@jupyter-widgets/base",
                        "_model_module_version": "1.2.0",
                        "_model_name": "LayoutModel",
                        "_view_count": null,
                        "_view_module": "@jupyter-widgets/base",
                        "_view_module_version": "1.2.0",
                        "_view_name": "LayoutView",
                        "align_content": null,
                        "align_items": null,
                        "align_self": null,
                        "border": null,
                        "bottom": null,
                        "display": null,
                        "flex": null,
                        "flex_flow": null,
                        "grid_area": null,
                        "grid_auto_columns": null,
                        "grid_auto_flow": null,
                        "grid_auto_rows": null,
                        "grid_column": null,
                        "grid_gap": null,
                        "grid_row": null,
                        "grid_template_areas": null,
                        "grid_template_columns": null,
                        "grid_template_rows": null,
                        "height": null,
                        "justify_content": null,
                        "justify_items": null,
                        "left": null,
                        "margin": null,
                        "max_height": null,
                        "max_width": null,
                        "min_height": null,
                        "min_width": null,
                        "object_fit": null,
                        "object_position": null,
                        "order": null,
                        "overflow": null,
                        "overflow_x": null,
                        "overflow_y": null,
                        "padding": null,
                        "right": null,
                        "top": null,
                        "visibility": null,
                        "width": null
                    }
                },
                "a2edbc4195d843e0acfba83726a08e78": {
                    "model_module": "@jupyter-widgets/controls",
                    "model_module_version": "1.5.0",
                    "model_name": "HTMLModel",
                    "state": {
                        "_dom_classes": [],
                        "_model_module": "@jupyter-widgets/controls",
                        "_model_module_version": "1.5.0",
                        "_model_name": "HTMLModel",
                        "_view_count": null,
                        "_view_module": "@jupyter-widgets/controls",
                        "_view_module_version": "1.5.0",
                        "_view_name": "HTMLView",
                        "description": "",
                        "description_tooltip": null,
                        "layout": "IPY_MODEL_7b24b46d6c3643e581ba003a9c473745",
                        "placeholder": "​",
                        "style": "IPY_MODEL_3f748152b9274556afad2555572aa9f4",
                        "value": " 665/665 [00:00&lt;00:00, 22.7kB/s]"
                    }
                },
                "adb40ef11f094594b14776e238955224": {
                    "model_module": "@jupyter-widgets/base",
                    "model_module_version": "1.2.0",
                    "model_name": "LayoutModel",
                    "state": {
                        "_model_module": "@jupyter-widgets/base",
                        "_model_module_version": "1.2.0",
                        "_model_name": "LayoutModel",
                        "_view_count": null,
                        "_view_module": "@jupyter-widgets/base",
                        "_view_module_version": "1.2.0",
                        "_view_name": "LayoutView",
                        "align_content": null,
                        "align_items": null,
                        "align_self": null,
                        "border": null,
                        "bottom": null,
                        "display": null,
                        "flex": null,
                        "flex_flow": null,
                        "grid_area": null,
                        "grid_auto_columns": null,
                        "grid_auto_flow": null,
                        "grid_auto_rows": null,
                        "grid_column": null,
                        "grid_gap": null,
                        "grid_row": null,
                        "grid_template_areas": null,
                        "grid_template_columns": null,
                        "grid_template_rows": null,
                        "height": null,
                        "justify_content": null,
                        "justify_items": null,
                        "left": null,
                        "margin": null,
                        "max_height": null,
                        "max_width": null,
                        "min_height": null,
                        "min_width": null,
                        "object_fit": null,
                        "object_position": null,
                        "order": null,
                        "overflow": null,
                        "overflow_x": null,
                        "overflow_y": null,
                        "padding": null,
                        "right": null,
                        "top": null,
                        "visibility": null,
                        "width": null
                    }
                },
                "b0ccb9d9d96e4ed8bec4d540c34d337c": {
                    "model_module": "@jupyter-widgets/controls",
                    "model_module_version": "1.5.0",
                    "model_name": "DescriptionStyleModel",
                    "state": {
                        "_model_module": "@jupyter-widgets/controls",
                        "_model_module_version": "1.5.0",
                        "_model_name": "DescriptionStyleModel",
                        "_view_count": null,
                        "_view_module": "@jupyter-widgets/base",
                        "_view_module_version": "1.2.0",
                        "_view_name": "StyleView",
                        "description_width": ""
                    }
                },
                "b102e756f9b848a98f58396fc825be84": {
                    "model_module": "@jupyter-widgets/base",
                    "model_module_version": "1.2.0",
                    "model_name": "LayoutModel",
                    "state": {
                        "_model_module": "@jupyter-widgets/base",
                        "_model_module_version": "1.2.0",
                        "_model_name": "LayoutModel",
                        "_view_count": null,
                        "_view_module": "@jupyter-widgets/base",
                        "_view_module_version": "1.2.0",
                        "_view_name": "LayoutView",
                        "align_content": null,
                        "align_items": null,
                        "align_self": null,
                        "border": null,
                        "bottom": null,
                        "display": null,
                        "flex": null,
                        "flex_flow": null,
                        "grid_area": null,
                        "grid_auto_columns": null,
                        "grid_auto_flow": null,
                        "grid_auto_rows": null,
                        "grid_column": null,
                        "grid_gap": null,
                        "grid_row": null,
                        "grid_template_areas": null,
                        "grid_template_columns": null,
                        "grid_template_rows": null,
                        "height": null,
                        "justify_content": null,
                        "justify_items": null,
                        "left": null,
                        "margin": null,
                        "max_height": null,
                        "max_width": null,
                        "min_height": null,
                        "min_width": null,
                        "object_fit": null,
                        "object_position": null,
                        "order": null,
                        "overflow": null,
                        "overflow_x": null,
                        "overflow_y": null,
                        "padding": null,
                        "right": null,
                        "top": null,
                        "visibility": null,
                        "width": null
                    }
                },
                "b458d6fa793d4fa080b9f1e5013af3de": {
                    "model_module": "@jupyter-widgets/base",
                    "model_module_version": "1.2.0",
                    "model_name": "LayoutModel",
                    "state": {
                        "_model_module": "@jupyter-widgets/base",
                        "_model_module_version": "1.2.0",
                        "_model_name": "LayoutModel",
                        "_view_count": null,
                        "_view_module": "@jupyter-widgets/base",
                        "_view_module_version": "1.2.0",
                        "_view_name": "LayoutView",
                        "align_content": null,
                        "align_items": null,
                        "align_self": null,
                        "border": null,
                        "bottom": null,
                        "display": null,
                        "flex": null,
                        "flex_flow": null,
                        "grid_area": null,
                        "grid_auto_columns": null,
                        "grid_auto_flow": null,
                        "grid_auto_rows": null,
                        "grid_column": null,
                        "grid_gap": null,
                        "grid_row": null,
                        "grid_template_areas": null,
                        "grid_template_columns": null,
                        "grid_template_rows": null,
                        "height": null,
                        "justify_content": null,
                        "justify_items": null,
                        "left": null,
                        "margin": null,
                        "max_height": null,
                        "max_width": null,
                        "min_height": null,
                        "min_width": null,
                        "object_fit": null,
                        "object_position": null,
                        "order": null,
                        "overflow": null,
                        "overflow_x": null,
                        "overflow_y": null,
                        "padding": null,
                        "right": null,
                        "top": null,
                        "visibility": null,
                        "width": null
                    }
                },
                "b53e8481f6d64018988dc03081bf2765": {
                    "model_module": "@jupyter-widgets/controls",
                    "model_module_version": "1.5.0",
                    "model_name": "ProgressStyleModel",
                    "state": {
                        "_model_module": "@jupyter-widgets/controls",
                        "_model_module_version": "1.5.0",
                        "_model_name": "ProgressStyleModel",
                        "_view_count": null,
                        "_view_module": "@jupyter-widgets/base",
                        "_view_module_version": "1.2.0",
                        "_view_name": "StyleView",
                        "bar_color": null,
                        "description_width": ""
                    }
                },
                "b5566e3db2914ddebd80d7bde75b2559": {
                    "model_module": "@jupyter-widgets/controls",
                    "model_module_version": "1.5.0",
                    "model_name": "HBoxModel",
                    "state": {
                        "_dom_classes": [],
                        "_model_module": "@jupyter-widgets/controls",
                        "_model_module_version": "1.5.0",
                        "_model_name": "HBoxModel",
                        "_view_count": null,
                        "_view_module": "@jupyter-widgets/controls",
                        "_view_module_version": "1.5.0",
                        "_view_name": "HBoxView",
                        "box_style": "",
                        "children": [
                            "IPY_MODEL_208d404f405a42a3b06d65ad67fb7322",
                            "IPY_MODEL_7da29a2b6508494282acbc459eccbb96",
                            "IPY_MODEL_47838fa763ca40598b2622a9d1e79444"
                        ],
                        "layout": "IPY_MODEL_ff32a3f12e814740a1cd5dd12bd731d4"
                    }
                },
                "c06865c1e01a441698dacf48600dd03c": {
                    "model_module": "@jupyter-widgets/controls",
                    "model_module_version": "1.5.0",
                    "model_name": "HTMLModel",
                    "state": {
                        "_dom_classes": [],
                        "_model_module": "@jupyter-widgets/controls",
                        "_model_module_version": "1.5.0",
                        "_model_name": "HTMLModel",
                        "_view_count": null,
                        "_view_module": "@jupyter-widgets/controls",
                        "_view_module_version": "1.5.0",
                        "_view_name": "HTMLView",
                        "description": "",
                        "description_tooltip": null,
                        "layout": "IPY_MODEL_adb40ef11f094594b14776e238955224",
                        "placeholder": "​",
                        "style": "IPY_MODEL_7b47c78391a4431aa2d3f84677f24046",
                        "value": "Downloading (…)olve/main/merges.txt: 100%"
                    }
                },
                "c078fe9a056a473dab7d474cd7907154": {
                    "model_module": "@jupyter-widgets/controls",
                    "model_module_version": "1.5.0",
                    "model_name": "DescriptionStyleModel",
                    "state": {
                        "_model_module": "@jupyter-widgets/controls",
                        "_model_module_version": "1.5.0",
                        "_model_name": "DescriptionStyleModel",
                        "_view_count": null,
                        "_view_module": "@jupyter-widgets/base",
                        "_view_module_version": "1.2.0",
                        "_view_name": "StyleView",
                        "description_width": ""
                    }
                },
                "c7636a6d7380465895b8c86d34caf500": {
                    "model_module": "@jupyter-widgets/controls",
                    "model_module_version": "1.5.0",
                    "model_name": "FloatProgressModel",
                    "state": {
                        "_dom_classes": [],
                        "_model_module": "@jupyter-widgets/controls",
                        "_model_module_version": "1.5.0",
                        "_model_name": "FloatProgressModel",
                        "_view_count": null,
                        "_view_module": "@jupyter-widgets/controls",
                        "_view_module_version": "1.5.0",
                        "_view_name": "ProgressView",
                        "bar_style": "success",
                        "description": "",
                        "description_tooltip": null,
                        "layout": "IPY_MODEL_f22e9615de674e05978f332eb88750cf",
                        "max": 1355256,
                        "min": 0,
                        "orientation": "horizontal",
                        "style": "IPY_MODEL_b53e8481f6d64018988dc03081bf2765",
                        "value": 1355256
                    }
                },
                "d55f842766484d299c75f74e31e7aa6a": {
                    "model_module": "@jupyter-widgets/controls",
                    "model_module_version": "1.5.0",
                    "model_name": "HBoxModel",
                    "state": {
                        "_dom_classes": [],
                        "_model_module": "@jupyter-widgets/controls",
                        "_model_module_version": "1.5.0",
                        "_model_name": "HBoxModel",
                        "_view_count": null,
                        "_view_module": "@jupyter-widgets/controls",
                        "_view_module_version": "1.5.0",
                        "_view_name": "HBoxView",
                        "box_style": "",
                        "children": [
                            "IPY_MODEL_1bdaf4dab16f48dbaeed3fb9bf268e45",
                            "IPY_MODEL_026cc1a42e154f1f92b5236869311929",
                            "IPY_MODEL_a2edbc4195d843e0acfba83726a08e78"
                        ],
                        "layout": "IPY_MODEL_40e148c291ad4f739998a7eac55a8af6"
                    }
                },
                "eab4127882d24acfa9518ebff6f4e22a": {
                    "model_module": "@jupyter-widgets/controls",
                    "model_module_version": "1.5.0",
                    "model_name": "HBoxModel",
                    "state": {
                        "_dom_classes": [],
                        "_model_module": "@jupyter-widgets/controls",
                        "_model_module_version": "1.5.0",
                        "_model_name": "HBoxModel",
                        "_view_count": null,
                        "_view_module": "@jupyter-widgets/controls",
                        "_view_module_version": "1.5.0",
                        "_view_name": "HBoxView",
                        "box_style": "",
                        "children": [
                            "IPY_MODEL_64b754f563834be0a6963349b1f2dcf2",
                            "IPY_MODEL_c7636a6d7380465895b8c86d34caf500",
                            "IPY_MODEL_f7803dea63994cc2a31acf805bd19e67"
                        ],
                        "layout": "IPY_MODEL_380a0c11434241b191b17421e395be8b"
                    }
                },
                "f1839e86863948f68314f81ba6bca4c9": {
                    "model_module": "@jupyter-widgets/controls",
                    "model_module_version": "1.5.0",
                    "model_name": "ProgressStyleModel",
                    "state": {
                        "_model_module": "@jupyter-widgets/controls",
                        "_model_module_version": "1.5.0",
                        "_model_name": "ProgressStyleModel",
                        "_view_count": null,
                        "_view_module": "@jupyter-widgets/base",
                        "_view_module_version": "1.2.0",
                        "_view_name": "StyleView",
                        "bar_color": null,
                        "description_width": ""
                    }
                },
                "f22e9615de674e05978f332eb88750cf": {
                    "model_module": "@jupyter-widgets/base",
                    "model_module_version": "1.2.0",
                    "model_name": "LayoutModel",
                    "state": {
                        "_model_module": "@jupyter-widgets/base",
                        "_model_module_version": "1.2.0",
                        "_model_name": "LayoutModel",
                        "_view_count": null,
                        "_view_module": "@jupyter-widgets/base",
                        "_view_module_version": "1.2.0",
                        "_view_name": "LayoutView",
                        "align_content": null,
                        "align_items": null,
                        "align_self": null,
                        "border": null,
                        "bottom": null,
                        "display": null,
                        "flex": null,
                        "flex_flow": null,
                        "grid_area": null,
                        "grid_auto_columns": null,
                        "grid_auto_flow": null,
                        "grid_auto_rows": null,
                        "grid_column": null,
                        "grid_gap": null,
                        "grid_row": null,
                        "grid_template_areas": null,
                        "grid_template_columns": null,
                        "grid_template_rows": null,
                        "height": null,
                        "justify_content": null,
                        "justify_items": null,
                        "left": null,
                        "margin": null,
                        "max_height": null,
                        "max_width": null,
                        "min_height": null,
                        "min_width": null,
                        "object_fit": null,
                        "object_position": null,
                        "order": null,
                        "overflow": null,
                        "overflow_x": null,
                        "overflow_y": null,
                        "padding": null,
                        "right": null,
                        "top": null,
                        "visibility": null,
                        "width": null
                    }
                },
                "f2a1c5087d0e44909139697ed90474e8": {
                    "model_module": "@jupyter-widgets/controls",
                    "model_module_version": "1.5.0",
                    "model_name": "ProgressStyleModel",
                    "state": {
                        "_model_module": "@jupyter-widgets/controls",
                        "_model_module_version": "1.5.0",
                        "_model_name": "ProgressStyleModel",
                        "_view_count": null,
                        "_view_module": "@jupyter-widgets/base",
                        "_view_module_version": "1.2.0",
                        "_view_name": "StyleView",
                        "bar_color": null,
                        "description_width": ""
                    }
                },
                "f7803dea63994cc2a31acf805bd19e67": {
                    "model_module": "@jupyter-widgets/controls",
                    "model_module_version": "1.5.0",
                    "model_name": "HTMLModel",
                    "state": {
                        "_dom_classes": [],
                        "_model_module": "@jupyter-widgets/controls",
                        "_model_module_version": "1.5.0",
                        "_model_name": "HTMLModel",
                        "_view_count": null,
                        "_view_module": "@jupyter-widgets/controls",
                        "_view_module_version": "1.5.0",
                        "_view_name": "HTMLView",
                        "description": "",
                        "description_tooltip": null,
                        "layout": "IPY_MODEL_b458d6fa793d4fa080b9f1e5013af3de",
                        "placeholder": "​",
                        "style": "IPY_MODEL_119d6d7a8d524aa49170f5784ebc6b9e",
                        "value": " 1.36M/1.36M [00:00&lt;00:00, 30.3MB/s]"
                    }
                },
                "fbd7219af1924d2ead5310eb7b35aab0": {
                    "model_module": "@jupyter-widgets/controls",
                    "model_module_version": "1.5.0",
                    "model_name": "DescriptionStyleModel",
                    "state": {
                        "_model_module": "@jupyter-widgets/controls",
                        "_model_module_version": "1.5.0",
                        "_model_name": "DescriptionStyleModel",
                        "_view_count": null,
                        "_view_module": "@jupyter-widgets/base",
                        "_view_module_version": "1.2.0",
                        "_view_name": "StyleView",
                        "description_width": ""
                    }
                },
                "fd8b887c1f7149f2876cf8a31e534ad6": {
                    "model_module": "@jupyter-widgets/controls",
                    "model_module_version": "1.5.0",
                    "model_name": "DescriptionStyleModel",
                    "state": {
                        "_model_module": "@jupyter-widgets/controls",
                        "_model_module_version": "1.5.0",
                        "_model_name": "DescriptionStyleModel",
                        "_view_count": null,
                        "_view_module": "@jupyter-widgets/base",
                        "_view_module_version": "1.2.0",
                        "_view_name": "StyleView",
                        "description_width": ""
                    }
                },
                "fe39f994fa9b4d7daa232e1dcd2b0e8b": {
                    "model_module": "@jupyter-widgets/controls",
                    "model_module_version": "1.5.0",
                    "model_name": "ProgressStyleModel",
                    "state": {
                        "_model_module": "@jupyter-widgets/controls",
                        "_model_module_version": "1.5.0",
                        "_model_name": "ProgressStyleModel",
                        "_view_count": null,
                        "_view_module": "@jupyter-widgets/base",
                        "_view_module_version": "1.2.0",
                        "_view_name": "StyleView",
                        "bar_color": null,
                        "description_width": ""
                    }
                },
                "ff32a3f12e814740a1cd5dd12bd731d4": {
                    "model_module": "@jupyter-widgets/base",
                    "model_module_version": "1.2.0",
                    "model_name": "LayoutModel",
                    "state": {
                        "_model_module": "@jupyter-widgets/base",
                        "_model_module_version": "1.2.0",
                        "_model_name": "LayoutModel",
                        "_view_count": null,
                        "_view_module": "@jupyter-widgets/base",
                        "_view_module_version": "1.2.0",
                        "_view_name": "LayoutView",
                        "align_content": null,
                        "align_items": null,
                        "align_self": null,
                        "border": null,
                        "bottom": null,
                        "display": null,
                        "flex": null,
                        "flex_flow": null,
                        "grid_area": null,
                        "grid_auto_columns": null,
                        "grid_auto_flow": null,
                        "grid_auto_rows": null,
                        "grid_column": null,
                        "grid_gap": null,
                        "grid_row": null,
                        "grid_template_areas": null,
                        "grid_template_columns": null,
                        "grid_template_rows": null,
                        "height": null,
                        "justify_content": null,
                        "justify_items": null,
                        "left": null,
                        "margin": null,
                        "max_height": null,
                        "max_width": null,
                        "min_height": null,
                        "min_width": null,
                        "object_fit": null,
                        "object_position": null,
                        "order": null,
                        "overflow": null,
                        "overflow_x": null,
                        "overflow_y": null,
                        "padding": null,
                        "right": null,
                        "top": null,
                        "visibility": null,
                        "width": null
                    }
                }
            }
        }
    },
    "nbformat": 4,
    "nbformat_minor": 5
}