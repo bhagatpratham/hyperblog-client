{
 "cells": [
  {
   "cell_type": "markdown",
   "id": "954e61ed-b3b3-4445-af90-19046f6c1da2",
   "metadata": {
    "tags": []
   },
   "source": [
    "# Sub Question Query Engine\n",
    "In this tutorial, we showcase how to use a **sub question query engine** to tackle the problem of answering a complex query using multiple data sources.  \n",
    "It first breaks down the complex query into sub questions for each relevant data source,\n",
    "then gather all the intermediate reponses and synthesizes a final response."
   ]
  },
  {
   "cell_type": "markdown",
   "id": "75ac0675-cde6-49ae-bfb3-4c43e6c4a718",
   "metadata": {},
   "source": [
    "### Preparation"
   ]
  },
  {
   "cell_type": "code",
   "execution_count": 9,
   "id": "c3675b87-4d08-4f59-a971-48bf67c66ad0",
   "metadata": {
    "tags": []
   },
   "outputs": [],
   "source": [
    "from llama_index import GPTVectorStoreIndex, SimpleDirectoryReader\n",
    "from llama_index.tools import QueryEngineTool, ToolMetadata\n",
    "from llama_index.query_engine import SubQuestionQueryEngine"
   ]
  },
  {
   "cell_type": "code",
   "execution_count": 10,
   "id": "22b8b519-dd95-4dfb-9cdc-cb0004852036",
   "metadata": {
    "tags": []
   },
   "outputs": [],
   "source": [
    "# load data\n",
    "pg_essay = SimpleDirectoryReader(input_dir=\"../data/paul_graham/\").load_data()\n",
    "\n",
    "# build index and query engine\n",
    "query_engine = GPTVectorStoreIndex.from_documents(pg_essay).as_query_engine()"
   ]
  },
  {
   "cell_type": "markdown",
   "id": "484cb516-6692-4d07-9bd8-93941909b459",
   "metadata": {},
   "source": [
    "### Setup sub question query engine"
   ]
  },
  {
   "cell_type": "code",
   "execution_count": 16,
   "id": "dbff0cbd-9a1a-4acc-9870-03d05640125c",
   "metadata": {
    "tags": []
   },
   "outputs": [],
   "source": [
    "# setup base query engine as tool\n",
    "query_engine_tools = [\n",
    "    QueryEngineTool(\n",
    "        query_engine=query_engine, \n",
    "        metadata=ToolMetadata(name='pg_essay', description='Paul Graham essay on What I Worked On')\n",
    "    )\n",
    "]\n",
    "\n",
    "query_engine = SubQuestionQueryEngine.from_defaults(query_engine_tools=query_engine_tools)"
   ]
  },
  {
   "cell_type": "markdown",
   "id": "eeea8e15-78ab-4f72-a380-1a76bb5d5737",
   "metadata": {
    "tags": []
   },
   "source": [
    "### Run queries"
   ]
  },
  {
   "cell_type": "code",
   "execution_count": 17,
   "id": "a576ce5e-a6d1-470d-be51-84fbb31b4aa2",
   "metadata": {
    "tags": []
   },
   "outputs": [
    {
     "name": "stdout",
     "output_type": "stream",
     "text": [
      "Generated 2 sub questions.\n",
      "\u001b[36;1m\u001b[1;3m[pg_essay] Q: What did Paul Graham work on before YC?\n",
      "\u001b[0m\u001b[33;1m\u001b[1;3m[pg_essay] Q: What did Paul Graham work on after YC?\n",
      "\u001b[0mGenerated 1 sub questions.\n",
      "\u001b[36;1m\u001b[1;3m[pg_essay] Q: What did Paul Graham work on after YC?\n",
      "\u001b[0m\u001b[36;1m\u001b[1;3m[pg_essay] A: \n",
      "After YC, Paul Graham continued to write essays and work on other projects. He wrote Hacker News in Arc, and worked on a new version of Arc with Robert Morris. He also worked on other projects, such as trying to learn the most he could about startups in the shortest possible time.\n",
      "\u001b[0m\u001b[33;1m\u001b[1;3m[pg_essay] A: \n",
      "After YC, Paul Graham worked on writing essays, creating Hacker News in Arc, working on a new version of Arc with Robert Morris, and learning as much as he could about startups.\n",
      "\u001b[0mGenerated 1 sub questions.\n",
      "\u001b[36;1m\u001b[1;3m[pg_essay] Q: What did Paul Graham work on before YC?\n",
      "\u001b[0m\u001b[36;1m\u001b[1;3m[pg_essay] A: \n",
      "Before YC, Paul Graham worked on hacking, writing essays, and a new version of Arc. He was also working on a news aggregator for startup founders called Startup News, which he later changed to Hacker News.\n",
      "\u001b[0m\u001b[36;1m\u001b[1;3m[pg_essay] A: \n",
      "Before YC, Paul Graham worked on hacking, writing essays, a new version of Arc, and a news aggregator for startup founders called Startup News (later changed to Hacker News).\n",
      "\u001b[0m"
     ]
    }
   ],
   "source": [
    "response = await query_engine.aquery('How was Paul Grahams life different before and after YC?')"
   ]
  },
  {
   "cell_type": "code",
   "execution_count": 18,
   "id": "222d16a7-089a-4de0-b551-fcd785f3eb26",
   "metadata": {},
   "outputs": [
    {
     "name": "stdout",
     "output_type": "stream",
     "text": [
      "\n",
      "Before YC, Paul Graham worked mainly on hacking, writing essays, and creating a news aggregator for startup founders. After YC, Paul Graham shifted his focus to writing essays, creating Hacker News in Arc, working on a new version of Arc with Robert Morris, and learning as much as he could about startups. This shift in focus reflects a change in Paul Graham's life from mainly working on coding and writing to focusing more on startups and learning about the industry.\n"
     ]
    }
   ],
   "source": [
    "print(response)"
   ]
  }
 ],
 "metadata": {
  "kernelspec": {
   "display_name": "Python 3 (ipykernel)",
   "language": "python",
   "name": "python3"
  },
  "language_info": {
   "codemirror_mode": {
    "name": "ipython",
    "version": 3
   },
   "file_extension": ".py",
   "mimetype": "text/x-python",
   "name": "python",
   "nbconvert_exporter": "python",
   "pygments_lexer": "ipython3",
   "version": "3.9.16"
  }
 },
 "nbformat": 4,
 "nbformat_minor": 5
}
